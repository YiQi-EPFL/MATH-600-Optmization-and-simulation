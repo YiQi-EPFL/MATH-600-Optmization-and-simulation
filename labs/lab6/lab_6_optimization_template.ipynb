{
 "cells": [
  {
   "cell_type": "markdown",
   "metadata": {},
   "source": [
    "**Submitted by `your_name` on `date_of_submission`**"
   ]
  },
  {
   "cell_type": "markdown",
   "metadata": {},
   "source": [
    "# Optimization Exercises\n",
    "\n",
    "This notebook was written by Selin Ataç and edited by Dr. Léa Ricard (lea.ricard@epfl.ch) for the Optimization and Simulation course at EPFL (https://edu.epfl.ch/studyplan/en/doctoral_school/civil-and-environmental-engineering/coursebook/optimization-and-simulation-MATH-600). \n",
    "\n",
    "Please contact before distributing or reusing the material below."
   ]
  },
  {
   "cell_type": "markdown",
   "metadata": {},
   "source": [
    "\n",
    "## Table of Contents\n",
    "* [Travelling Salesman Problem](#Travelling-Salesman-Problem)\n",
    "    * [Problem definition and encoding](#Problem-definition)\n",
    "    * [Implementation: The core functionality](#Implementation)\n",
    "* [Optimization Algorithms](#Optimization-algorithms)\n",
    "    * [Exercise 1: Full enumeration](#Exercise-1:-Full-enumeration)\n",
    "    * [Exercise 2: Greedy algorithm](#Exercise-2:-Greedy-algorithm)\n",
    "    * [Exercise 3: Local search](#Exercise-3:-Local-search)\n",
    "    * [Exercise 4: Variable Neighborhood Search](#Exercise-4:-Variable-Neighborhood-Search)\n",
    "    * [Exercise 5: Simulated annealing](#Exercise-5:-Simulated-annealing)\n",
    "* [Testing the optimization algorithms and solution profiling](#Testing-the-optimization-algorithms-and-solution-profiling)"
   ]
  },
  {
   "cell_type": "markdown",
   "metadata": {},
   "source": [
    "## Travelling Salesman Problem\n",
    "\n",
    "### Problem definition\n",
    "\n",
    "- A salesman must visit $n$ cities.\n",
    "- Every city must be visited exactly once.\n",
    "- The salesman starts and ends the trip at their home city.\n",
    "- The total trip length is assumed to be the cost of the travel."
   ]
  },
  {
   "cell_type": "markdown",
   "metadata": {},
   "source": [
    "### Objective\n",
    "\n",
    "What sequence of cities minimizes the travel cost?"
   ]
  },
  {
   "cell_type": "markdown",
   "metadata": {},
   "source": [
    "### Problem encoding\n",
    "\n",
    "We consecutively number the cities: $0,..., n$\n",
    "\n",
    "We encode the solutions as $x=(x_0, x_1,..., x_n, x_0)$ where\n",
    "\n",
    "- $x_0$ is the index of the home city,\n",
    "- $x_i$ is the index of the $i^{th}$ city visited along the way, and\n",
    "- $x_n$ is the index of the last city visited before returning home."
   ]
  },
  {
   "cell_type": "markdown",
   "metadata": {},
   "source": [
    "### Implementation"
   ]
  },
  {
   "cell_type": "markdown",
   "metadata": {},
   "source": [
    "#### The required python libraries\n",
    "You will use the following python libraries in this exercise: `numpy`, `plotly`. Install it using `pip` on your command line:\n",
    "\n",
    "    pip install numpy plotly\n",
    "\n",
    "or if you are using conda:\n",
    "\n",
    "    conda install numpy\n",
    "    conda install -c plotly plotly"
   ]
  },
  {
   "cell_type": "code",
   "execution_count": 1,
   "metadata": {
    "tags": [
     "hide-cell"
    ],
    "ExecuteTime": {
     "end_time": "2024-05-06T08:41:18.429413Z",
     "start_time": "2024-05-06T08:41:18.147857Z"
    }
   },
   "outputs": [],
   "source": [
    "import numpy as np\n",
    "import pandas as pd\n",
    "from numpy import sqrt\n",
    "import plotly\n",
    "import plotly.graph_objects as go\n",
    "import time\n",
    "import timeit\n",
    "import math\n",
    "\n",
    "from numpy.random import Generator, PCG64 \n",
    "from plotly.subplots import make_subplots"
   ]
  },
  {
   "cell_type": "markdown",
   "metadata": {},
   "source": [
    "### The core functionality\n",
    "\n",
    "Before we optimize the path of the salesman, we need to construct several functions to help us simulate and display the path of the salesman.\n",
    "\n",
    "Begin by implementing a function for simulating city locations on an x-y grid. \n",
    "At the end of this step, you will be able to generate a plot of cities on an x-y coordinate plot, path of the salesman, and a list of tuples representing the location of the cities."
   ]
  },
  {
   "cell_type": "markdown",
   "metadata": {},
   "source": [
    "1. Implement a function `simulate_cities(rg, n_cities)` which takes as input: \n",
    "  - `rg` : a numpy random generator object with a specified seed value\n",
    "  - `n_cities`: an integer for the number of cities to generate\n",
    " \n",
    " The return of the function should be a dictionary of tuples, e.g., `{0: (x0,y0), 1: (x1,y1), ..., n: (xn,yn)}`"
   ]
  },
  {
   "cell_type": "code",
   "execution_count": 2,
   "metadata": {
    "ExecuteTime": {
     "end_time": "2024-05-06T08:41:29.825488Z",
     "start_time": "2024-05-06T08:41:29.812032Z"
    }
   },
   "outputs": [],
   "source": [
    "def simulate_cities(rg, n_cities):\n",
    "    \"\"\"Function to implement\n",
    "\n",
    "    Args:\n",
    "        rg (Generator object): a numpy random generator object with a specified seed value\n",
    "        n_cities (int) : an integer for the number of cities to generate\n",
    "        \n",
    "    Returns:\n",
    "        cities (dict): data structure that contains supplementary \n",
    "            information about the problem, in particular the xy-coordinates of the \n",
    "            cities.\n",
    "    \n",
    "    Example:\n",
    "        rg = Generator(PCG64(42069))\n",
    "        simulate_cities(rg, 2)\n",
    "        >>> {0: (2.4, 1.4), 1: (0.2, 3.5)}   \n",
    "    \"\"\"  \n",
    "    # Implement your solution here\n",
    "    \n",
    "    return cities"
   ]
  },
  {
   "cell_type": "markdown",
   "metadata": {},
   "source": [
    "#### Test the function `simulate_cities(rg, n_cities)`"
   ]
  },
  {
   "cell_type": "code",
   "execution_count": 3,
   "metadata": {
    "scrolled": true,
    "ExecuteTime": {
     "end_time": "2024-04-18T09:12:54.756491Z",
     "start_time": "2024-04-18T09:12:54.453426Z"
    }
   },
   "outputs": [
    {
     "ename": "NameError",
     "evalue": "name 'cities' is not defined",
     "output_type": "error",
     "traceback": [
      "\u001B[0;31m---------------------------------------------------------------------------\u001B[0m",
      "\u001B[0;31mNameError\u001B[0m                                 Traceback (most recent call last)",
      "Cell \u001B[0;32mIn[3], line 2\u001B[0m\n\u001B[1;32m      1\u001B[0m rg \u001B[38;5;241m=\u001B[39m Generator(PCG64(\u001B[38;5;241m42069\u001B[39m)) \u001B[38;5;66;03m# set your own unique seed number\u001B[39;00m\n\u001B[0;32m----> 2\u001B[0m simulate_cities(rg, \u001B[38;5;241m10\u001B[39m)\n",
      "Cell \u001B[0;32mIn[2], line 20\u001B[0m, in \u001B[0;36msimulate_cities\u001B[0;34m(rg, n_cities)\u001B[0m\n\u001B[1;32m      2\u001B[0m \u001B[38;5;250m\u001B[39m\u001B[38;5;124;03m\"\"\"Function to implement\u001B[39;00m\n\u001B[1;32m      3\u001B[0m \n\u001B[1;32m      4\u001B[0m \u001B[38;5;124;03mArgs:\u001B[39;00m\n\u001B[0;32m   (...)\u001B[0m\n\u001B[1;32m     16\u001B[0m \u001B[38;5;124;03m    >>> {0: (2.4, 1.4), 1: (0.2, 3.5)}   \u001B[39;00m\n\u001B[1;32m     17\u001B[0m \u001B[38;5;124;03m\"\"\"\u001B[39;00m  \n\u001B[1;32m     18\u001B[0m \u001B[38;5;66;03m# Implement your solution here\u001B[39;00m\n\u001B[0;32m---> 20\u001B[0m \u001B[38;5;28;01mreturn\u001B[39;00m cities\n",
      "\u001B[0;31mNameError\u001B[0m: name 'cities' is not defined"
     ]
    }
   ],
   "source": [
    "rg = Generator(PCG64(42069)) # set your own unique seed number\n",
    "simulate_cities(rg, 10)"
   ]
  },
  {
   "cell_type": "markdown",
   "metadata": {},
   "source": [
    "2. Implement a function `draw_salesman(path, cities)` which takes as input:\n",
    "  - `path`: a list of integers which represents the sequence of cities visited, e.g. `[0,1,3,2,4,0]` \n",
    "  - `cities`: a dictionary of city x-y coordinates, keyed by the number of the city, use the return value of the `simulate_cities()` function as example: `{0: (x0,y0), 1: (x1,y1), ..., n: (xn,yn)}`\n",
    "  \n",
    " The return of the function should display a visualization of the cities visited."
   ]
  },
  {
   "cell_type": "code",
   "execution_count": null,
   "metadata": {},
   "outputs": [],
   "source": [
    "def draw_salesman(path, cities, title=\"Path taken\"):\n",
    "    \"\"\"Function to implement\n",
    "\n",
    "    Args:\n",
    "        path (list): a row vector representing the solution to be evaluated\n",
    "        cities (dict): data structure that contains supplementary \n",
    "            information about the problem, in particular the xy-coordinates of the \n",
    "            cities.\n",
    "        **kwargs: arbitrary keyword arguments (optional variables)\n",
    "    \"\"\"  \n",
    "    # Implement your solution here"
   ]
  },
  {
   "cell_type": "markdown",
   "metadata": {},
   "source": [
    "#### Test the function `draw_salesman(path, cities)`"
   ]
  },
  {
   "cell_type": "code",
   "execution_count": null,
   "metadata": {},
   "outputs": [],
   "source": [
    "rg = Generator(PCG64(42069)) # set your own unique seed number\n",
    "n_cities = 10\n",
    "cities = simulate_cities(rg, n_cities) # simulate the list of cities\n",
    "print(cities)\n",
    "solution = list(range(0, n_cities)) # sample solution of the path of the salesman\n",
    "solution.append(solution[0])\n",
    "draw_salesman(solution, cities) # draw salesman"
   ]
  },
  {
   "cell_type": "markdown",
   "metadata": {},
   "source": [
    "3. Implement a function `evaluate_city_sequence(path, cities)` which takes as input:\n",
    "  - `path`: a list of integers which represents the sequence of cities visited, e.g. `[0,1,3,2,4,0]` \n",
    "  - `cities`: the dict of cities {n: (x, y)}\n",
    "\n",
    "The return of the function should be the **total length of the travelled path**.\n",
    "  \n",
    "We use the Euclidean distance to calculate the distance between each city, including the distance from the final visited city back to the home city."
   ]
  },
  {
   "cell_type": "code",
   "execution_count": null,
   "metadata": {},
   "outputs": [],
   "source": [
    "def evaluate_city_sequence(path, cities, **kwargs):\n",
    "    \"\"\"Function to implement\n",
    "\n",
    "    Returns the total length of the travelled path.\n",
    "\n",
    "    Args:\n",
    "        path (list): a row vector representing the solution to be evaluated\n",
    "        cities (dict): data structure that contains supplementary \n",
    "            information about the problem, in particular the xy-coordinates of the \n",
    "            cities.\n",
    "        **kwargs: arbitrary keyword arguments (optional variables)\n",
    "    \n",
    "    Returns:\n",
    "        Q (float): a scalar representing the value of a path's objective function (i.e., the total\n",
    "            distance travelled)\n",
    "    \n",
    "    Example:\n",
    "        cities = {0: (2.4, 1.4), 1: (0.2, 3.5)}\n",
    "        calculated = evaluate_city_sequence([0, 1], cities)\n",
    "        print(calculated)\n",
    "        >>> 3.041381\n",
    "    \"\"\"  \n",
    "   \n",
    "    # Implement your solution here\n",
    "    return Q\n",
    "    "
   ]
  },
  {
   "cell_type": "markdown",
   "metadata": {},
   "source": [
    "**Test the function `evaluate_city_sequence(x, cities=None, **kwargs)`** and verify that the calculation is correct."
   ]
  },
  {
   "cell_type": "code",
   "execution_count": null,
   "metadata": {
    "scrolled": true,
    "tags": [
     "hide-cell"
    ]
   },
   "outputs": [],
   "source": [
    "def evaluate_city_sequence_test(cities={0: (0, 0), 1: (1, 1)}):\n",
    "    \"\"\"Very simple test\n",
    "    \n",
    "    Salesman starts at city zero with coordinates(0, 0), travels to city one with \n",
    "    coordinates(1, 1), and then returns to city zero.\n",
    "    \"\"\"\n",
    "\n",
    "    # expected distance travelled\n",
    "    expected = 2 * np.sqrt(2);\n",
    "    \n",
    "    # call your objective function\n",
    "    calculated = evaluate_city_sequence([0, 1, 0], cities)\n",
    "    \n",
    "    # show your results\n",
    "    results = print(\n",
    "        'Expected={0:.3f}, Calculated={1:.3f}'.format(expected, calculated)\n",
    "    )\n",
    "    if abs(expected-calculated) < 1e-6:\n",
    "        print('OK')\n",
    "    else:\n",
    "        print('NOT CORRECT')\n",
    "\n",
    "evaluate_city_sequence_test()"
   ]
  },
  {
   "cell_type": "markdown",
   "metadata": {},
   "source": [
    "## Optimization algorithms"
   ]
  },
  {
   "cell_type": "markdown",
   "metadata": {},
   "source": [
    "### Optimize traveling salesman path\n",
    "\n",
    "We want to optimize the path taken by a travelling salesman. \n",
    "First, implement a function `randomly_generate_new_city_seq()` that randomly generates a path sequence. This funtion will serve as a benchmark to test \"smarter\" algorithms.\n",
    "We assume that the salesman always starts and ends in city `0`.\n",
    "\n",
    "A very simple example is a full (random) enumeration of the cities."
   ]
  },
  {
   "cell_type": "code",
   "execution_count": null,
   "metadata": {},
   "outputs": [],
   "source": [
    "def randomly_generate_new_city_seq(rg, path, cities=None, **kwargs):\n",
    "    \"\"\"Function to implement\n",
    "\n",
    "    Returns a permutation of the row vector \"path\", where the first and last elements\n",
    "    of \"path\" stay unchanged. Implement different specifications. For example:\n",
    "    - exchanges two randomly selected entries of \"path\"\n",
    "\n",
    "    Args:\n",
    "        rg (Generator object) : a numpy random generator object with a specified seed value\n",
    "        path (list): a row vector representing the current city sequence\n",
    "        cities (dict, optional): data structure that contains supplementary \n",
    "            information about the problem, in particular the coordinates of the \n",
    "            cities.\n",
    "        **kwargs: arbitrary keyword arguments (optional variables)\n",
    "    \n",
    "    Returns:\n",
    "        new_path (list): a row vector with a permutation of \"path\", where the first and last\n",
    "        elements of \"new_path\" are the first and last elements of \"path\", respectively.\n",
    "    \n",
    "    Example:\n",
    "        path = [0, 1, 2, 3, 4, 5]\n",
    "        new_path = randomly_generate_new_city_seq(path)\n",
    "        print(new_path)\n",
    "        >>> [0, 1, 3, 2, 4, 5]\n",
    "    \"\"\"   \n",
    "    new_path = np.array(path.copy()) # make a copy of path\n",
    "    \n",
    "    # Implement your solution here\n",
    "    \n",
    "    return list(new_path)\n",
    "    "
   ]
  },
  {
   "cell_type": "markdown",
   "metadata": {},
   "source": [
    "#### Test the function"
   ]
  },
  {
   "cell_type": "code",
   "execution_count": null,
   "metadata": {},
   "outputs": [],
   "source": [
    "rg = Generator(PCG64(42069)) # set your own unique seed number\n",
    "n_cities = 20\n",
    "cities = simulate_cities(rg, n_cities)\n",
    "print(cities)\n",
    "path = [0,1,2,3,4,5,6,7,8,9,10,11,12,13,14,15,16,17,18,19,0]\n",
    "print(path)\n",
    "rg = Generator(PCG64(42070))\n",
    "path = randomly_generate_new_city_seq(rg, path)\n",
    "print(path)\n",
    "draw_salesman(path, cities)"
   ]
  },
  {
   "cell_type": "markdown",
   "metadata": {},
   "source": [
    "### Algorithms\n",
    "\n",
    "Notice in our sample solution, it was not ideal and the salesman's path criss-crossed. Our goal is to minimize the total distance travelled by the salesman, while visiting all the cities.\n",
    "\n",
    "We can use the total path travelled as our **objective function**. Recall the function `evaluate_city_sequence()`, this is our objective function.\n",
    "\n",
    "Now let us integrate `evaluate_city_sequence()` in the **full enumeration** algorithm. This is a simple trial and error method."
   ]
  },
  {
   "cell_type": "markdown",
   "metadata": {},
   "source": [
    "### Exercise 1: Full enumeration\n",
    "\n",
    "Functions to implement:\n",
    "\n",
    "`full_enumeration()`\n",
    "\n",
    "Calculate the computational time and limitations of the full enumeration.\n",
    "\n",
    "What is the maximum problem size (number of cities) that you could solve with this approach?"
   ]
  },
  {
   "cell_type": "code",
   "execution_count": null,
   "metadata": {},
   "outputs": [],
   "source": [
    "from itertools import permutations"
   ]
  },
  {
   "cell_type": "code",
   "execution_count": null,
   "metadata": {},
   "outputs": [],
   "source": [
    "def full_enumeration(cities, **kwargs):\n",
    "    \"\"\"Function to implement\n",
    "\n",
    "    Enumeratesall possible permutations of the cities and return the best solution minimizing distance travelled.\n",
    "\n",
    "    Args:\n",
    "        cities (dict, optional): data structure that contains supplementary \n",
    "            information about the problem, in particular the xy-coordinates of the \n",
    "            cities.\n",
    "        **kwargs: arbitrary keyword arguments (optional variables)\n",
    "    \n",
    "    Returns:\n",
    "        best_path (list): a row vector representing the minimum cost city sequence\n",
    "        best_path_cost (float): a scalar representing the objective function value of the best path\n",
    "    \n",
    "    \"\"\"  \n",
    "    \n",
    "    # implement your own solution here\n",
    "\n",
    "    return best_path, best_path_cost"
   ]
  },
  {
   "cell_type": "code",
   "execution_count": null,
   "metadata": {},
   "outputs": [],
   "source": [
    "# Test\n",
    "rg = Generator(PCG64(42069)) # set your own unique seed number\n",
    "n_cities = 10\n",
    "cities = simulate_cities(rg, n_cities) # simulate the list of cities\n",
    "start_time = time.time()  # Record start time\n",
    "solution, distance = full_enumeration(cities)\n",
    "end_time = time.time()  # Record end time\n",
    "print(\"best solution:\", solution)\n",
    "print(\"distance travelled:\", distance)\n",
    "print(\"Computing time:\", end_time - start_time, \"seconds\")\n",
    "\n",
    "draw_salesman(solution, cities)"
   ]
  },
  {
   "cell_type": "markdown",
   "metadata": {},
   "source": [
    "### Exercise 2: Greedy algorithm\n",
    "\n",
    "**Principles:**\n",
    "- At each step, a decision is made that depends on the previous decision.\n",
    "- It is easy to implement, but may generate poor solutions.\n",
    "\n",
    "**The algorithm:**\n",
    "1. Start from home city\n",
    "2. Select the next closest city\n",
    "3. Repeat 2 until all cities have been visited\n",
    "4. Return to home city\n",
    "\n",
    "Implement this algorithm in your own Python notebook and test it out. Try to reuse portions of the code in the first exercise.\n",
    "\n",
    "The function to implement:\n",
    "\n",
    "`greedy()`\n",
    "\n",
    "Calculate the computational time.\n",
    "\n",
    "Profile your greedy algorithm and compare it with the full enumeration algorithm. What do you observe? Explain the pros and cons of each method."
   ]
  },
  {
   "cell_type": "code",
   "execution_count": null,
   "metadata": {},
   "outputs": [],
   "source": [
    "def greedy(cities, **kwargs):\n",
    "    \"\"\"Function to implement\n",
    "\n",
    "    Returns a good solution that minimizes distance travelled.\n",
    "\n",
    "    Args:\n",
    "        cities (dict, optional): data structure that contains supplementary \n",
    "            information about the problem, in particular the xy-coordinates of the \n",
    "            cities.\n",
    "        **kwargs: arbitrary keyword arguments (optional variables)\n",
    "    \n",
    "    Returns:\n",
    "        path (list): a row vector representing a feasible city sequence\n",
    "        path_cost (float): a scalar representing the objective function value of the path outputted\n",
    "    \n",
    "    \"\"\" \n",
    "    \n",
    "    # implement your own solution here\n",
    "    \n",
    "    return path, path_cost\n",
    "    "
   ]
  },
  {
   "cell_type": "code",
   "execution_count": null,
   "metadata": {},
   "outputs": [],
   "source": [
    "# Test\n",
    "rg = Generator(PCG64(42069)) # set your own unique seed number\n",
    "n_cities = 10\n",
    "cities = simulate_cities(rg, n_cities)\n",
    "start_time = time.time()  # Record start time\n",
    "solution, distance = greedy(cities) # new input parameter K\n",
    "end_time = time.time()  # Record end time\n",
    "print(\"best solution:\", solution)\n",
    "print(\"distance travelled:\", distance)\n",
    "print(\"Computing time:\", end_time - start_time, \"seconds\")\n",
    "\n",
    "draw_salesman(solution, cities)"
   ]
  },
  {
   "cell_type": "markdown",
   "metadata": {},
   "source": [
    "### Exercise 3: Local search\n",
    "\n",
    "A local search algorithm iteratively explores neighboring solutions to improve upon an initial candidate, aiming to find the optimal solution by making incremental changes.\n",
    "\n",
    "**Input**: \n",
    "\n",
    "$V(x)$: Neighbourhood structure, where $V(x)$ is the set of feasible neighbors of $x$. Use the 2-OPT neighborhod method.\n",
    "\n",
    "**Initialization**: \n",
    "- $x_0$: use the outcome of the greedy algorithm\n",
    "\n",
    "**Iterations**: \n",
    "- At each iteration $k$, consider the neighbors in $V(x_k)$ one at a time\n",
    "- For each $y \\in V(x_k)$, if $f(y) \\leq f(x_k)$, then $x_{k+1} = y$\n",
    "- If $f(y) > f(x_k), \\forall y \\in V(x_k)$, $x_k$ is a local minimum. Stop."
   ]
  },
  {
   "cell_type": "markdown",
   "metadata": {},
   "source": [
    "Functions to implement:\n",
    "\n",
    "`twoOPT_neighborhood()`\n",
    "\n",
    "`local_search()`\n",
    "\n",
    "Calculate the computational time."
   ]
  },
  {
   "cell_type": "code",
   "execution_count": null,
   "metadata": {},
   "outputs": [],
   "source": [
    "def twoOPT_neighborhood(x, cities=None, **kwargs):\n",
    "    \"\"\"Function to implement\n",
    "\n",
    "    Returns the 2-OPT neighborhoods of a path. \n",
    "\n",
    "    Args:\n",
    "        x : a row vector representing the current city sequence\n",
    "        cities (dict, optional): data structure that contains supplementary \n",
    "            information about the problem, in particular the xy-coordinates of the \n",
    "            cities.\n",
    "        **kwargs: arbitrary keyword arguments (optional variables)\n",
    "    \n",
    "    Returns:\n",
    "        neighbors (numpy matrix): a matrix representing all paths in the neighborhood of x\n",
    "    \n",
    "    \"\"\"\n",
    "    \n",
    "    # implement your own solution here\n",
    "    \n",
    "    return neighbors\n",
    "    \n",
    "    \n",
    "\n",
    "def local_search(cities, **kwargs):\n",
    "    \"\"\"Function to implement\n",
    "\n",
    "     Returns a local minimum to the traveling salesman problem\n",
    "\n",
    "    Args:\n",
    "        cities (dict, optional): data structure that contains supplementary \n",
    "            information about the problem, in particular the xy-coordinates of the \n",
    "            cities.\n",
    "        **kwargs: arbitrary keyword arguments (optional variables)\n",
    "    \n",
    "    Returns:\n",
    "        x:  a row vector representing a local minimum city sequence\n",
    "        objValue_x: a scalar representing the objective function value of the path outputted\n",
    "    \n",
    "    \"\"\"\n",
    "    \n",
    "    # implement your own solution here\n",
    "    \n",
    "    return x, objValue_x\n",
    "    "
   ]
  },
  {
   "cell_type": "markdown",
   "metadata": {},
   "source": [
    "#### Test the function"
   ]
  },
  {
   "cell_type": "code",
   "execution_count": null,
   "metadata": {},
   "outputs": [],
   "source": [
    "# Test\n",
    "rg = Generator(PCG64(42069)) # set your own unique seed number\n",
    "n_cities = 10\n",
    "cities = simulate_cities(rg, n_cities)\n",
    "start_time = time.time()  # Record start time\n",
    "solution, distance = local_search(cities, iterations=1000)\n",
    "end_time = time.time()  # Record end time\n",
    "print(\"best solution:\", solution)\n",
    "print(\"distance travelled:\", distance)\n",
    "print(\"Computing time:\", end_time - start_time, \"seconds\")\n",
    "\n",
    "draw_salesman(solution, cities)"
   ]
  },
  {
   "cell_type": "markdown",
   "metadata": {},
   "source": [
    "### Exercise 4: Variable Neighborhood Search\n",
    "\n",
    "In the variable neighborhood search, we consider several neighborhood structures.\n",
    "\n",
    "When a local optimum has been found for a given neighborhood structure, continue with another structure.\n",
    "\n",
    "**Input**: \n",
    "\n",
    "$V_1, V_2, ..., V_K$: Neighbourhood structures\n",
    "where $K$ is the total number of neighborhood structures\n",
    "\n",
    "**Initialization**: \n",
    "- $x_c \\leftarrow x_0$ (initial solution)\n",
    "- $k\\leftarrow 0$ "
   ]
  },
  {
   "cell_type": "markdown",
   "metadata": {},
   "source": [
    "Functions to implement:\n",
    "\n",
    "`neighborhood_1()`\n",
    "\n",
    "`neighborhood_2()`\n",
    "\n",
    "`neighborhood_...()`\n",
    "\n",
    "`neighborhood_k()`\n",
    "\n",
    "`variable_neighborhood_search()`\n",
    "\n",
    "Calculate the computational time."
   ]
  },
  {
   "cell_type": "code",
   "execution_count": null,
   "metadata": {},
   "outputs": [],
   "source": [
    "def neighborhood_1(x, cities=None, **kwargs):\n",
    "    \"\"\"Function to implement\n",
    "\n",
    "    Select a neighborhood structure of your choice. This function returns the neighbors of a path. \n",
    "\n",
    "    Args:\n",
    "        x : a row vector representing the current city sequence\n",
    "        cities (dict, optional): data structure that contains supplementary \n",
    "            information about the problem, in particular the xy-coordinates of the \n",
    "            cities.\n",
    "        **kwargs: arbitrary keyword arguments (optional variables)\n",
    "    \n",
    "    Returns:\n",
    "        neighbors (numpy matrix): a matrix representing all paths in the neighborhood of x\n",
    "    \"\"\"\n",
    "    \n",
    "    # implement your own solution here\n",
    "    \n",
    "    return neighbors\n",
    "    \n",
    "\n",
    "def variable_neighborhood_search(cities, iterations=600, **kwargs):\n",
    "    \"\"\"Function to implement\n",
    "\n",
    "     Returns a good feasible solution to the traveling salesman problem\n",
    "\n",
    "    Args:\n",
    "        cities (dict, optional): data structure that contains supplementary \n",
    "            information about the problem, in particular the xy-coordinates of the \n",
    "            cities.\n",
    "        iterations (int): maximum number of iterations of the algorithm\n",
    "        **kwargs: arbitrary keyword arguments (optional variables)\n",
    "    \n",
    "    Returns:\n",
    "        x:  a row vector representing a local minimum city sequence\n",
    "        objValue_x: a scalar representing the objective function value of the path outputted\n",
    "    \n",
    "    \"\"\"\n",
    "    \n",
    "    # implement your own solution here\n",
    "                    \n",
    "    return x, objValue_x\n",
    "    "
   ]
  },
  {
   "cell_type": "markdown",
   "metadata": {},
   "source": [
    "#### Test the function"
   ]
  },
  {
   "cell_type": "code",
   "execution_count": null,
   "metadata": {},
   "outputs": [],
   "source": [
    "# Test\n",
    "rg = Generator(PCG64(42069)) # set your own unique seed number\n",
    "n_cities = 10\n",
    "cities = simulate_cities(rg, n_cities)\n",
    "start_time = time.time()  # Record start time\n",
    "solution, distance = variable_neighborhood_search(cities, iterations=600)\n",
    "end_time = time.time()  # Record end time\n",
    "print(\"best solution:\", solution)\n",
    "print(\"distance travelled:\", distance)\n",
    "print(\"Computing time:\", end_time - start_time, \"seconds\")\n",
    "\n",
    "draw_salesman(solution, cities)"
   ]
  },
  {
   "cell_type": "markdown",
   "metadata": {},
   "source": [
    "### Exercise 5: Simulated annealing\n",
    "\n",
    "In simulated annealing, we consider solutions that are not better from the current best solution with a probability.\n",
    "\n",
    "***\n",
    "- Select a random solution $y \\in V(x_k)$\n",
    "- If $f(y) \\leq f(x_k)$ \n",
    "    - $x_{k+1} = y$\n",
    "- Else \n",
    "    - $x_{k+1} = y$ with probability $e^{-\\frac{f(y)-f(x_k)}{T}}$ with T > 0\n",
    "***\n",
    "\n",
    "To deal with that, one can draw $r$ from $uniform(0,1)$ distribution and accept $y$ if $e^{-\\frac{f(y)-f(x_k)}{T}} > r$."
   ]
  },
  {
   "cell_type": "markdown",
   "metadata": {},
   "source": [
    "Functions to implement:\n",
    "\n",
    "`temperature_upt()`\n",
    "\n",
    "`simulated_annealing()`\n",
    "\n",
    "Calculate the computational time."
   ]
  },
  {
   "cell_type": "code",
   "execution_count": null,
   "metadata": {},
   "outputs": [],
   "source": [
    "def temperature_upt(max_t_changes, t_changes, avg_inc_obj, accep_init, accep_final):\n",
    "    \n",
    "    # implement your own solution here\n",
    "    \n",
    "    return temperature\n",
    "\n",
    "def simulated_annealing(cities, iterations=600, **kwargs):\n",
    "    \"\"\"Function to implement\n",
    "\n",
    "     Returns a good feasible solution to the traveling salesman problem\n",
    "\n",
    "    Args:\n",
    "        cities (dict, optional): data structure that contains supplementary \n",
    "            information about the problem, in particular the xy-coordinates of the \n",
    "            cities.\n",
    "        iterations (int): maximum number of iterations of the algorithm\n",
    "        **kwargs: arbitrary keyword arguments (optional variables)\n",
    "    \n",
    "    Returns:\n",
    "        x:  a row vector representing a local minimum city sequence\n",
    "        objValue_x: a scalar representing the objective function value of the path outputted\n",
    "    \"\"\"\n",
    "\n",
    "    # define your own parameters as you desire:\n",
    "    max_t_changes=int(0.6*iterations) # Maximum number of temperature changes\n",
    "    num_itr_temp=int(0.4*iterations) # Maximum number of iterations per level of temperature\n",
    "    avg_inc_obj=0.5 # Average increase of the objective function\n",
    "    accep_init=0.999 # Initial acceptance probability\n",
    "    accep_final=0.00001 # Final acceptance probability\n",
    "    # Vary any of these parameters to change the behaviour of the optimization\n",
    "\n",
    "    # implement your own solution here\n",
    "    \n",
    "    return x, objValue_x\n",
    "        \n",
    "    "
   ]
  },
  {
   "cell_type": "markdown",
   "metadata": {},
   "source": [
    "#### Test the function"
   ]
  },
  {
   "cell_type": "code",
   "execution_count": null,
   "metadata": {},
   "outputs": [],
   "source": [
    "# Test\n",
    "rg = Generator(PCG64(42069)) # set your own unique seed number\n",
    "n_cities = 10\n",
    "cities = simulate_cities(rg, n_cities)\n",
    "start_time = time.time()  # Record start time\n",
    "solution, distance = simulated_annealing(cities, iterations = 600)\n",
    "end_time = time.time()  # Record end time\n",
    "print(\"best solution:\", solution)\n",
    "print(\"distance travelled:\", distance)\n",
    "print(\"Computing time:\", end_time - start_time, \"seconds\")\n",
    "\n",
    "draw_salesman(solution, cities)"
   ]
  },
  {
   "cell_type": "markdown",
   "metadata": {},
   "source": [
    "## Testing the optimization algorithms and solution profiling"
   ]
  },
  {
   "cell_type": "markdown",
   "metadata": {},
   "source": [
    "### Testing\n",
    "#### Test your optimization functions using `optimization_TSP_test()`"
   ]
  },
  {
   "cell_type": "code",
   "execution_count": null,
   "metadata": {
    "scrolled": false
   },
   "outputs": [],
   "source": [
    "# Run the optimization by reusing the functions simulateCities(), drawSalesman(), evaluate()\n",
    "\n",
    "def optimization_TSP_test(rg, n_cities=15, iterations=600):\n",
    "    cities = simulate_cities(rg, n_cities)\n",
    "    inital_solution = list(range(len(cities))) + [0]\n",
    "    print(cities)\n",
    "    print(\"initial solution:\", inital_solution)\n",
    "    print(\"inital distance travelled:\", evaluate_city_sequence(inital_solution, cities))\n",
    "    draw_salesman(inital_solution, cities, \"Initial Solution\") # show the inital solution\n",
    "    \n",
    "    algorithms = {\n",
    "    'Full Enumeration': full_enumeration,\n",
    "    'Greedy algorithm': greedy,\n",
    "    'Local search algorithm': local_search,\n",
    "    'Variable neighborhood search algorithm': variable_neighborhood_search,\n",
    "    'Simulated annealing algorithm': simulated_annealing\n",
    "    }\n",
    "    \n",
    "    for algorithm_name, algorithm in algorithms.items():\n",
    "        print(algorithm_name + \"\\n-----------\")\n",
    "        start_time = time.time()  # Record start time\n",
    "        solution, distance = algorithm(cities, iterations=iterations)\n",
    "        end_time = time.time()  # Record end time\n",
    "        print(\"best solution:\", solution)\n",
    "        print(\"distance travelled:\", distance)\n",
    "        print(\"Computing time:\", end_time - start_time, \"seconds\")\n",
    "        draw_salesman(solution, cities, algorithm_name)\n",
    "\n",
    "# run all\n",
    "rg = Generator(PCG64(42069)) \n",
    "optimization_TSP_test(rg, n_cities=10, iterations=600)"
   ]
  },
  {
   "cell_type": "markdown",
   "metadata": {},
   "source": [
    "---"
   ]
  },
  {
   "cell_type": "code",
   "execution_count": null,
   "metadata": {},
   "outputs": [],
   "source": []
  }
 ],
 "metadata": {
  "kernelspec": {
   "display_name": "Python 3 (ipykernel)",
   "language": "python",
   "name": "python3"
  },
  "language_info": {
   "codemirror_mode": {
    "name": "ipython",
    "version": 3
   },
   "file_extension": ".py",
   "mimetype": "text/x-python",
   "name": "python",
   "nbconvert_exporter": "python",
   "pygments_lexer": "ipython3",
   "version": "3.11.5"
  },
  "varInspector": {
   "cols": {
    "lenName": 16,
    "lenType": 16,
    "lenVar": 40
   },
   "kernels_config": {
    "python": {
     "delete_cmd_postfix": "",
     "delete_cmd_prefix": "del ",
     "library": "var_list.py",
     "varRefreshCmd": "print(var_dic_list())"
    },
    "r": {
     "delete_cmd_postfix": ") ",
     "delete_cmd_prefix": "rm(",
     "library": "var_list.r",
     "varRefreshCmd": "cat(var_dic_list()) "
    }
   },
   "types_to_exclude": [
    "module",
    "function",
    "builtin_function_or_method",
    "instance",
    "_Feature"
   ],
   "window_display": false
  }
 },
 "nbformat": 4,
 "nbformat_minor": 4
}
