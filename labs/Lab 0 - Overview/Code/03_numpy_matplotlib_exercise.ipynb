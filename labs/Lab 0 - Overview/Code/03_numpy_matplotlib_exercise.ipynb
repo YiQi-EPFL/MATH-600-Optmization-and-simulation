{
 "cells": [
  {
   "cell_type": "markdown",
   "metadata": {},
   "source": [
    "# Numpy & matplotlib\n",
    "\n",
    "This notebook was written by Tim Hillel (tim.hillel@epfl.ch) for the Decision-aid methodologies in transportation course at EPFL (http://edu.epfl.ch/coursebook/en/decision-aid-methodologies-in-transportation-CIVIL-557). \n",
    "\n",
    "Please contact before distributing or reusing the material below.\n",
    "\n",
    "\n",
    "## Overview \n",
    "\n",
    "This notebook will introduce two new Python *libraries*:\n",
    "* Numpy\n",
    "* Matplotlib"
   ]
  },
  {
   "cell_type": "markdown",
   "metadata": {},
   "source": [
    "## Numpy\n",
    "\n",
    "Data structures (e.g. `lists` and `dictionaries`) are fine for 1-D data, but what if we have data in two or more dimensions?\n",
    "\n",
    "Many (all?) of you have used Matlab - use arrays!\n",
    "\n",
    "Python has matlab-like array functionality - *numpy*\n",
    "\n",
    "Great documentation and tutorials are available for numpy: \n",
    "\n",
    "https://docs.scipy.org/doc/numpy/user/quickstart.html"
   ]
  },
  {
   "cell_type": "markdown",
   "metadata": {},
   "source": [
    "### Importing libraries\n",
    "\n",
    "Python is geared towards code reuse, and there is a huge number of libraries you can use to add functionality to Python.\n",
    "\n",
    "Anaconda has the most useful libraries for data science pre-installed, including `numpy`\n",
    "\n",
    "We can import a library using the `import` keyword, e.g.\n",
    "\n",
    "    import numpy\n",
    "    \n",
    "However, we usually give numpy the alias *np* using the keyword `as`"
   ]
  },
  {
   "cell_type": "code",
   "execution_count": 1,
   "metadata": {
    "ExecuteTime": {
     "end_time": "2024-02-22T10:41:50.478267Z",
     "start_time": "2024-02-22T10:41:50.356835Z"
    }
   },
   "outputs": [],
   "source": [
    "import numpy as np"
   ]
  },
  {
   "cell_type": "markdown",
   "metadata": {},
   "source": [
    "### Creating and manipulating arrays\n",
    "\n",
    "Unlike matlab, we need to specifically call `numpy` functions when we are using arrays in python.\n",
    "\n",
    "For example, we can create an array using the `np.array()` function with a list of lists"
   ]
  },
  {
   "cell_type": "code",
   "execution_count": 2,
   "metadata": {
    "ExecuteTime": {
     "end_time": "2024-02-22T10:41:56.089865Z",
     "start_time": "2024-02-22T10:41:56.077180Z"
    }
   },
   "outputs": [
    {
     "data": {
      "text/plain": "array([[1, 2, 3],\n       [3, 2, 1]])"
     },
     "execution_count": 2,
     "metadata": {},
     "output_type": "execute_result"
    }
   ],
   "source": [
    "np.array([[1,2,3],[3,2,1]])"
   ]
  },
  {
   "cell_type": "markdown",
   "metadata": {},
   "source": [
    "Numpy can also easily create arrays of regular format. Use the `arange` function to create a vector with the numbers 0 to 19, and store it as `a1`"
   ]
  },
  {
   "cell_type": "code",
   "execution_count": 13,
   "metadata": {
    "ExecuteTime": {
     "end_time": "2024-02-22T10:44:16.875198Z",
     "start_time": "2024-02-22T10:44:16.861853Z"
    }
   },
   "outputs": [
    {
     "data": {
      "text/plain": "array([ 0,  1,  2,  3,  4,  5,  6,  7,  8,  9, 10, 11, 12, 13, 14, 15, 16,\n       17, 18, 19])"
     },
     "execution_count": 13,
     "metadata": {},
     "output_type": "execute_result"
    }
   ],
   "source": [
    "# create vector a1\n",
    "\n",
    "a1 = np.array(np.arange(0,20))\n",
    "a1"
   ]
  },
  {
   "cell_type": "markdown",
   "metadata": {},
   "source": [
    "Arrays have lots of methods you can use with them. Use the `reshape` method to turn the array into a 4x5 array, and store it as `a2`. Can you reshape it to 7x3? What happens if you try?"
   ]
  },
  {
   "cell_type": "code",
   "execution_count": 15,
   "metadata": {
    "ExecuteTime": {
     "end_time": "2024-02-22T10:44:25.603546Z",
     "start_time": "2024-02-22T10:44:25.599254Z"
    }
   },
   "outputs": [
    {
     "data": {
      "text/plain": "array([[ 0,  1,  2,  3,  4],\n       [ 5,  6,  7,  8,  9],\n       [10, 11, 12, 13, 14],\n       [15, 16, 17, 18, 19]])"
     },
     "execution_count": 15,
     "metadata": {},
     "output_type": "execute_result"
    }
   ],
   "source": [
    "# reshape a1 to 4x5 and store the result in a2\n",
    "a2= np.reshape(a1,(4,5))\n",
    "a2"
   ]
  },
  {
   "cell_type": "markdown",
   "metadata": {},
   "source": [
    "With any 2D array, we can reshape it with -1 to get it back to a vector. Try reshaping `a2` to a vector (do not store it!)"
   ]
  },
  {
   "cell_type": "code",
   "execution_count": 16,
   "metadata": {
    "ExecuteTime": {
     "end_time": "2024-02-22T10:44:54.578852Z",
     "start_time": "2024-02-22T10:44:54.572576Z"
    }
   },
   "outputs": [
    {
     "data": {
      "text/plain": "array([ 0,  1,  2,  3,  4,  5,  6,  7,  8,  9, 10, 11, 12, 13, 14, 15, 16,\n       17, 18, 19])"
     },
     "execution_count": 16,
     "metadata": {},
     "output_type": "execute_result"
    }
   ],
   "source": [
    "np.reshape(a2,-1)"
   ]
  },
  {
   "cell_type": "markdown",
   "metadata": {},
   "source": [
    "### Indexing arrays\n",
    "\n",
    "Indexing arrays is similar to lists, except now we can specify a row and a column. \n",
    "Get the 2nd value in the 3rd row of `a2`"
   ]
  },
  {
   "cell_type": "code",
   "execution_count": null,
   "metadata": {},
   "outputs": [],
   "source": []
  },
  {
   "cell_type": "markdown",
   "metadata": {},
   "source": [
    "We can also slice arrays. Try extracting (from a2):\n",
    "* the 2nd row of the array `[5, 6, 7, 8, 9]`\n",
    "* the 3rd column of the array `[2, 7, 12, 17]`\n",
    "* the top-right 2x3 sub-array `[[3, 4], [8, 9] [13, 14]]`\n",
    "\n",
    "*Hint*: remember the `:` can be used to select all values in a row or column"
   ]
  },
  {
   "cell_type": "code",
   "execution_count": null,
   "outputs": [],
   "source": [],
   "metadata": {
    "collapsed": false
   }
  },
  {
   "cell_type": "markdown",
   "metadata": {},
   "source": [
    "### Attributes and methods\n",
    "\n",
    "Arrays have a datatype, which we can check with the `dtype` *attribute*. Note, as it is an attribute, we do not call it!"
   ]
  },
  {
   "cell_type": "code",
   "execution_count": 18,
   "metadata": {
    "ExecuteTime": {
     "end_time": "2024-02-22T10:45:08.136033Z",
     "start_time": "2024-02-22T10:45:08.132Z"
    }
   },
   "outputs": [
    {
     "data": {
      "text/plain": "dtype('int64')"
     },
     "execution_count": 18,
     "metadata": {},
     "output_type": "execute_result"
    }
   ],
   "source": [
    "a2.dtype"
   ]
  },
  {
   "cell_type": "markdown",
   "metadata": {},
   "source": [
    "Try dividing the array by two and storing it as a3, and then checking the dtype"
   ]
  },
  {
   "cell_type": "code",
   "execution_count": 29,
   "metadata": {
    "ExecuteTime": {
     "end_time": "2024-02-22T10:47:05.407225Z",
     "start_time": "2024-02-22T10:47:05.390485Z"
    }
   },
   "outputs": [
    {
     "data": {
      "text/plain": "array([[ 0,  1,  2,  3,  4,  5,  6,  7,  8,  9],\n       [10, 11, 12, 13, 14, 15, 16, 17, 18, 19]])"
     },
     "execution_count": 29,
     "metadata": {},
     "output_type": "execute_result"
    }
   ],
   "source": [
    "a3= np.reshape(a1,(2,-1))\n",
    "a3"
   ]
  },
  {
   "cell_type": "markdown",
   "metadata": {},
   "source": [
    "Numpy arrays have several attributes and methods. Try checking the a3's `shape`. What about the `max` value? How about the index of the max value?"
   ]
  },
  {
   "cell_type": "code",
   "execution_count": 31,
   "metadata": {
    "ExecuteTime": {
     "end_time": "2024-02-22T10:47:11.287925Z",
     "start_time": "2024-02-22T10:47:11.274074Z"
    }
   },
   "outputs": [
    {
     "data": {
      "text/plain": "(2, 10)"
     },
     "execution_count": 31,
     "metadata": {},
     "output_type": "execute_result"
    }
   ],
   "source": [
    "np.max(a3)\n",
    "np.shape(a3)"
   ]
  },
  {
   "cell_type": "markdown",
   "metadata": {},
   "source": [
    "### Random numbers\n",
    "\n",
    "We can also use numpy to generate (pseudo) random numbers, using the `random` submodule. \n",
    "\n",
    "When generating random numbers, it is a good idea to set the `seed`, so that we can generate the same numbers when we repeat our experiments."
   ]
  },
  {
   "cell_type": "code",
   "execution_count": 32,
   "metadata": {
    "ExecuteTime": {
     "end_time": "2024-02-22T10:47:17.241400Z",
     "start_time": "2024-02-22T10:47:17.234167Z"
    }
   },
   "outputs": [],
   "source": [
    "np.random.seed(42)"
   ]
  },
  {
   "cell_type": "markdown",
   "metadata": {},
   "source": [
    "Create an array of uniform random floats the same shape as a3, between -2 and 2, using the `rand` method in the random submodule. Call it a4"
   ]
  },
  {
   "cell_type": "code",
   "execution_count": 39,
   "metadata": {
    "ExecuteTime": {
     "end_time": "2024-02-22T10:51:35.011173Z",
     "start_time": "2024-02-22T10:51:35.000041Z"
    }
   },
   "outputs": [
    {
     "data": {
      "text/plain": "array([[0.37454012, 0.95071431, 0.73199394, 0.59865848, 0.15601864,\n        0.15599452, 0.05808361, 0.86617615, 0.60111501, 0.70807258],\n       [0.02058449, 0.96990985, 0.83244264, 0.21233911, 0.18182497,\n        0.18340451, 0.30424224, 0.52475643, 0.43194502, 0.29122914]])"
     },
     "execution_count": 39,
     "metadata": {},
     "output_type": "execute_result"
    }
   ],
   "source": [
    "np.random.seed(42)\n",
    "# create a4\n",
    "a4 = np.random.rand(2,10)\n",
    "a4"
   ]
  },
  {
   "cell_type": "markdown",
   "metadata": {},
   "source": [
    "Try calculating the mean and variance (using `sum` and `size`)\n",
    "\n",
    "Compare the answers you get to using the `mean` and `var` methods"
   ]
  },
  {
   "cell_type": "code",
   "execution_count": null,
   "metadata": {},
   "outputs": [],
   "source": []
  },
  {
   "cell_type": "markdown",
   "metadata": {},
   "source": [
    "### Boolean arrays and indexing\n",
    "\n",
    "We can use boolean conditions, e.g. `==` (is equal to) and `=<` (is equal to or greater than) on arrays to create boolean arrays.\n",
    "\n",
    "Try creating a boolean array of all the values larger than 1 in `a4`"
   ]
  },
  {
   "cell_type": "code",
   "execution_count": null,
   "metadata": {},
   "outputs": [],
   "source": []
  },
  {
   "cell_type": "markdown",
   "metadata": {},
   "source": [
    "A boolean array can be used a *mask*, which extracts only the elements with a true value, as follows:\n",
    "    \n",
    "    <array>[<boolean_mask>]\n",
    "    \n",
    "Try extracting all of the values in a4 smaller than -1"
   ]
  },
  {
   "cell_type": "code",
   "execution_count": null,
   "metadata": {},
   "outputs": [],
   "source": []
  },
  {
   "cell_type": "markdown",
   "metadata": {},
   "source": [
    "## Plotting\n",
    "\n",
    "As with `numpy`, python borrows its primary plotting interface from matlab.\n",
    "\n",
    "The main library for plotting in python is `matplotlib`. Matplotlib has multiple interfaces, the most commonly used is the `pyplot` interface. We normally give it the alias `plt`"
   ]
  },
  {
   "cell_type": "code",
   "execution_count": null,
   "metadata": {},
   "outputs": [],
   "source": [
    "import matplotlib.pyplot as plt"
   ]
  },
  {
   "cell_type": "markdown",
   "metadata": {},
   "source": [
    "We can generate a plot with `plt.plot()`. Try plotting the array `a4` and see what happens. Can you explain the plot?"
   ]
  },
  {
   "cell_type": "code",
   "execution_count": null,
   "metadata": {},
   "outputs": [],
   "source": []
  },
  {
   "cell_type": "markdown",
   "metadata": {},
   "source": [
    "Try adding a3 and a4 and plotting all of the data as a single line. Remember we can *reshape* a 2D array into a vector"
   ]
  },
  {
   "cell_type": "code",
   "execution_count": null,
   "metadata": {},
   "outputs": [],
   "source": []
  },
  {
   "cell_type": "markdown",
   "metadata": {},
   "source": [
    "## Exercise\n",
    "\n",
    "You will need to use the matplotlib documentation to achieve this! Feel free to work together and ask for help!\n",
    "\n",
    "You are going to try and recreate the following plot:\n",
    "\n",
    "<img src=\"data/example.jpg\">\n",
    "\n",
    "* Use the numpy random module to generate a 2x500 array of normally distributed numbers with mean 10 and standard deviation 20. Use the random seed 404 to generate the random points\n",
    "* Plot the data as a 2D scatter plot (so that each column represents one data point x, y, z). Use orange crosses for the data points. Add the label 'data' to the points\n",
    "* Add the mean to the plot as a large blue dot. Add the label 'mean' to the plot.\n",
    "* Label the axis 'x' and 'y'.\n",
    "* Add a legend\n",
    "* Save the plot as normal_scatter.jpeg"
   ]
  },
  {
   "cell_type": "code",
   "execution_count": null,
   "metadata": {},
   "outputs": [],
   "source": []
  }
 ],
 "metadata": {
  "kernelspec": {
   "display_name": "Python 3",
   "language": "python",
   "name": "python3"
  },
  "language_info": {
   "codemirror_mode": {
    "name": "ipython",
    "version": 3
   },
   "file_extension": ".py",
   "mimetype": "text/x-python",
   "name": "python",
   "nbconvert_exporter": "python",
   "pygments_lexer": "ipython3",
   "version": "3.8.5"
  }
 },
 "nbformat": 4,
 "nbformat_minor": 2
}
