{
 "cells": [
  {
   "cell_type": "markdown",
   "metadata": {},
   "source": [
    "# Optimisation & Simulation: Lab on MCMC methods\n",
    "\n",
    "**Objective:**\n",
    "- Use Markov chain Monte Carlo (MCMC) methods to draw from complex distributions.\n",
    "\n",
    "**Implementation:**\n",
    "- Gibbs sampling\n",
    "- Metropolis-Hastings algorithm\n",
    "\n",
    "**Agenda:**\n",
    "1. Implement Gibbs sampler to generate draws from bivariate normal.\n",
    "2. Implement Metropolis-Hastings algorithms to infer posterior distribution of parameters of Cauchy distribution. "
   ]
  },
  {
   "cell_type": "markdown",
   "metadata": {},
   "source": [
    "## Gibbs sampling\n",
    "\n",
    "### Background\n",
    "\n",
    "**Motivation and intuition:**\n",
    "- Draw from multivariate distributions from which direct sampling is difficult.\n",
    "- Construct conditional distributions from which sampling is easy. \n",
    "- Iteratively draw from conditional distributions. \n",
    "\n",
    "\n",
    "- Suppose we wish to sample $\\theta_{1}, \\theta_{2} \\sim p(\\theta_{1}, \\theta_{2})$ but cannot do so directly. \n",
    "- However, we can sample $\\theta_{1} \\sim p(\\theta_{1} \\vert \\theta_{2})$ and $\\theta_{2} \\sim p(\\theta_{2} \\vert \\theta_{1})$.\n",
    "\n",
    "**Algorithm:**\n",
    "1. Set $j = 0$. \n",
    "2. Provide initial values $(\\theta_{1}^{(0)}, \\theta_{2}^{(0)})$. \n",
    "3. Set $j = j + 1$. \n",
    "4. $\\theta_{1}^{(j)} \\sim p(\\theta_{1}^{(j)} \\vert \\theta_{2}^{(j-1)})$.\n",
    "5. $\\theta_{2}^{(j)} \\sim p(\\theta_{2}^{(j)} \\vert \\theta_{1}^{(j)})$.\n",
    "6. If $j$ is less than the desired number of draws, return to step 3.\n",
    "\n",
    "### Exercise\n",
    "- Implement a Gibbs sampler to draw from a bivariate normal, i.e. \n",
    "$$\n",
    "\\begin{pmatrix}\n",
    "\\theta_{1} \\\\ \\theta_{2}\n",
    "\\end{pmatrix}\n",
    "\\sim\n",
    "\\mathcal{N} (\\boldsymbol{\\mu}, \\boldsymbol{\\Sigma})\n",
    "\\text{ with }\n",
    "\\boldsymbol{\\mu} = \\boldsymbol{0},\n",
    "\\boldsymbol{\\Sigma} = \n",
    "\\begin{pmatrix}\n",
    "1 & \\rho \\\\\n",
    "\\rho & 1 \n",
    "\\end{pmatrix},\n",
    "\\rho = 0.8\n",
    "$$\n",
    "- Visually compare the empirical density of the draws to the theoretical density of the sampling distribution. \n",
    "\n",
    "**Note:**\n",
    "- If\n",
    "$$\n",
    "\\begin{pmatrix}\n",
    "\\theta_{1} \\\\ \\theta_{2}\n",
    "\\end{pmatrix}\n",
    "\\sim\n",
    "\\mathcal{N} \\left (\\boldsymbol{0}, \n",
    "\\begin{pmatrix}\n",
    "1 & \\rho \\\\\n",
    "\\rho & 1 \n",
    "\\end{pmatrix}\n",
    "\\right ),\n",
    "$$\n",
    "then \n",
    "$$\n",
    "\\theta_{1} \\vert \\theta_{2} \\sim \\mathcal{N}(\\rho \\theta_{2}, 1 - \\rho^{2}),\n",
    "$$\n",
    "$$\n",
    "\\theta_{2} \\vert \\theta_{1} \\sim \\mathcal{N}(\\rho \\theta_{1}, 1 - \\rho^{2}).\n",
    "$$"
   ]
  },
  {
   "cell_type": "markdown",
   "metadata": {},
   "source": [
    "#### Implementation"
   ]
  },
  {
   "cell_type": "code",
   "execution_count": 1,
   "metadata": {
    "ExecuteTime": {
     "end_time": "2024-04-17T20:42:39.246107Z",
     "start_time": "2024-04-17T20:42:39.244590Z"
    }
   },
   "outputs": [],
   "source": [
    "import numpy as np\n",
    "import pandas as pd\n",
    "import matplotlib.pyplot as plt\n",
    "import seaborn as sns\n",
    "from scipy.stats import multivariate_normal"
   ]
  },
  {
   "cell_type": "code",
   "execution_count": 2,
   "metadata": {
    "ExecuteTime": {
     "end_time": "2024-04-17T20:42:39.251192Z",
     "start_time": "2024-04-17T20:42:39.247157Z"
    }
   },
   "outputs": [],
   "source": [
    "import numpy as np\n",
    "\n",
    "def gibbs(rho, theta2_initial, n_draws):\n",
    "    \"\"\" Gibbs sampling of bivariate normal.\n",
    "\n",
    "    Keywords:\n",
    "        rho (float): correlation parameter.\n",
    "        theta2_initial (float): initial value of theta2.\n",
    "        n_draws (int): number of draws.\n",
    "\n",
    "    Returns:\n",
    "        theta (array): draws from bivariate normal.\n",
    "    \"\"\"\n",
    "    theta1 = 0  # Initial value for theta1\n",
    "    theta2 = theta2_initial\n",
    "    draws = np.zeros((n_draws, 2))  # To store the draws\n",
    "    \n",
    "    for j in range(n_draws):\n",
    "        theta1 = np.random.normal(rho * theta2, np.sqrt(1 - rho**2))  # Update theta1 given theta2\n",
    "        theta2 = np.random.normal(rho * theta1, np.sqrt(1 - rho**2))  # Update theta2 given new theta1\n",
    "        draws[j, :] = [theta1, theta2]  # Store the draws\n",
    "    \n",
    "    return draws\n"
   ]
  },
  {
   "cell_type": "code",
   "execution_count": 3,
   "metadata": {
    "ExecuteTime": {
     "end_time": "2024-04-17T20:42:39.255763Z",
     "start_time": "2024-04-17T20:42:39.252956Z"
    }
   },
   "outputs": [],
   "source": [
    "rho = 0.8\n",
    "theta2 = 0\n",
    "n_draws = 1000\n",
    "\n",
    "draws = gibbs(rho, theta2, n_draws)"
   ]
  },
  {
   "cell_type": "code",
   "execution_count": 4,
   "metadata": {
    "ExecuteTime": {
     "end_time": "2024-04-17T20:42:39.646360Z",
     "start_time": "2024-04-17T20:42:39.255541Z"
    }
   },
   "outputs": [
    {
     "name": "stderr",
     "output_type": "stream",
     "text": [
      "/var/folders/9k/8nb0sdgx5qx6cn2w26k8rd_80000gp/T/ipykernel_86172/3211403608.py:13: FutureWarning: \n",
      "\n",
      "`shade` is now deprecated in favor of `fill`; setting `fill=True`.\n",
      "This will become an error in seaborn v0.14.0; please update your code.\n",
      "\n",
      "  ax = sns.kdeplot(\n"
     ]
    },
    {
     "data": {
      "text/plain": "<Figure size 640x480 with 1 Axes>",
      "image/png": "[encoded data removed]"
     },
     "metadata": {},
     "output_type": "display_data"
    }
   ],
   "source": [
    "fig = plt.figure()\n",
    "ax = plt.subplot(1,1,1)\n",
    "\n",
    "#Theoretical density\n",
    "mu = np.array([0, 0])\n",
    "Sigma = np.array([[1, rho], [rho, 1]])\n",
    "x = np.arange(-3,3,0.01)\n",
    "xx, yy = np.meshgrid(x,x)\n",
    "z = multivariate_normal.pdf(np.stack((xx, yy), axis=2), mu, Sigma)\n",
    "ax.contour(x, x, z)\n",
    "\n",
    "#Empirical draws\n",
    "ax = sns.kdeplot(\n",
    "    draws[0,:], y=draws[1,:],\n",
    "    cmap= \"Blues\" , shade = True\n",
    ")\n",
    "\n",
    "ax.set(\n",
    "    xlabel=r'$\\theta_1$',\n",
    "    ylabel=r'$\\theta_2$'\n",
    ")\n",
    "\n",
    "plt.show()"
   ]
  },
  {
   "cell_type": "markdown",
   "metadata": {},
   "source": [
    "## Metropolis-Hastings algorithm\n",
    "\n",
    "### Background\n",
    "\n",
    "**Motivation and intuition:**\n",
    "- Gibbs sampling is only feasible, if the conditional distributions are known and if it is easy to sample from them. \n",
    "- The Metropolis-Hastings algorithm allows us to sample from any density $p(\\theta)$, provided that we can evaluate $f(\\theta)$, a density that is proportional to $p$. \n",
    "- At each iteration, we sample a new state from a candidate distribution, which depends on the current state. \n",
    "- With some probability depending on the value of the target density at the new and the current states, the new state is accepted. \n",
    "- As the algorithm proceeds, the sampled states approximate the desired density. \n",
    "\n",
    "**Algorithm:**\n",
    "1. Set $j = 0$.\n",
    "2. Let $\\theta$ denote the current state.\n",
    "3. Let $p(\\theta \\vert x)$ denote the target density.\n",
    "4. Let $J(\\theta^{*} \\vert \\theta)$ denote the jumping distribution\n",
    "5. Let $\\rho$ denote the step size.\n",
    "6. Set $j = j + 1$. \n",
    "7. Propose a new state $\\theta^{*} \\vert \\theta \\sim J(\\theta)$.\n",
    "8. Calculate $\\alpha = \\frac{p(\\theta^{*} \\vert x)}{p(\\theta \\vert x)} \\cdot \\frac{J(\\theta \\vert \\theta^{*})}{J(\\theta^{*} \\vert \\theta)}$.\n",
    "9. Draw $r \\sim \\text{Uniform}(0,1)$.\n",
    "10. If $r \\leq \\alpha$, accept the new state and set $\\theta = \\theta^{*}$. Otherwise, reject the new state. \n",
    "11. If $j$ is less than the desired number of draws, return to step 5."
   ]
  },
  {
   "cell_type": "markdown",
   "metadata": {},
   "source": [
    "### Exercise \n",
    "- Simulate data from Cauchy distribution with location $\\mu = 1$ and scale $\\gamma = 1$.\n",
    "- Implement a Metroplis-Hastings algorithms to infer the posterior distribution of the scale parameter of the Cauchy distribution.\n",
    "- Consider two possible jumping distributions:\n",
    "- 1. $\\text{Normal}(\\theta, \\rho^2)$, where $\\rho$ is the step size.\n",
    "- 2. $\\text{Lognormal}(\\log(\\theta) - 0.5 \\rho^2, \\rho)$, where $\\rho$ is a distance parameter. Note that $\\text{Lognormal}(\\mu, \\sigma)$ denotes a lognormal distribution with location $\\mu$ and scale $\\sigma$.\n",
    "- Evaluate the performance of the algorithms for different parametrisations of the jumping distributions. Compute the potential scale reduction factors $\\hat{R}$ and the effective sample size $n_{\\text{eff}}$.\n",
    "\n",
    "Suppose\n",
    "- $x_{i} \\sim \\mathcal{C}(\\mu, \\gamma)$ for $i \\in \\{1, \\dots, N\\}$\n",
    "- $\\gamma \\sim \\text{Gamma}(\\alpha_{0}, \\beta_{0})$ with $\\alpha_{0} = \\beta_{0} = 0.001$.\n",
    "\n",
    "Then\n",
    "$$\n",
    "p(\\gamma \\vert x, \\mu, \\alpha_{0}, \\beta_{0}) \n",
    "\\propto \\left ( \\prod_{i} p(x_{i} \\vert \\mu, \\gamma) \\right ) p(\\gamma \\vert \\alpha_{0}, \\beta_{0})\n",
    "$$\n",
    "\n",
    "**Note:**\n",
    "- PDF of Cauchy distribution:\n",
    "$$\n",
    "f(x \\vert \\mu, \\gamma) = \\frac{1}{\\pi \\gamma \\left [ 1 + \\left (\\frac{x - \\mu}{\\gamma} \\right )^{2} \\right ]}\n",
    "$$\n",
    "- Quantile function of Cauchy distribution:\n",
    "$$\n",
    "Q = \\mu + \\gamma \\cdot \\text{tan}\\left [ \\pi \\left ( F - \\frac{1}{2} \\right ) \\right ]\n",
    "$$"
   ]
  },
  {
   "cell_type": "markdown",
   "metadata": {},
   "source": [
    "#### Cauchy random draws"
   ]
  },
  {
   "cell_type": "markdown",
   "metadata": {},
   "source": [
    "#### Normal jumping distribution\n",
    "##### Implementation"
   ]
  },
  {
   "cell_type": "code",
   "execution_count": 5,
   "outputs": [],
   "source": [
    "def cauchy_rng(mu, gamma, n_draws):\n",
    "    \"\"\" Generate cauchy random numbers.\n",
    "    \n",
    "    Keywords:\n",
    "        mu (float): location parameter.\n",
    "        gamma (float): scale parameter.\n",
    "        n_draws (int): number of draws.\n",
    "    \n",
    "    Returns:\n",
    "        r (array): n_draws draws from Cauchy(mu, gamma).\n",
    "    \"\"\"\n",
    "    u = np.random.rand(n_draws,)\n",
    "    r = mu + gamma * np.tan(np.pi * (u - 0.5))\n",
    "    return r\n",
    "def cauchy_pdf(x, mu, gamma):\n",
    "    return 1 / (np.pi * gamma * (1 + ((x - mu) / gamma)**2))"
   ],
   "metadata": {
    "collapsed": false,
    "ExecuteTime": {
     "end_time": "2024-04-17T20:42:41.814096Z",
     "start_time": "2024-04-17T20:42:41.810567Z"
    }
   }
  },
  {
   "cell_type": "code",
   "execution_count": 6,
   "outputs": [],
   "source": [
    "mu = 1\n",
    "gamma_true = 1\n",
    "n_draws = 1000\n",
    "x = cauchy_rng(mu, gamma_true, n_draws)"
   ],
   "metadata": {
    "collapsed": false,
    "ExecuteTime": {
     "end_time": "2024-04-17T20:42:42.332676Z",
     "start_time": "2024-04-17T20:42:42.324411Z"
    }
   }
  },
  {
   "cell_type": "code",
   "execution_count": 7,
   "metadata": {
    "ExecuteTime": {
     "end_time": "2024-04-17T20:42:42.721452Z",
     "start_time": "2024-04-17T20:42:42.716161Z"
    }
   },
   "outputs": [],
   "source": [
    "def rhat_n_eff(draws):\n",
    "    \"\"\" Computes potential scale reduction factor and effective sample size.\n",
    "    \n",
    "    Keywords:\n",
    "        draws (1d-array): draws\n",
    "    \n",
    "    Returns:\n",
    "        R (float): potential scale reduction factor.\n",
    "        n_eff (float): effective sample size.\n",
    "    \"\"\"\n",
    "    #Reshape draws\n",
    "    psi_cd = np.array(draws).reshape(2,-1)\n",
    "    C, D = psi_cd.shape\n",
    "    \n",
    "    #Rhat\n",
    "    psi_c = psi_cd.mean(axis=1, keepdims=True)\n",
    "    psi = psi_c.mean()\n",
    "    B = D / (C - 1) * np.sum((psi_c - psi)**2) #Between-chain variance\n",
    "    s2_c = 1 / (D - 1) * np.sum((psi_cd - psi_c)**2, axis=1)\n",
    "    W = s2_c.mean() #Within-chain variance\n",
    "    var = (D - 1) / D * W + 1 / D * B\n",
    "    R = np.sqrt(var / W)\n",
    "    \n",
    "    #Effective sample size\n",
    "    V = lambda t: ((psi_cd[:,t:] - psi_cd[:,:(D-t)])**2).sum() / (C * (D - t)) #Variogram\n",
    "    negative_autocorr = False\n",
    "    t = 1\n",
    "    rho = np.ones(D)\n",
    "    while not negative_autocorr and (t < D):\n",
    "        rho[t] = 1 - V(t) / (2 * var)\n",
    "        if not t % 2:\n",
    "            negative_autocorr = np.sum(rho[t-1:t+1]) < 0\n",
    "        t += 1\n",
    "    n_eff = C * D / (1 + 2 * np.sum(rho[1:t]))\n",
    "    \n",
    "    return R, n_eff"
   ]
  },
  {
   "cell_type": "code",
   "execution_count": 8,
   "metadata": {
    "ExecuteTime": {
     "end_time": "2024-04-17T20:42:43.171656Z",
     "start_time": "2024-04-17T20:42:43.162868Z"
    }
   },
   "outputs": [],
   "source": [
    "def mcmc_normal(x, mu, gamma, alpha0, beta0, rho, n_burn, n_keep):\n",
    "    \"\"\" MCMC algorithm with normal jumping distribution to estimate posterior of Cauchy scale parameter.\n",
    "    \n",
    "    Keywords:\n",
    "        x (array): data.\n",
    "        mu (float): Cauchy location parameter.\n",
    "        gamma (float): Cauchy scale parameter.\n",
    "        alpha0 (float): Gamma shape, gamma ~ Gamma(alpha0, beta0).\n",
    "        beta0 (float): Gamma rate, gamma ~ Gamma(alpha0, beta0).\n",
    "        rho (float): step size.\n",
    "        n_burn (int): burn in draws.\n",
    "        n_keep (int): number of draws to keep after burn-in. \n",
    "    \n",
    "    Returns:\n",
    "        gamma_store (array): gamma draws.\n",
    "        accept_store (array): accept flags.\n",
    "    \"\"\"\n",
    "    \n",
    "    gamma_store= np.zeros(n_burn + n_keep)\n",
    "    accept_store= np.zeros(n_burn + n_keep)\n",
    "    \n",
    "    \n",
    "    theta = gamma\n",
    "    Log_J = np.sum(np.log(cauchy_pdf(x, mu, theta)))\n",
    "\n",
    "\n",
    "    for i in range(n_burn + n_keep):\n",
    "    #     #  Propose a new state by drawing from the jumping distribution\n",
    "    # \n",
    "        state_new = np.random.normal(theta, rho)\n",
    "    #     \n",
    "        Log_J_new = np.sum(np.log(cauchy_pdf(x, mu, state_new)))\n",
    "    # \n",
    "        log_p_ratio=(alpha0-1)*(np.log(state_new)-np.log(theta))-beta0*(state_new-theta)\n",
    "        ratio = log_p_ratio + Log_J_new - Log_J\n",
    "\n",
    "        alpha = np.min([0, ratio])\n",
    "        r = np.random.uniform()\n",
    "        if np.log(r) < alpha:\n",
    "            theta = state_new\n",
    "            Log_J = Log_J_new\n",
    "            accept_store[i] = True\n",
    "        gamma_store[i] = state_new\n",
    "        i += 1\n",
    "\n",
    "    return gamma_store[n_burn:], accept_store[n_burn:] "
   ]
  },
  {
   "cell_type": "code",
   "execution_count": 9,
   "metadata": {
    "ExecuteTime": {
     "end_time": "2024-04-17T20:42:43.688264Z",
     "start_time": "2024-04-17T20:42:43.657217Z"
    }
   },
   "outputs": [],
   "source": [
    "mu = 1\n",
    "gamma = 0.1\n",
    "alpha0 = 0.001\n",
    "beta0 = 0.001\n",
    "rho = 0.1\n",
    "n_burn = 1000\n",
    "n_keep = 1000\n",
    "\n",
    "gamma_store, accept_store= mcmc_normal(x, mu, gamma, alpha0, beta0, rho, n_burn, n_keep)"
   ]
  },
  {
   "cell_type": "code",
   "execution_count": 10,
   "metadata": {
    "ExecuteTime": {
     "end_time": "2024-04-17T20:42:44.201822Z",
     "start_time": "2024-04-17T20:42:44.198594Z"
    }
   },
   "outputs": [
    {
     "data": {
      "text/plain": "1.094727900066026"
     },
     "execution_count": 10,
     "metadata": {},
     "output_type": "execute_result"
    }
   ],
   "source": [
    "gamma_store.mean()"
   ]
  },
  {
   "cell_type": "code",
   "execution_count": 11,
   "metadata": {
    "ExecuteTime": {
     "end_time": "2024-04-17T20:42:44.576301Z",
     "start_time": "2024-04-17T20:42:44.572966Z"
    }
   },
   "outputs": [
    {
     "data": {
      "text/plain": "0.111583530041593"
     },
     "execution_count": 11,
     "metadata": {},
     "output_type": "execute_result"
    }
   ],
   "source": [
    "gamma_store.std()"
   ]
  },
  {
   "cell_type": "code",
   "execution_count": 12,
   "metadata": {
    "ExecuteTime": {
     "end_time": "2024-04-17T20:42:44.903543Z",
     "start_time": "2024-04-17T20:42:44.898948Z"
    }
   },
   "outputs": [
    {
     "data": {
      "text/plain": "0.482"
     },
     "execution_count": 12,
     "metadata": {},
     "output_type": "execute_result"
    }
   ],
   "source": [
    "accept_store.mean()"
   ]
  },
  {
   "cell_type": "code",
   "execution_count": 13,
   "metadata": {
    "ExecuteTime": {
     "end_time": "2024-04-17T20:42:45.224247Z",
     "start_time": "2024-04-17T20:42:45.221667Z"
    }
   },
   "outputs": [
    {
     "data": {
      "text/plain": "(0.9996194944816092, 307.3079868816641)"
     },
     "execution_count": 13,
     "metadata": {},
     "output_type": "execute_result"
    }
   ],
   "source": [
    "rhat_n_eff(gamma_store)"
   ]
  },
  {
   "cell_type": "code",
   "execution_count": 14,
   "metadata": {
    "ExecuteTime": {
     "end_time": "2024-04-17T20:42:45.877505Z",
     "start_time": "2024-04-17T20:42:45.582993Z"
    }
   },
   "outputs": [
    {
     "name": "stderr",
     "output_type": "stream",
     "text": [
      "/var/folders/9k/8nb0sdgx5qx6cn2w26k8rd_80000gp/T/ipykernel_86172/4128656528.py:32: RuntimeWarning: invalid value encountered in log\n",
      "  Log_J_new = np.sum(np.log(cauchy_pdf(x, mu, state_new)))\n",
      "/var/folders/9k/8nb0sdgx5qx6cn2w26k8rd_80000gp/T/ipykernel_86172/4128656528.py:34: RuntimeWarning: invalid value encountered in log\n",
      "  log_p_ratio=(alpha0-1)*(np.log(state_new)-np.log(theta))-beta0*(state_new-theta)\n"
     ]
    }
   ],
   "source": [
    "rho_test = [0.00001, 0.0001, 0.001, 0.01, 0.1, 0.15, 0.2, 0.25, 0.5, 1]\n",
    "\n",
    "gamma_store_all = {}\n",
    "gamma_mean = []\n",
    "gamma_std = []\n",
    "gamma_accept = []\n",
    "gamma_rhat = []\n",
    "gamma_n_eff = []\n",
    "\n",
    "for rho in rho_test:\n",
    "    gamma_store, accept_store = mcmc_normal(x, mu, gamma, alpha0, beta0, rho, n_burn, n_keep)\n",
    "    rhat, n_eff = rhat_n_eff(gamma_store)\n",
    "    \n",
    "    gamma_store_all[rho] = gamma_store\n",
    "    gamma_mean.append(gamma_store.mean())\n",
    "    gamma_std.append(gamma_store.std())\n",
    "    gamma_accept.append(accept_store.mean())\n",
    "    gamma_rhat.append(rhat)\n",
    "    gamma_n_eff.append(n_eff)"
   ]
  },
  {
   "cell_type": "code",
   "execution_count": 15,
   "metadata": {
    "ExecuteTime": {
     "end_time": "2024-04-17T20:42:45.962822Z",
     "start_time": "2024-04-17T20:42:45.953795Z"
    }
   },
   "outputs": [
    {
     "data": {
      "text/plain": "       rho  Post. mean  Post. std.  Acceptance ratio      Rhat        n_eff\n0  0.00001    0.100910    0.000375             0.978  2.829598     1.243266\n1  0.00010    0.130655    0.006237             0.820  3.013372     1.287182\n2  0.00100    0.540413    0.054193             0.818  2.517159     1.442732\n3  0.01000    1.098343    0.040803             0.947  1.006678    14.242830\n4  0.10000    1.091244    0.107806             0.479  1.002227   401.819372\n5  0.15000    1.086892    0.162551             0.344  0.999171   495.347087\n6  0.20000    1.092614    0.199913             0.290  1.004254   628.173769\n7  0.25000    1.100971    0.251858             0.196  0.999934   699.948545\n8  0.50000    1.084735    0.500670             0.116  0.999000  1082.530129\n9  1.00000    1.055561    1.027636             0.056  0.999280   852.166272",
      "text/html": "<div>\n<style scoped>\n    .dataframe tbody tr th:only-of-type {\n        vertical-align: middle;\n    }\n\n    .dataframe tbody tr th {\n        vertical-align: top;\n    }\n\n    .dataframe thead th {\n        text-align: right;\n    }\n</style>\n<table border=\"1\" class=\"dataframe\">\n  <thead>\n    <tr style=\"text-align: right;\">\n      <th></th>\n      <th>rho</th>\n      <th>Post. mean</th>\n      <th>Post. std.</th>\n      <th>Acceptance ratio</th>\n      <th>Rhat</th>\n      <th>n_eff</th>\n    </tr>\n  </thead>\n  <tbody>\n    <tr>\n      <th>0</th>\n      <td>0.00001</td>\n      <td>0.100910</td>\n      <td>0.000375</td>\n      <td>0.978</td>\n      <td>2.829598</td>\n      <td>1.243266</td>\n    </tr>\n    <tr>\n      <th>1</th>\n      <td>0.00010</td>\n      <td>0.130655</td>\n      <td>0.006237</td>\n      <td>0.820</td>\n      <td>3.013372</td>\n      <td>1.287182</td>\n    </tr>\n    <tr>\n      <th>2</th>\n      <td>0.00100</td>\n      <td>0.540413</td>\n      <td>0.054193</td>\n      <td>0.818</td>\n      <td>2.517159</td>\n      <td>1.442732</td>\n    </tr>\n    <tr>\n      <th>3</th>\n      <td>0.01000</td>\n      <td>1.098343</td>\n      <td>0.040803</td>\n      <td>0.947</td>\n      <td>1.006678</td>\n      <td>14.242830</td>\n    </tr>\n    <tr>\n      <th>4</th>\n      <td>0.10000</td>\n      <td>1.091244</td>\n      <td>0.107806</td>\n      <td>0.479</td>\n      <td>1.002227</td>\n      <td>401.819372</td>\n    </tr>\n    <tr>\n      <th>5</th>\n      <td>0.15000</td>\n      <td>1.086892</td>\n      <td>0.162551</td>\n      <td>0.344</td>\n      <td>0.999171</td>\n      <td>495.347087</td>\n    </tr>\n    <tr>\n      <th>6</th>\n      <td>0.20000</td>\n      <td>1.092614</td>\n      <td>0.199913</td>\n      <td>0.290</td>\n      <td>1.004254</td>\n      <td>628.173769</td>\n    </tr>\n    <tr>\n      <th>7</th>\n      <td>0.25000</td>\n      <td>1.100971</td>\n      <td>0.251858</td>\n      <td>0.196</td>\n      <td>0.999934</td>\n      <td>699.948545</td>\n    </tr>\n    <tr>\n      <th>8</th>\n      <td>0.50000</td>\n      <td>1.084735</td>\n      <td>0.500670</td>\n      <td>0.116</td>\n      <td>0.999000</td>\n      <td>1082.530129</td>\n    </tr>\n    <tr>\n      <th>9</th>\n      <td>1.00000</td>\n      <td>1.055561</td>\n      <td>1.027636</td>\n      <td>0.056</td>\n      <td>0.999280</td>\n      <td>852.166272</td>\n    </tr>\n  </tbody>\n</table>\n</div>"
     },
     "execution_count": 15,
     "metadata": {},
     "output_type": "execute_result"
    }
   ],
   "source": [
    "results = pd.DataFrame(\n",
    "    data={\n",
    "        'rho': rho_test,\n",
    "        'Post. mean': gamma_mean,\n",
    "        'Post. std.': gamma_std,\n",
    "        'Acceptance ratio': gamma_accept,\n",
    "        'Rhat': gamma_rhat,\n",
    "        'n_eff': gamma_n_eff\n",
    "    }\n",
    ")\n",
    "results"
   ]
  },
  {
   "cell_type": "markdown",
   "metadata": {},
   "source": [
    "##### Trace plot"
   ]
  },
  {
   "cell_type": "code",
   "execution_count": 16,
   "metadata": {
    "ExecuteTime": {
     "end_time": "2024-04-17T20:42:47.363200Z",
     "start_time": "2024-04-17T20:42:47.272677Z"
    }
   },
   "outputs": [
    {
     "data": {
      "text/plain": "<Figure size 640x480 with 1 Axes>",
      "image/png": "[encoded data removed]"
     },
     "metadata": {},
     "output_type": "display_data"
    }
   ],
   "source": [
    "gamma_true = 1\n",
    "\n",
    "fig, ax = plt.subplots(1,1)\n",
    "ax.plot(gamma_store_all[1], label = 'Chain 1')\n",
    "plt.axhline(gamma_true, color=\"black\", linestyle=\"--\", label='Truth')\n",
    "\n",
    "ax.set(xlabel = 'Iteration after burn in', ylabel = r'$\\gamma$',\n",
    "       title= r'Trace plot of posterior draws of $\\gamma$')\n",
    "plt.legend()\n",
    "ax.grid()"
   ]
  },
  {
   "cell_type": "markdown",
   "metadata": {},
   "source": [
    "#### Lognormal jumping distribution\n",
    "##### Implementation"
   ]
  },
  {
   "cell_type": "code",
   "execution_count": 17,
   "metadata": {
    "ExecuteTime": {
     "end_time": "2024-04-17T20:42:48.671067Z",
     "start_time": "2024-04-17T20:42:48.666022Z"
    }
   },
   "outputs": [],
   "source": [
    "def mcmc_lognormal(x, mu, gamma, alpha0, beta0, rho, n_burn, n_keep):\n",
    "    \"\"\" MCMC algorithm with lognormal jumping distribution to estimate posterior of Cauchy scale parameter.\n",
    "    \n",
    "    Keywords:\n",
    "        x (array): data.\n",
    "        mu (float): Cauchy location parameter.\n",
    "        gamma (float): Cauchy scale parameter.\n",
    "        alpha0 (float): Gamma shape, gamma ~ Gamma(alpha0, beta0).\n",
    "        beta0 (float): Gamma rate, gamma ~ Gamma(alpha0, beta0).\n",
    "        rho (float): step size.\n",
    "        n_burn (int): burn in draws.\n",
    "        n_keep (int): number of draws to keep after burn-in. \n",
    "    \n",
    "    Returns:\n",
    "        gamma_store (array): gamma draws.\n",
    "        accept_ store (array): accept flags.\n",
    "    \"\"\"\n",
    "\n",
    "    gamma_store = np.zeros(n_burn+n_keep)\n",
    "    accept_store = np.zeros(n_burn + n_keep)\n",
    "    theta = gamma\n",
    "    Log_J = np.sum(np.log(cauchy_pdf(x, mu, theta)))\n",
    "    \n",
    "    # MCMC sampling\n",
    "    for i in range(n_burn + n_keep):\n",
    "    #    Propose a new state by drawing from the jumping distribution\n",
    "    # \n",
    "        state_new = np.random.lognormal(np.log(theta) - 0.5 * rho ** 2, rho)\n",
    "        # \n",
    "        Log_J_new = np.sum(np.log(cauchy_pdf(x, mu, state_new))) \n",
    "    \n",
    "        log_p_ratio=(alpha0-1)*(np.log(state_new)-np.log(theta))-beta0*(state_new-theta)\n",
    "    \n",
    "        ratio = log_p_ratio + Log_J_new - Log_J\n",
    "\n",
    "        alpha = np.min([0, ratio])\n",
    "        r = np.random.uniform()\n",
    "        if np.log(r) < alpha:\n",
    "            theta = state_new\n",
    "            Log_J = Log_J_new\n",
    "            accept_store[i] = True\n",
    "        gamma_store[i] = state_new\n",
    "        i += 1\n",
    "            \n",
    "    return gamma_store[n_burn:], accept_store[n_burn:] \n"
   ]
  },
  {
   "cell_type": "code",
   "execution_count": 18,
   "metadata": {
    "ExecuteTime": {
     "end_time": "2024-04-17T20:42:49.141009Z",
     "start_time": "2024-04-17T20:42:49.101401Z"
    }
   },
   "outputs": [],
   "source": [
    "mu = 1\n",
    "gamma = 0.1\n",
    "alpha0 = 0.001\n",
    "beta0 = 0.001\n",
    "rho = 0.1\n",
    "n_burn = 1000\n",
    "n_keep = 1000\n",
    "\n",
    "\n",
    "CAUCHY_MU_GT: float = 1.0\n",
    "CAUCHY_GAMMA_GT: float = 1.0\n",
    "CAUCHY_N_DRAWS: int = 1000\n",
    "cauchy_draws = cauchy_rng(CAUCHY_MU_GT, CAUCHY_GAMMA_GT, CAUCHY_N_DRAWS)\n",
    "x = cauchy_draws\n",
    "gamma_store, accept_store = mcmc_lognormal(x, mu, gamma, alpha0, beta0, rho, n_burn, n_keep)"
   ]
  },
  {
   "cell_type": "code",
   "execution_count": 19,
   "metadata": {
    "ExecuteTime": {
     "end_time": "2024-04-17T20:42:49.499488Z",
     "start_time": "2024-04-17T20:42:49.496911Z"
    }
   },
   "outputs": [
    {
     "data": {
      "text/plain": "0.9900467410192486"
     },
     "execution_count": 19,
     "metadata": {},
     "output_type": "execute_result"
    }
   ],
   "source": [
    "gamma_store.mean()"
   ]
  },
  {
   "cell_type": "code",
   "execution_count": 20,
   "metadata": {
    "ExecuteTime": {
     "end_time": "2024-04-17T20:42:49.914595Z",
     "start_time": "2024-04-17T20:42:49.911262Z"
    }
   },
   "outputs": [
    {
     "data": {
      "text/plain": "0.11135015183364963"
     },
     "execution_count": 20,
     "metadata": {},
     "output_type": "execute_result"
    }
   ],
   "source": [
    "gamma_store.std()"
   ]
  },
  {
   "cell_type": "code",
   "execution_count": 21,
   "metadata": {
    "ExecuteTime": {
     "end_time": "2024-04-17T20:42:50.250181Z",
     "start_time": "2024-04-17T20:42:50.247122Z"
    }
   },
   "outputs": [
    {
     "data": {
      "text/plain": "0.454"
     },
     "execution_count": 21,
     "metadata": {},
     "output_type": "execute_result"
    }
   ],
   "source": [
    "accept_store.mean()"
   ]
  },
  {
   "cell_type": "code",
   "execution_count": 22,
   "metadata": {
    "ExecuteTime": {
     "end_time": "2024-04-17T20:42:50.625420Z",
     "start_time": "2024-04-17T20:42:50.621862Z"
    }
   },
   "outputs": [
    {
     "data": {
      "text/plain": "(1.0018643201802462, 332.96996290233)"
     },
     "execution_count": 22,
     "metadata": {},
     "output_type": "execute_result"
    }
   ],
   "source": [
    "rhat_n_eff(gamma_store)"
   ]
  },
  {
   "cell_type": "code",
   "execution_count": 23,
   "metadata": {
    "ExecuteTime": {
     "end_time": "2024-04-17T20:42:51.372909Z",
     "start_time": "2024-04-17T20:42:51.075084Z"
    }
   },
   "outputs": [],
   "source": [
    "rho_test = [0.00001, 0.0001, 0.001, 0.01, 0.1, 0.15, 0.2, 0.25, 0.5, 1]\n",
    "\n",
    "gamma_store_all = {}\n",
    "gamma_mean = []\n",
    "gamma_std = []\n",
    "gamma_accept = []\n",
    "gamma_rhat = []\n",
    "gamma_n_eff = []\n",
    "\n",
    "for rho in rho_test:\n",
    "    gamma_store, accept_store = mcmc_lognormal(x, mu, gamma, alpha0, beta0, rho, n_burn, n_keep)\n",
    "    rhat, n_eff = rhat_n_eff(gamma_store)\n",
    "    \n",
    "    gamma_store_all[rho] = gamma_store\n",
    "    gamma_mean.append(gamma_store.mean())\n",
    "    gamma_std.append(gamma_store.std())\n",
    "    gamma_accept.append(accept_store.mean())\n",
    "    gamma_rhat.append(rhat)\n",
    "    gamma_n_eff.append(n_eff)"
   ]
  },
  {
   "cell_type": "code",
   "execution_count": 24,
   "metadata": {
    "ExecuteTime": {
     "end_time": "2024-04-17T20:42:51.845192Z",
     "start_time": "2024-04-17T20:42:51.838749Z"
    }
   },
   "outputs": [
    {
     "data": {
      "text/plain": "       rho  Post. mean  Post. std.  Acceptance ratio      Rhat        n_eff\n0  0.00001    0.100059    0.000007             0.996  1.018982     8.156186\n1  0.00010    0.099874    0.000145             0.964  1.546299     2.554399\n2  0.00100    0.143793    0.008882             0.805  2.703931     1.381137\n3  0.01000    0.988788    0.034088             0.945  0.999021    17.673032\n4  0.10000    0.991396    0.103974             0.491  0.999051   521.893745\n5  0.15000    0.997596    0.162931             0.334  0.999061   678.036394\n6  0.20000    1.000909    0.198552             0.285  0.999825   783.684688\n7  0.25000    0.983946    0.248900             0.227  0.999129   877.108132\n8  0.50000    1.012179    0.555612             0.096  0.999223  1008.110657\n9  1.00000    0.972241    1.363432             0.052  0.999352  1113.539484",
      "text/html": "<div>\n<style scoped>\n    .dataframe tbody tr th:only-of-type {\n        vertical-align: middle;\n    }\n\n    .dataframe tbody tr th {\n        vertical-align: top;\n    }\n\n    .dataframe thead th {\n        text-align: right;\n    }\n</style>\n<table border=\"1\" class=\"dataframe\">\n  <thead>\n    <tr style=\"text-align: right;\">\n      <th></th>\n      <th>rho</th>\n      <th>Post. mean</th>\n      <th>Post. std.</th>\n      <th>Acceptance ratio</th>\n      <th>Rhat</th>\n      <th>n_eff</th>\n    </tr>\n  </thead>\n  <tbody>\n    <tr>\n      <th>0</th>\n      <td>0.00001</td>\n      <td>0.100059</td>\n      <td>0.000007</td>\n      <td>0.996</td>\n      <td>1.018982</td>\n      <td>8.156186</td>\n    </tr>\n    <tr>\n      <th>1</th>\n      <td>0.00010</td>\n      <td>0.099874</td>\n      <td>0.000145</td>\n      <td>0.964</td>\n      <td>1.546299</td>\n      <td>2.554399</td>\n    </tr>\n    <tr>\n      <th>2</th>\n      <td>0.00100</td>\n      <td>0.143793</td>\n      <td>0.008882</td>\n      <td>0.805</td>\n      <td>2.703931</td>\n      <td>1.381137</td>\n    </tr>\n    <tr>\n      <th>3</th>\n      <td>0.01000</td>\n      <td>0.988788</td>\n      <td>0.034088</td>\n      <td>0.945</td>\n      <td>0.999021</td>\n      <td>17.673032</td>\n    </tr>\n    <tr>\n      <th>4</th>\n      <td>0.10000</td>\n      <td>0.991396</td>\n      <td>0.103974</td>\n      <td>0.491</td>\n      <td>0.999051</td>\n      <td>521.893745</td>\n    </tr>\n    <tr>\n      <th>5</th>\n      <td>0.15000</td>\n      <td>0.997596</td>\n      <td>0.162931</td>\n      <td>0.334</td>\n      <td>0.999061</td>\n      <td>678.036394</td>\n    </tr>\n    <tr>\n      <th>6</th>\n      <td>0.20000</td>\n      <td>1.000909</td>\n      <td>0.198552</td>\n      <td>0.285</td>\n      <td>0.999825</td>\n      <td>783.684688</td>\n    </tr>\n    <tr>\n      <th>7</th>\n      <td>0.25000</td>\n      <td>0.983946</td>\n      <td>0.248900</td>\n      <td>0.227</td>\n      <td>0.999129</td>\n      <td>877.108132</td>\n    </tr>\n    <tr>\n      <th>8</th>\n      <td>0.50000</td>\n      <td>1.012179</td>\n      <td>0.555612</td>\n      <td>0.096</td>\n      <td>0.999223</td>\n      <td>1008.110657</td>\n    </tr>\n    <tr>\n      <th>9</th>\n      <td>1.00000</td>\n      <td>0.972241</td>\n      <td>1.363432</td>\n      <td>0.052</td>\n      <td>0.999352</td>\n      <td>1113.539484</td>\n    </tr>\n  </tbody>\n</table>\n</div>"
     },
     "execution_count": 24,
     "metadata": {},
     "output_type": "execute_result"
    }
   ],
   "source": [
    "results = pd.DataFrame(\n",
    "    data={\n",
    "        'rho': rho_test,\n",
    "        'Post. mean': gamma_mean,\n",
    "        'Post. std.': gamma_std,\n",
    "        'Acceptance ratio': gamma_accept,\n",
    "        'Rhat': gamma_rhat,\n",
    "        'n_eff': gamma_n_eff\n",
    "    }\n",
    ")\n",
    "results"
   ]
  },
  {
   "cell_type": "markdown",
   "metadata": {},
   "source": [
    "##### Trace plot"
   ]
  },
  {
   "cell_type": "code",
   "execution_count": 25,
   "metadata": {
    "ExecuteTime": {
     "end_time": "2024-04-17T20:42:52.912234Z",
     "start_time": "2024-04-17T20:42:52.827466Z"
    }
   },
   "outputs": [
    {
     "data": {
      "text/plain": "<Figure size 640x480 with 1 Axes>",
      "image/png": "[encoded data removed]"
     },
     "metadata": {},
     "output_type": "display_data"
    }
   ],
   "source": [
    "fig, ax = plt.subplots(1,1)\n",
    "ax.plot(gamma_store_all[0.1], label = 'Chain 1')\n",
    "plt.axhline(gamma_true, color=\"black\", linestyle=\"--\", label='Truth')\n",
    "\n",
    "ax.set(xlabel = 'Iteration after burn in', ylabel = r'$\\gamma$',\n",
    "       title= r'Trace plot of posterior draws of $\\gamma$')\n",
    "plt.legend()\n",
    "ax.grid()"
   ]
  },
  {
   "cell_type": "code",
   "execution_count": null,
   "outputs": [],
   "source": [],
   "metadata": {
    "collapsed": false
   }
  }
 ],
 "metadata": {
  "kernelspec": {
   "display_name": "Python 3",
   "language": "python",
   "name": "python3"
  },
  "language_info": {
   "codemirror_mode": {
    "name": "ipython",
    "version": 3
   },
   "file_extension": ".py",
   "mimetype": "text/x-python",
   "name": "python",
   "nbconvert_exporter": "python",
   "pygments_lexer": "ipython3",
   "version": "3.8.5"
  }
 },
 "nbformat": 4,
 "nbformat_minor": 4
}
