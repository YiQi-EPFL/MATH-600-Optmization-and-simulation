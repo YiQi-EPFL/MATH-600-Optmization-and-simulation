{
 "cells": [
  {
   "cell_type": "code",
   "execution_count": 107,
   "metadata": {
    "ExecuteTime": {
     "end_time": "2024-03-30T19:39:26.188602Z",
     "start_time": "2024-03-30T19:39:26.171154Z"
    }
   },
   "outputs": [],
   "source": [
    "import numpy as np\n",
    "import matplotlib.pyplot as plt"
   ]
  },
  {
   "cell_type": "markdown",
   "metadata": {},
   "source": [
    "# Queueing simulation with antithetic draws"
   ]
  },
  {
   "cell_type": "code",
   "execution_count": 163,
   "metadata": {
    "ExecuteTime": {
     "end_time": "2024-03-30T21:35:53.254792Z",
     "start_time": "2024-03-30T21:35:53.242053Z"
    }
   },
   "outputs": [],
   "source": [
    "def exponential_rng(lam, u):  \n",
    "    \"\"\" Generates exponential random number.\n",
    "    \n",
    "    Keywords:\n",
    "        lam (float): the rate parameter, the inverse expectation of the distribution.\n",
    "        u (float): Uniform random number.\n",
    "    \n",
    "    Returns:\n",
    "        exponential random number with given rate.\n",
    "    \"\"\"\n",
    "    return -np.log(u) / lam"
   ]
  },
  {
   "cell_type": "code",
   "execution_count": 164,
   "metadata": {
    "ExecuteTime": {
     "end_time": "2024-03-30T21:35:53.462956Z",
     "start_time": "2024-03-30T21:35:53.458532Z"
    }
   },
   "outputs": [],
   "source": [
    "class Event:\n",
    "    \"\"\" Generic event.\n",
    "    \n",
    "    Attributes:\n",
    "        time (float): Event time.\n",
    "    \"\"\"\n",
    "    def __init__(self, event_type,time):\n",
    "        self.time = time\n",
    "        type_map = {\n",
    "            0: \"SIMULATION_START\",\n",
    "            1: \"GENERATION\",\n",
    "            2: \"ARRIVAL\",\n",
    "            3: \"DEPARTURE\",\n",
    "            4: \"SIMULATION_END\",\n",
    "            }\n",
    "        if event_type in type_map:\n",
    "            self.type = type_map[event_type]\n",
    "                \n",
    "class Generation(Event):\n",
    "    \"\"\" Generation event.\n",
    "    \n",
    "    Attributes:\n",
    "        time (float): Event time.\n",
    "    \"\"\"\n",
    "    def __init__(self, time):\n",
    "        super().__init__(time)\n",
    "        \n",
    "class Arrival(Event):\n",
    "    \"\"\" Arrival event.\n",
    "    \n",
    "    Attributes:\n",
    "        time (float): Event time.\n",
    "    \"\"\"\n",
    "    def __init__(self, time):\n",
    "        super().__init__(time)\n",
    "        \n",
    "class Departure(Event):\n",
    "    \"\"\" Departure event.\n",
    "    \n",
    "    Attributes:\n",
    "        time (float): Event time.\n",
    "    \"\"\"\n",
    "    def __init__(self, time):\n",
    "        super().__init__(time)\n",
    "        \n",
    "class Termination(Event):\n",
    "    \"\"\" Termination event.\n",
    "    \n",
    "    Attributes:\n",
    "        time (float): Event time.\n",
    "    \"\"\"\n",
    "    def __init__(self, time):\n",
    "        super().__init__(time)"
   ]
  },
  {
   "cell_type": "code",
   "execution_count": 165,
   "metadata": {
    "ExecuteTime": {
     "end_time": "2024-03-30T21:35:53.753025Z",
     "start_time": "2024-03-30T21:35:53.745108Z"
    }
   },
   "outputs": [],
   "source": [
    "class Scenario:\n",
    "    \"\"\" Road scenario\n",
    "    \n",
    "    Attributes:\n",
    "        demand duration (float): Duration of vehicle generation.\n",
    "        t0 (float): Free-flow travel time.\n",
    "        lam (float): Entry rate.\n",
    "        mu (float): Service rate.\n",
    "    \"\"\"\n",
    "    \n",
    "    def __init__(self, \n",
    "                 demand_duration=50.0,\n",
    "                 t0=1.0,\n",
    "                 lam=1.0,\n",
    "                 mu=1.0,\n",
    "                ):\n",
    "        self.demand_duration = demand_duration\n",
    "        self.t0 = t0\n",
    "        self.lam = lam\n",
    "        self.mu = mu"
   ]
  },
  {
   "cell_type": "code",
   "execution_count": 189,
   "metadata": {
    "ExecuteTime": {
     "end_time": "2024-03-30T22:06:11.245489Z",
     "start_time": "2024-03-30T22:06:11.236181Z"
    }
   },
   "outputs": [],
   "source": [
    "def simulate(scenario, u):\n",
    "    \"\"\" Implements the simulation procedure.\n",
    "    \n",
    "    Keywords:\n",
    "        scenario (Scenario): Road scenario.\n",
    "        u (array): 3 x N array of uniform random numbers, N must be sufficiently large.\n",
    "    \n",
    "    Returns:\n",
    "        times (list): Event times. \n",
    "        queues (list): Queue length over time. \n",
    "    \"\"\"\n",
    "    \n",
    "    ###\n",
    "    \n",
    "    current_time = 0\n",
    "    queue = 0\n",
    "    events = []\n",
    "    times = []\n",
    "    queues = []\n",
    "    total_service_time = 0  # Initialize total service time\n",
    "    departures = 0  # Initialize number of departures\n",
    "\n",
    "    # Function to add events and keep the list sorted by event time\n",
    "    def schedule_event(event):\n",
    "        events.append(event)\n",
    "        events.sort(key=lambda e: e.time)\n",
    "    \n",
    "    # Initialize with simulation start\n",
    "    schedule_event(Event(0, current_time))\n",
    "    i=0\n",
    "    while events:\n",
    "        # Get the next event\n",
    "        event = events.pop(0)\n",
    "        current_time = event.time\n",
    "        times.append(current_time)\n",
    "        queues.append(queue)\n",
    "        i+=1\n",
    "        \n",
    "        if event.type == \"SIMULATION_START\":\n",
    "            # Schedule first generation event and simulation end\n",
    "            schedule_event(Event(1, current_time))  ##Genaration\n",
    "            schedule_event(Event(4, scenario.demand_duration)) ##SimEnd\n",
    "        \n",
    "        elif event.type == \"GENERATION\":\n",
    "            # Generate a vehicle and schedule next generation if within demand duration\n",
    "            if current_time <= scenario.demand_duration:\n",
    "                schedule_event(Event(1, current_time+exponential_rng(scenario.lam,u=u[0][i]) )) ##Next generation\n",
    "                schedule_event(Event(2, current_time+ np.random.uniform(0,scenario.t0) )) ##Arrive\n",
    "                \n",
    "                \n",
    "        elif event.type == \"ARRIVAL\":\n",
    "            # Vehicle arrives at the queue\n",
    "            queue += 1\n",
    "            if queue == 1:  # If the queue was empty, schedule departure\n",
    "                service_start_time = current_time \n",
    "                schedule_event(Event(3, current_time+exponential_rng(scenario.lam,u=u[1][i]) ))\n",
    "        \n",
    "        elif event.type == \"DEPARTURE\":\n",
    "            # Vehicle leaves the queue\n",
    "            service_end_time = current_time  # Capture the service end time\n",
    "            service_time = service_end_time - service_start_time  # Calculate service time for this departure\n",
    "            total_service_time += service_time  # Add to total service time\n",
    "            departures += 1  # Increment departures\n",
    "            queue -= 1\n",
    "            if queue > 0:  # If there are more vehicles, schedule next departure\n",
    "                service_start_time = current_time \n",
    "                schedule_event(Event(3,current_time + current_time+exponential_rng(scenario.lam,u=u[2][i]) ))\n",
    "            else:\n",
    "                times.append(current_time)\n",
    "                queues.append(queue)\n",
    "    \n",
    "        elif event.type == \"SIMULATION_END\":\n",
    "            break  # End simulation\n",
    "        \n",
    "    if departures > 0:\n",
    "        service_time_mean = total_service_time / departures\n",
    "    else:\n",
    "        service_time_mean = 0\n",
    "\n",
    "    return times, queues, service_time_mean"
   ]
  },
  {
   "cell_type": "code",
   "execution_count": 190,
   "metadata": {
    "ExecuteTime": {
     "end_time": "2024-03-30T22:06:11.662348Z",
     "start_time": "2024-03-30T22:06:11.659214Z"
    }
   },
   "outputs": [],
   "source": [
    "def moving_mean_var(new_data, old_mean, old_var, k):\n",
    "    \"\"\" Calculates moving sample mean and variance at time k.\n",
    "    \n",
    "    Keywords:\n",
    "        new_data (float): new data point arriving at time k.\n",
    "        old_mean (float): previous sample mean.\n",
    "        old_var (float): previous sample variance.\n",
    "        k (int): time index (starting from 1)\n",
    "    \n",
    "    Returns:\n",
    "        new_mean (float): updated sample mean.\n",
    "        new_var (float): updated sample variance.\n",
    "    \"\"\"\n",
    "    if k == 0:\n",
    "        # If this is the first data point, initialize mean and variance\n",
    "        new_mean = new_data\n",
    "        new_var = 0  # Variance is 0 as there's only one data point\n",
    "    else:\n",
    "        # Update the mean according to the slide formula\n",
    "        new_mean = old_mean + (new_data - old_mean) / (k+1)\n",
    "        # Update the variance according to the slide formula\n",
    "        new_var = (1 - 1/k) * old_var + (k+1) * (new_mean - old_mean)**2\n",
    "\n",
    "    return new_mean, new_var"
   ]
  },
  {
   "cell_type": "markdown",
   "metadata": {},
   "source": [
    "### Independent runs"
   ]
  },
  {
   "cell_type": "code",
   "execution_count": 191,
   "metadata": {
    "ExecuteTime": {
     "end_time": "2024-03-30T22:06:12.500573Z",
     "start_time": "2024-03-30T22:06:12.450739Z"
    }
   },
   "outputs": [
    {
     "data": {
      "text/plain": "array([39.59797975, 29.30870178, 24.01388487, 21.59398064, 19.61631974,\n       17.94303154, 17.02728902, 16.36306817, 15.58524944, 14.78697215,\n       14.71831471, 14.72613236, 14.14990389, 13.76434317, 13.30898819,\n       12.89607784, 12.5135221 , 12.21493669, 11.89250095, 12.29595365,\n       12.12310591, 11.98335473, 11.79835103, 11.59985632, 11.65484383,\n       11.64650272, 11.46440315, 11.26658602, 11.07321507, 11.04214799,\n       10.88632614, 10.75105703, 10.62284895, 10.47060712, 10.34269929,\n       10.2456319 , 10.15554701, 10.20359546, 10.62046283, 10.49895465,\n       10.38148647, 10.27463412, 10.22296362, 10.1066035 ,  9.99661779,\n        9.89468129,  9.79108003,  9.69066631,  9.62405574,  9.53992642,\n        9.53868048,  9.50082114,  9.43298108,  9.34793231,  9.26435355,\n        9.18389814,  9.16906145,  9.26491721,  9.30613976,  9.27612247,\n        9.20650047,  9.13201802,  9.13305526,  9.0644063 ,  9.1118407 ,\n        9.04401519,  9.01997588,  8.95391726,  8.91980605,  8.98664334,\n        8.95789796,  8.95220269,  8.8953457 ,  8.83955076,  8.79005618,\n        8.77420488,  8.81278436,  8.77960518,  8.81594499,  8.76289174,\n        8.71848866,  8.67269808,  8.62379894,  8.59887296,  8.55365299,\n        8.51063457,  8.48693599,  8.43914102,  8.39720095,  8.35092648,\n        8.5410884 ,  8.50428212,  8.46125788,  8.41664218,  8.44859975,\n        8.4044815 ,  8.39991008,  8.37148964,  8.33502407,  8.29397968,\n        8.25282406,  8.21275028,  8.1735059 ,  8.17060531,  8.14010294,\n        8.20161224,  8.20017708,  8.16267663,  8.19278248,  8.21140614,\n        8.20098246,  8.17821603,  8.16114769,  8.12572827,  8.09847562,\n        8.0639026 ,  8.03003921,  8.00030266,  7.96700127,  7.93614322,\n        7.90563845,  7.87548035,  7.85674835,  7.82943165,  7.79848174,\n        8.05618627,  8.03179812,  8.03029179,  7.99912413,  7.97060071,\n        7.97718236,  7.94717981,  7.91727584,  7.90906723,  7.89819482,\n        7.87956115,  7.86581168,  7.84233649,  7.81485067,  7.79963759,\n        7.79905713,  7.78143773,  7.75541205,  7.74121675,  7.71686006,\n        7.69166309,  7.72165564,  7.79609892,  7.78601971,  7.80178844,\n        7.77734553,  7.83592386,  7.81180909,  7.82056841,  7.81523612,\n        7.80522947,  7.78189755,  7.77735829,  7.76739021,  7.74959426,\n        7.79265067,  7.79433917,  7.77655366,  7.84096827,  7.9030452 ,\n        7.88054712,  7.85823929,  7.83789877,  7.82468894,  7.80472897,\n        7.78188265,  7.76094209,  7.77454769,  7.75241686,  7.73143356,\n        7.7094533 ,  7.69991191,  7.67827274,  7.66884432,  7.65254525,\n        7.68553524,  7.66714705,  7.69520459,  7.68204447,  7.66599317,\n        7.64782443,  7.63843863,  7.63818992,  7.62812951,  7.61468755,\n        7.62018129,  7.60430137,  7.61456838,  7.59583062,  7.57695562,\n        7.55764477,  7.56770022,  7.56345674,  7.5538785 ,  7.53945179,\n        7.54928962,  7.55001209,  7.5331522 ,  7.52070313,  7.50403791,\n        7.49852322,  7.48281662,  7.55972721,  7.54713902,  7.60115565,\n        7.58349158,  7.61076416,  7.59559469,  7.57810881,  7.56313507,\n        7.54690346,  7.53232861,  7.51535927,  7.52823797,  7.5469598 ,\n        7.53121857,  7.51460959,  7.51730733,  7.5008518 ,  7.50844952,\n        7.51575995])"
     },
     "execution_count": 191,
     "metadata": {},
     "output_type": "execute_result"
    }
   ],
   "source": [
    "#Requested precision for the estimation of the average maximum queue length. \n",
    "#Empirically calculated such that approximately 100 simulation runs are necessary.\n",
    "precision = 0.5\n",
    "\n",
    "max_queue_mean = 0\n",
    "max_queue_var = 0\n",
    "max_queue_all = []\n",
    "max_queue_mean_all = []\n",
    "max_queue_var_all = []\n",
    "run = 0\n",
    "\n",
    "scenario = Scenario()\n",
    "np.random.seed(4712)\n",
    "\n",
    "#Main loop\n",
    "while True:\n",
    "    run += 1\n",
    "    u = np.random.rand(3,1000)\n",
    "    #Run simulation\n",
    "    _, queues,_ = simulate(scenario, u)\n",
    "    max_queue = max(queues)\n",
    "    \n",
    "    #Collect statistics\n",
    "    max_queue_mean, max_queue_var = moving_mean_var(max_queue, max_queue_mean, max_queue_var, run)\n",
    "    max_queue_all.append(max_queue)\n",
    "    max_queue_mean_all.append(max_queue_mean)\n",
    "    max_queue_var_all.append(max_queue_var)\n",
    "    \n",
    "    #Check if necessary precision reached\n",
    "    if run >= 100 and np.sqrt(max_queue_var / run) < precision:\n",
    "        break\n",
    "        \n",
    "sd_independent = np.sqrt(max_queue_var_all)\n",
    "sd_independent"
   ]
  },
  {
   "cell_type": "markdown",
   "metadata": {},
   "source": [
    "### Antithetic runs"
   ]
  },
  {
   "cell_type": "code",
   "execution_count": 192,
   "metadata": {
    "ExecuteTime": {
     "end_time": "2024-03-30T22:06:13.322145Z",
     "start_time": "2024-03-30T22:06:13.269780Z"
    }
   },
   "outputs": [
    {
     "data": {
      "text/plain": "array([35.00178567, 28.72426384, 25.00333311, 21.72728699, 19.50897229,\n       17.85823806, 16.54201901, 15.47399252, 14.72346955, 14.18241549,\n       13.52242806, 12.98137226, 12.85512041, 12.39642806, 11.97736581,\n       11.59883995, 11.41754326, 11.13861362, 10.86262908, 10.59351778,\n       10.34062723, 10.10503142,  9.88335502,  9.69308173,  9.57777877,\n        9.41043399,  9.23866029,  9.08047627,  8.96879969,  8.827864  ,\n        8.75413209,  8.62362747,  8.49577855,  8.40530545,  8.28466742,\n        8.18450433,  8.13160772,  8.03133623,  7.99197314,  7.91328768,\n        7.81687363,  7.78363633,  7.75857978,  7.67122723,  7.58597263,\n        7.53766368,  7.49413926,  7.43708018,  7.37870626,  7.39122426,\n        7.31947134,  7.24924299,  7.2113751 ,  7.17227875,  7.11126781,\n        7.05440059,  7.00896065,  6.95375893,  6.89699742,  6.85740794,\n        6.80178007,  6.74873639,  6.80596654,  6.75260811,  6.7034982 ,\n        6.69811668,  6.64978612,  6.61594892,  6.57145783,  6.55932531,\n        6.5290034 ,  6.50653869,  6.46452814,  6.42156418,  6.41441291,\n        6.38584094,  6.34552868,  6.30664528,  6.26700219,  6.24455318,\n        6.23474652,  6.21107923,  6.2060474 ,  6.18234814,  6.14893805,\n        6.15540415,  6.12243378,  6.08790832,  6.09087445,  6.05952867,\n        6.0262406 ,  5.99497705,  5.97560673,  5.94380176,  5.92162814,\n        5.89354662,  5.86437644,  5.89365402,  5.88271522,  5.85381741,\n        5.8271218 ,  5.80308166,  5.79415499,  5.76882966,  5.74259162,\n        5.71670746,  5.721461  ,  5.70133158,  5.68138614,  5.67760302,\n        5.65588013,  5.65609644,  5.63731531,  5.62697546,  5.60249329,\n        5.6032626 ,  5.5828298 ,  5.56261057,  5.55895163,  5.54533967,\n        5.53700249,  5.51922234])"
     },
     "execution_count": 192,
     "metadata": {},
     "output_type": "execute_result"
    }
   ],
   "source": [
    "precision = 0.5\n",
    "\n",
    "max_queue_mean = 0\n",
    "max_queue_var = 0\n",
    "max_queue_all = []\n",
    "max_queue_mean_all = []\n",
    "max_queue_var_all = []\n",
    "run = 0\n",
    "\n",
    "scenario = Scenario()\n",
    "np.random.seed(4712)\n",
    "#Main loop\n",
    "while True:\n",
    "    run += 1\n",
    "    u = np.random.rand(3,1000)\n",
    "    #Run simulation\n",
    "    _, queues,_ = simulate(scenario, u)\n",
    "    _, queues_antithetic,_ = simulate(scenario, 1-u)\n",
    "    max_queue = (max(queues)+max(queues_antithetic))/2\n",
    "    \n",
    "    \n",
    "    #Collect statistics\n",
    "    max_queue_mean, max_queue_var = moving_mean_var(max_queue, max_queue_mean, max_queue_var, run)\n",
    "    max_queue_all.append(max_queue)\n",
    "    max_queue_mean_all.append(max_queue_mean)\n",
    "    max_queue_var_all.append(max_queue_var)\n",
    "    \n",
    "    #Check if necessary precision reached\n",
    "    if run >= 100 and np.sqrt(max_queue_var / run) < precision:\n",
    "        break\n",
    "        \n",
    "###\n",
    "\n",
    "sd_antithetic = np.sqrt(max_queue_var_all)\n",
    "sd_antithetic"
   ]
  },
  {
   "cell_type": "markdown",
   "metadata": {},
   "source": [
    "Plot the standard deviation of maximum queue length."
   ]
  },
  {
   "cell_type": "code",
   "execution_count": 193,
   "metadata": {
    "ExecuteTime": {
     "end_time": "2024-03-30T22:06:14.228683Z",
     "start_time": "2024-03-30T22:06:14.142419Z"
    }
   },
   "outputs": [
    {
     "data": {
      "text/plain": "<Figure size 640x480 with 1 Axes>",
      "image/png": "[encoded data removed]"
     },
     "metadata": {},
     "output_type": "display_data"
    }
   ],
   "source": [
    "fig = plt.figure()\n",
    "ax = plt.subplot(1,1,1)\n",
    "\n",
    "ax.plot(sd_independent, label='Std. dev. - independent runs')\n",
    "ax.plot(sd_antithetic, label='Std. dev. - antithetic runs')\n",
    "ax.set(title='Queue simulation',\n",
    "       xlabel='Epoch',\n",
    "       ylabel='Max. queue length')\n",
    "ax.legend()\n",
    "fig.savefig('figure_antithetic.pdf', dpi=300)\n",
    "plt.show()"
   ]
  },
  {
   "cell_type": "markdown",
   "metadata": {},
   "source": [
    "# Queueing simulation with control variates"
   ]
  },
  {
   "cell_type": "code",
   "execution_count": 198,
   "metadata": {
    "ExecuteTime": {
     "end_time": "2024-03-30T22:12:55.719439Z",
     "start_time": "2024-03-30T22:12:55.713924Z"
    }
   },
   "outputs": [],
   "source": [
    "def controlled_mean(x, y, mu):\n",
    "    \"\"\" Calculates the controlled mean.\n",
    "    \n",
    "    Keywords:\n",
    "        x (array): Data.\n",
    "        y (array): Control data.\n",
    "        mu (float): Scalar expectation of the control data.\n",
    "    \n",
    "    Returns:\n",
    "        avg (float): Controlled mean of the data.\n",
    "        var (float): Variance of the controlled mean.\n",
    "        z (array): Optimal linear combination of the data and the control data. \n",
    "    \"\"\"\n",
    "\n",
    "    \n",
    "    # Compute sample variances and covariance\n",
    "    var_y = np.var(y)\n",
    "    cov_xy = np.cov(x, y)[0, 1]\n",
    "    \n",
    "    # Calculate the coefficient 'a_hat' for the control variate\n",
    "    a_hat = cov_xy / var_y\n",
    "    \n",
    "    # Calculate the new controlled variable Z\n",
    "    z = x - a_hat * (y - mu)\n",
    "    \n",
    "    # Calculate the controlled mean of X\n",
    "    avg = np.mean(z)\n",
    "    var = np.var(z)\n",
    "    \n",
    "    return avg, var, z"
   ]
  },
  {
   "cell_type": "code",
   "execution_count": 213,
   "metadata": {
    "ExecuteTime": {
     "end_time": "2024-03-30T22:22:19.590165Z",
     "start_time": "2024-03-30T22:22:19.522202Z"
    }
   },
   "outputs": [
    {
     "data": {
      "text/plain": "array([6.5       , 7.5254243 , 6.90521638, 6.18246386, 5.87416755,\n       5.64393487, 5.58246784, 6.29083433, 6.24292333, 6.59241519,\n       7.09478322, 6.92642737, 6.75265124, 6.64590742, 6.45601259,\n       6.27322171, 6.1321979 , 6.00372568, 6.88644767, 7.03612686,\n       7.22295129, 7.0985515 , 6.9908198 , 7.33320399, 7.45235733,\n       7.41479073, 7.28263121, 7.15626288, 7.20446591, 7.13302654,\n       7.05515294, 7.02837826, 6.94238562, 6.86528563, 6.86399771,\n       6.81672803, 6.97056705, 7.66868249, 7.57470096, 7.48544184,\n       7.41535649, 7.51922885, 7.4354645 , 7.36749611, 7.30334048,\n       7.22531321, 7.15001352, 7.13648034, 7.07573537, 7.15364581,\n       7.1528281 , 7.11319342, 7.04920162, 6.99191707, 6.93029842,\n       6.95213589, 7.04886819, 7.1421199 , 7.12884425, 7.08866163,\n       7.0353501 , 7.08259291, 7.03091267, 7.08415852, 7.03060526,\n       6.99545417, 6.9459862 , 6.91559301, 7.06376439, 7.09056617,\n       7.15784981, 7.11501927, 7.07123224, 7.02621862, 7.03778099,\n       7.10922371, 7.11180777, 7.16802701, 7.13151385, 7.10304253,\n       7.06512731, 7.02936222, 7.01324006, 6.9859694 , 6.94954501,\n       6.93463069, 6.89600977, 6.86633209, 6.83220901, 7.06148481,\n       7.03320361, 7.00232117, 6.96507063, 7.02865968, 6.99202371,\n       7.01455363, 6.99525151, 6.96501317, 6.93032663, 6.89597587,\n       6.86246025, 6.8293902 , 6.84794762, 6.82194368, 6.91111771,\n       6.92057534, 6.89072402, 6.93440029, 6.97133288, 6.97681401,\n       6.96196754, 6.95035905, 6.92032121, 6.90155691, 6.8718761 ,\n       6.84248506, 6.82004826, 6.79223892, 6.76437717, 6.7381566 ,\n       6.71292091, 6.69459481, 6.67398851, 6.64871095, 6.96162515,\n       6.93779322, 6.94156532, 6.91492777, 6.89079126, 6.90556369,\n       6.87984657, 6.85393388, 6.84498286, 6.83790715, 6.82536226,\n       6.81192259, 6.79178859, 6.7683464 , 6.75211216, 6.74492767,\n       6.73417962, 6.71187772, 6.70814382, 6.68674122, 6.66409814,\n       6.70831822, 6.79546338, 6.79109871, 6.80844731, 6.78771059,\n       6.86622746, 6.84538214, 6.85590277, 6.85361958, 6.8563566 ,\n       6.83509614, 6.83025385, 6.82848428, 6.82195391, 6.87514698,\n       6.87487792, 6.86170802, 6.94904949, 7.01014482, 6.9908712 ,\n       6.97329857, 6.9528269 , 6.94401928, 6.92465515, 6.90444079,\n       6.89014659, 6.90493468, 6.88555975, 6.86588041, 6.84655735,\n       6.84244127, 6.82345277, 6.81598418, 6.80209895, 6.83034309,\n       6.81520183, 6.85243772, 6.84462807, 6.82819062, 6.81114734])"
     },
     "execution_count": 213,
     "metadata": {},
     "output_type": "execute_result"
    }
   ],
   "source": [
    "#Requested precision for the estimation of the average maximum queue length. \n",
    "#Empirically calculated such that approximately 100 simulation runs are necessary.\n",
    "precision = 0.5\n",
    "\n",
    "max_queue_mean = 0\n",
    "max_queue_var = 0\n",
    "max_queue_all = []\n",
    "max_queue_mean_controlled_all = []\n",
    "max_queue_var_controlled_all = []\n",
    "service_time_mean_all = []\n",
    "run = 0\n",
    "\n",
    "scenario = Scenario()\n",
    "np.random.seed(4712)\n",
    "#Main loop\n",
    "while True:\n",
    "    run += 1\n",
    "    u = np.random.rand(3,1000)\n",
    "    #Run simulation\n",
    "    _, queues,service_time_mean = simulate(scenario, u)\n",
    "    max_queue = max(queues)\n",
    "    max_queue_all.append(max_queue)\n",
    "    service_time_mean_all.append(service_time_mean)\n",
    "    #Collect statistics\n",
    "    if run >1:\n",
    "        max_queue_mean, max_queue_var,_ = controlled_mean(x=np.array(max_queue_all),y=np.array(service_time_mean_all), mu=scenario.mu)\n",
    "        max_queue_mean_controlled_all.append(max_queue_mean)\n",
    "        max_queue_var_controlled_all.append(max_queue_var)\n",
    "    \n",
    "    #Check if necessary precision reached\n",
    "    if run >= 100 and np.sqrt(max_queue_var / run) < precision:\n",
    "        break\n",
    "\n",
    "sd_control = np.sqrt(max_queue_var_controlled_all)\n",
    "sd_control"
   ]
  },
  {
   "cell_type": "markdown",
   "metadata": {},
   "source": [
    "Information on correlation"
   ]
  },
  {
   "cell_type": "code",
   "execution_count": 214,
   "metadata": {
    "ExecuteTime": {
     "end_time": "2024-03-30T22:22:23.752612Z",
     "start_time": "2024-03-30T22:22:23.747193Z"
    }
   },
   "outputs": [
    {
     "data": {
      "text/plain": "array([[1.        , 0.14360824],\n       [0.14360824, 1.        ]])"
     },
     "execution_count": 214,
     "metadata": {},
     "output_type": "execute_result"
    }
   ],
   "source": [
    "np.corrcoef(service_time_mean_all, max_queue_all)"
   ]
  },
  {
   "cell_type": "code",
   "execution_count": 215,
   "metadata": {
    "ExecuteTime": {
     "end_time": "2024-03-30T22:22:24.318832Z",
     "start_time": "2024-03-30T22:22:24.228675Z"
    }
   },
   "outputs": [
    {
     "data": {
      "text/plain": "<Figure size 640x480 with 1 Axes>",
      "image/png": "[encoded data removed]"
     },
     "metadata": {},
     "output_type": "display_data"
    }
   ],
   "source": [
    "fig = plt.figure()\n",
    "ax = plt.subplot(1,1,1)\n",
    "\n",
    "ax.plot(sd_independent, label='Std. dev. - independent runs')\n",
    "ax.plot(sd_control, label='Std. dev. - controlled runs')\n",
    "ax.set(title='Queue simulation',\n",
    "       xlabel='Epoch',\n",
    "       ylabel='Max. queue length')\n",
    "ax.legend()\n",
    "fig.savefig('figure_control_variates.pdf', dpi=300)\n",
    "plt.show()"
   ]
  },
  {
   "cell_type": "code",
   "execution_count": null,
   "metadata": {},
   "outputs": [],
   "source": []
  }
 ],
 "metadata": {
  "kernelspec": {
   "display_name": "Python 3",
   "language": "python",
   "name": "python3"
  },
  "language_info": {
   "codemirror_mode": {
    "name": "ipython",
    "version": 3
   },
   "file_extension": ".py",
   "mimetype": "text/x-python",
   "name": "python",
   "nbconvert_exporter": "python",
   "pygments_lexer": "ipython3",
   "version": "3.8.5"
  }
 },
 "nbformat": 4,
 "nbformat_minor": 2
}
