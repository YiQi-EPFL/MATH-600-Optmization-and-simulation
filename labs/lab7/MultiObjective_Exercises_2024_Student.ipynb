{
 "cells": [
  {
   "cell_type": "markdown",
   "metadata": {},
   "source": [
    "**Submitted by `Qi Yi` on `12th May`**"
   ]
  },
  {
   "cell_type": "markdown",
   "metadata": {},
   "source": [
    "# Optimization Exercises\n",
    "\n",
    "This notebook was written by Selin Ataç (selin.atac@epfl.ch) and edited by Dr. Léa Ricard (lea.ricard@epfl.ch) for the Optimization and Simulation course at EPFL (https://edu.epfl.ch/studyplan/en/doctoral_school/civil-and-environmental-engineering/coursebook/optimization-and-simulation-MATH-600). \n",
    "\n",
    "Please contact before distributing or reusing the material below."
   ]
  },
  {
   "cell_type": "markdown",
   "metadata": {},
   "source": [
    "## Table of Contents\n",
    "* [(Priced) Knapsack Problem](#(Priced)-Knapsack-problem)\n",
    "   * [Problem definition and encoding](#Problem-definition-(KP))\n",
    "   * [Implementation](#Implementation)\n",
    "   * [Core functionalities](#The-core-functionalities)\n",
    "* [Multi-objective optimization](#Multi-objective-optimization)\n",
    "    * [Dominance](#Dominance)"
   ]
  },
  {
   "cell_type": "markdown",
   "metadata": {},
   "source": [
    "## (Priced) Knapsack problem\n",
    "\n",
    "### Problem definition (KP)\n",
    "\n",
    "Each item has a weight $w$, utility $u$ and cost $c$. What is the set of items that can be put in the knapsack that is below the maximum weigh, minimizes the cost, and maximizes the utility?\n",
    "\n",
    "### Problem encoding\n",
    "\n",
    "We consecutively number the items: $0,..., n$\n",
    "\n",
    "We define our decision variables as $x_i=1$ if item $i$ is in the knapsack, $0$ otherwise.\n",
    "\n",
    "### Objectives\n",
    "\n",
    "1. Maximizing the utility: $\\max \\mathcal{f}_1(x)=\\sum_{i=1}^n u_i x_i$ \n",
    "2. Minimizing the cost: $\\min \\mathcal{f}_2(x)=\\sum_{i=1}^n c_i x_i$\n",
    "3. $w^Tx \\leq W$ where $W$ is the maximum weight allowed, e.g. 100kg"
   ]
  },
  {
   "cell_type": "markdown",
   "metadata": {},
   "source": [
    "### Implementation"
   ]
  },
  {
   "cell_type": "markdown",
   "metadata": {},
   "source": [
    "#### The required python libraries\n",
    "You will use the following python libraries in this exercise: `numpy`, `plotly`. Install it using `pip` on your command line:\n",
    "\n",
    "    pip install numpy plotly\n",
    "\n",
    "or if you are using conda:\n",
    "\n",
    "    conda install numpy\n",
    "    conda install -c plotly plotly"
   ]
  },
  {
   "cell_type": "code",
   "execution_count": 1,
   "metadata": {
    "ExecuteTime": {
     "end_time": "2024-05-12T22:49:59.311184Z",
     "start_time": "2024-05-12T22:49:59.307463Z"
    }
   },
   "outputs": [],
   "source": [
    "import numpy as np\n",
    "import plotly\n",
    "import plotly.graph_objects as go\n",
    "import time\n",
    "\n",
    "from numpy.random import Generator, PCG64 \n",
    "from plotly.subplots import make_subplots"
   ]
  },
  {
   "cell_type": "markdown",
   "metadata": {},
   "source": [
    "### The core functionalities\n",
    "\n",
    "Next, we implement the functions `total_cost()`, `total_utility()`, and `weight()`:"
   ]
  },
  {
   "cell_type": "code",
   "execution_count": 21,
   "metadata": {
    "ExecuteTime": {
     "end_time": "2024-05-12T23:11:55.555264Z",
     "start_time": "2024-05-12T23:11:55.547183Z"
    }
   },
   "outputs": [],
   "source": [
    "import numpy as np\n",
    "\n",
    "def total_cost(sol, item_costs):\n",
    "    \"\"\"Calculates the total cost of the items in the knapsack, ensuring item_costs is numeric.\"\"\"\n",
    "    return np.dot(sol, item_costs)  # Using np.dot for clarity\n",
    "\n",
    "def total_utility(sol, item_utilities):\n",
    "    \"\"\"Calculates the total utility of the items in the knapsack, ensuring item_utilities is numeric.\"\"\"\n",
    "    return np.dot(sol, item_utilities) \n",
    "\n",
    "def weight(sol, item_weights):\n",
    "    \"\"\"Calculates the total weight of the items in the knapsack, ensuring item_weights is numeric.\"\"\"\n",
    "    return np.dot(sol, item_weights)\n"
   ]
  },
  {
   "cell_type": "markdown",
   "metadata": {},
   "source": [
    "#### Test the functions `total_cost()`, `total_utility()`, and `weight()`"
   ]
  },
  {
   "cell_type": "code",
   "execution_count": 22,
   "metadata": {
    "ExecuteTime": {
     "end_time": "2024-05-12T23:11:57.439725Z",
     "start_time": "2024-05-12T23:11:57.434860Z"
    }
   },
   "outputs": [
    {
     "name": "stdout",
     "output_type": "stream",
     "text": [
      "weights:  [45 47 29 21 20]\n",
      "utility:  [ 7 98 32 82 55]\n",
      "cost:  [0.86346747 0.72134798 0.69142444 0.54085333 0.45354493]\n",
      "Knapsack composition:  [1 1 0 0 0]\n",
      "Total cost:  1.5848154561081227\n",
      "Total utility:  105\n",
      "Total weight:  92\n"
     ]
    }
   ],
   "source": [
    "rg = Generator(PCG64(42069)) # set your own unique seed number\n",
    "n_items = 5\n",
    "item_weights = rg.integers(10, 50, n_items)\n",
    "item_utilities = rg.integers(0, 100, n_items)\n",
    "item_costs = rg.random(n_items)\n",
    "\n",
    "print(\"weights: \", item_weights)\n",
    "print(\"utility: \", item_utilities)\n",
    "print(\"cost: \", item_costs)\n",
    "sol = rg.integers(0, 2, n_items) # Random solution\n",
    "print(\"Knapsack composition: \", sol)\n",
    "print(\"Total cost: \", total_cost(sol, item_costs))\n",
    "print(\"Total utility: \", total_utility(sol, item_utilities))\n",
    "print(\"Total weight: \", weight(sol, item_weights))"
   ]
  },
  {
   "cell_type": "markdown",
   "metadata": {},
   "source": [
    "# Multi-objective optimization"
   ]
  },
  {
   "cell_type": "markdown",
   "metadata": {},
   "source": [
    "In this lab, we will implement a multi-objective optimization algorithm (described in the lecture notes). Several methods are possible:\n",
    "\n",
    "1. Weighted sum\n",
    "2. Lexicographic rules (e.g., sequence by importance)\n",
    "3. Constrained optimization\n",
    "4. **Local search**/**heuristics**\n",
    "\n",
    "Here, we will use a heurisric local search algorithm.\n",
    "\n"
   ]
  },
  {
   "cell_type": "markdown",
   "metadata": {},
   "source": [
    "## Concepts in multi-objective optimization\n",
    "\n",
    "- We need to minimize several objective functions.\n",
    "- In many practical applications, the objectives are conflicting.\n",
    "- Improving one objective may deteriorate several others (e.g., risk vs reward).\n",
    "\n",
    "$$\n",
    "min F(x) = (f_1(x), ..., f_p(x))\n",
    "$$\n",
    "subject to\n",
    "$$\n",
    "x \\in F \\subseteq \\mathbb{R}^n\n",
    "$$\n",
    "where\n",
    "$$\n",
    "F: \\mathbb{R}^n \\rightarrow \\mathbb{R}^p\n",
    "$$"
   ]
  },
  {
   "cell_type": "markdown",
   "metadata": {},
   "source": [
    "## Dominance\n",
    "\n",
    "Notation:\n",
    "\n",
    "$x_1$ dominates $x_2$: $F(x_1)\\prec F(x_2)$\n",
    "\n",
    "Dominance must fulfill two conditions, assuming we want to **minimize**\n",
    "\n",
    "1. $x_1$ is no worse than $x_2$ in **any** objective: $\\forall i \\in \\{1,...,p\\},f_i(x_1)\\leq f_i(x_2)$\n",
    "2. $x_1$ is strictly better in at least one objective: $\\exists i \\in \\{1,...,p\\}, f_i(x_1)<f_i(x_2)$"
   ]
  },
  {
   "cell_type": "markdown",
   "metadata": {},
   "source": [
    "### Pseudo algorithm for local search\n",
    "\n",
    "Main difference with single objective optimization is that we need to maintain a set $P$ of potential Pareto optimal solutions such that $\\forall x,y \\in P, F(x) \\nprec F(y)$ and $F(y) \\nprec F(x)$.\n",
    "\n",
    "**Initialization:**\n",
    "\n",
    "Start with a first set $P$ of candidate solutions\n",
    "\n",
    "**Main iteration:**\n",
    "\n",
    "1. Select a random solution $x$ from $P$, define $x^+$ as a neighbour solution  \n",
    "2. Define 2 sets: $D(x^+)$ and $S(x^+)$, where\n",
    "\n",
    "$$D(x^+)=\\{y\\in P, s.t. F(x^+)\\prec F(y)\\}$$\n",
    "\n",
    "$$S(x^+)=\\{y\\in P, s.t. F(y)\\prec F(x^+)\\}$$\n",
    "\n",
    "In other words, at each iteration, compare each objective function of the new solution $x^+$ against all $y$ in $P$. If the condition is fulfiled for any of the above, put $y$ into the respective set.\n",
    "\n",
    "3. If $S(x^+)=\\emptyset$ (i.e., if $x^+$ is not dominated by any $y \\in P$)\n",
    "    \n",
    "    Update $P$ (remove all exisiting solutions in the Pareto set, $P$, if it appears in $D$ and add the new solution to $P$):\n",
    "$$\n",
    "P^+ = P\\cup \\{x^+\\} \\setminus D(x^+)\n",
    "$$"
   ]
  },
  {
   "cell_type": "markdown",
   "metadata": {},
   "source": [
    "Implement the dominance rule and compute the sets $D$ and $S$ in functions `dominance()` and `generate_D_and_S()`."
   ]
  },
  {
   "cell_type": "code",
   "execution_count": 23,
   "metadata": {
    "ExecuteTime": {
     "end_time": "2024-05-12T23:12:02.414305Z",
     "start_time": "2024-05-12T23:12:02.402815Z"
    }
   },
   "outputs": [],
   "source": [
    "def dominance(cost_x1, cost_x2):\n",
    "    \"\"\"Function to implement\n",
    "    Determines dominance between two solutions based on their cost components with respect to two objectives.\n",
    "\n",
    "    Args:\n",
    "        cost_x1 (list): a list of cost components with respect to objectives f_1 and f_2 for solution x1.\n",
    "        cost_x2 (list): a list of cost components with respect to objectives f_1 and f_2 for solution x2.\n",
    "        \n",
    "    Returns:\n",
    "        bool: True if solution x1 dominates solution x2, False otherwise.\n",
    "        \n",
    "    Examples:\n",
    "        >>> dominance([105, 1.58], [99, 2.25])\n",
    "        True\n",
    "        >>> dominance([105, 1.58], [99, 1.45])\n",
    "        False\n",
    "    \"\"\" \n",
    "    no_worse_in_all = all(x1 <= x2 for x1, x2 in zip(cost_x1, cost_x2))\n",
    "    strictly_better_in_at_least_one = any(x1 < x2 for x1, x2 in zip(cost_x1, cost_x2))\n",
    "    return no_worse_in_all and strictly_better_in_at_least_one\n",
    "\n",
    "\n",
    "def generate_D_and_S(P, cost_new, item_utilities, item_costs):\n",
    "    \n",
    "    \"\"\"Function to implement\n",
    "    Generates sets of solutions dominated and dominating a new neighbor solution within a Pareto set.\n",
    "\n",
    "    Args:\n",
    "        P (dict): a dictionary containing solutions in a Pareto set.\n",
    "        cost_new (list): a list of cost components with respect to objectives f_1 and f_2 for a new neighbor \n",
    "        solution.\n",
    "        item_utilities (list): a list of the utility u_1, ..., u_n of the items.\n",
    "        item_costs (list): a list of the cost c_1, ..., c_n of the items.\n",
    "\n",
    "    Returns:\n",
    "        D (dict): A set of solutions in P dominated by the new neighbor solution.\n",
    "        S (dict): A set of solutions in P that dominate the new neighbor solution.\n",
    "        \n",
    "    \"\"\" \n",
    "    D = {}\n",
    "    S = {}\n",
    "\n",
    "    for sol in P:\n",
    "        cost = total_cost(sol, item_costs)\n",
    "        utility = total_utility(sol, item_utilities)\n",
    "        if dominance(cost_new, [utility, cost]):\n",
    "            D.append(sol)\n",
    "        elif dominance([utility, cost], cost_new):\n",
    "            S.append(sol)\n",
    "\n",
    "    return D, S\n"
   ]
  },
  {
   "cell_type": "markdown",
   "metadata": {},
   "source": [
    "### Neighbourhood structures.\n",
    "\n",
    "Implement at least one neighborhood structure. Ensure that this neighborhood structure (or these neighborhood structures) enable(s) exploration of the Pareto frontier, from solutions with low costs and low utilities to solutions with high costs and high utilities. Ensure each neighborhood structure outputs feasible solutions by verifying that the total weight does not exceed the given maximum weight, $W$."
   ]
  },
  {
   "cell_type": "code",
   "execution_count": 50,
   "outputs": [],
   "source": [
    "import random\n",
    "def neighborhood_add(items_count, rg, base_solution, item_weights, W):\n",
    "    \"\"\"Function to implement\n",
    "    Generate a neighbor solution within the neighborhood structure.\n",
    "    Args:\n",
    "        solution (list): a list of all decision variables x_1, ... x_n of a current solution.\n",
    "        item_weights (list): a list of the weight w_1, ..., w_n of the items.\n",
    "        item_utilities (list): a list of the utility u_1, ..., u_n of the items.\n",
    "        item_costs (list): a list of the cost c_1, ..., c_n of the items.\n",
    "        W (int): maximum weight of the knapsack.\n",
    "\n",
    "    Returns:\n",
    "        neighbor (list): a list of all decision variables x_1, ... x_n of a neighboring solution.\n",
    "    \"\"\" \n",
    "    # Copy the current solution to start modifications\n",
    "    neighbor = deepcopy(base_solution)\n",
    "    tries = 0\n",
    "    while sum(neighbor) < items_count and tries < 100:\n",
    "        idx = rg.integers(0, len(neighbor))\n",
    "        if neighbor[idx] == 0 and weight(neighbor, item_weights) + item_weights[idx] <= W:\n",
    "            neighbor[idx] = 1\n",
    "        tries += 1\n",
    "    return neighbor if sum(neighbor) == items_count else None"
   ],
   "metadata": {
    "collapsed": false,
    "ExecuteTime": {
     "end_time": "2024-05-12T23:26:54.184221Z",
     "start_time": "2024-05-12T23:26:54.177704Z"
    }
   }
  },
  {
   "cell_type": "markdown",
   "metadata": {},
   "source": [
    "### Main loop\n",
    "\n",
    "\n",
    "Generate an initial random solution and add it to P. For example, start with 2 random items from the set.\n",
    "\n",
    "\n",
    "Main iteration\n",
    "\n",
    "    a. Select a random solution from set $P$\n",
    "    b. Find neighbor(s)\n",
    "    c. Compute the new cost of the new solution(s)\n",
    "    d. Apply Pareto dominance, i.e., sets $D$ and $S$\n",
    "    e. If $S$ is empty, update $P$\n",
    "\n",
    "        "
   ]
  },
  {
   "cell_type": "markdown",
   "metadata": {},
   "source": [
    "### Run the optimization"
   ]
  },
  {
   "cell_type": "code",
   "execution_count": 51,
   "outputs": [],
   "source": [
    "from numpy.random import default_rng\n",
    "from copy import deepcopy\n",
    "\n",
    "\n",
    "def is_dominated(solution, pareto_set, item_utilities, item_costs):\n",
    "    \"\"\"Check if a solution is dominated by any in the Pareto set.\"\"\"\n",
    "    sol_utility = total_utility(solution, item_utilities)\n",
    "    sol_cost = total_cost(solution, item_costs)\n",
    "    for pareto_sol in pareto_set:\n",
    "        if total_utility(pareto_sol, item_utilities) >= sol_utility and total_cost(pareto_sol, item_costs) <= sol_cost:\n",
    "            return True\n",
    "    return False\n",
    "\n",
    "def update_pareto_set(P, candidate, item_utilities, item_costs):\n",
    "    \"\"\"Update the Pareto set with a new candidate solution if it is not dominated.\"\"\"\n",
    "    non_dominated = True\n",
    "    to_remove = []\n",
    "    for sol in P:\n",
    "        if is_dominated(sol, [candidate], item_utilities, item_costs):\n",
    "            non_dominated = False\n",
    "            break\n",
    "        if is_dominated(candidate, [sol], item_utilities, item_costs):\n",
    "            to_remove.append(sol)\n",
    "\n",
    "    if non_dominated:\n",
    "        P.append(candidate)\n",
    "        for sol in to_remove:\n",
    "            P.remove(sol)\n",
    "\n",
    "def main(item_weights, item_utilities, item_costs, iterations=100, W=400):\n",
    "    rg = default_rng()\n",
    "    P = []  # Pareto optimal solutions as list of lists\n",
    "    D_all = []  # Dominated solutions archive\n",
    "\n",
    "    # Generate initial solution\n",
    "    P.append([0] * len(item_weights))  # No items is a feasible solution\n",
    "    for items_count in range(1, len(item_costs)):\n",
    "        neighbor = neighborhood_add(items_count, rg, P[0], item_weights, W)\n",
    "        if neighbor:\n",
    "            P.append(neighbor)\n",
    "\n",
    "    # Main iteration loop\n",
    "    iters = 0\n",
    "    while iters < iterations:\n",
    "        iters += 1\n",
    "\n",
    "        # Randomly select a solution from P\n",
    "        x = deepcopy(P[rg.integers(0, len(P))])\n",
    "\n",
    "        # Generate neighbor (simplified: try adding or removing a single item)\n",
    "        for _ in range(10):  # Attempt multiple neighbors per iteration\n",
    "            neighbor = deepcopy(x)\n",
    "            idx = rg.integers(0, len(neighbor))\n",
    "            neighbor[idx] = 1 - neighbor[idx]  # Toggle item presence\n",
    "\n",
    "            # Check weight constraint\n",
    "            if weight(neighbor, item_weights) <= W:\n",
    "                # Update Pareto set\n",
    "                update_pareto_set(P, neighbor, item_utilities, item_costs)\n",
    "\n",
    "    return P, D_all"
   ],
   "metadata": {
    "collapsed": false,
    "ExecuteTime": {
     "end_time": "2024-05-12T23:27:19.191863Z",
     "start_time": "2024-05-12T23:27:19.179580Z"
    }
   }
  },
  {
   "cell_type": "code",
   "execution_count": 52,
   "metadata": {
    "ExecuteTime": {
     "end_time": "2024-05-12T23:27:20.705243Z",
     "start_time": "2024-05-12T23:27:19.837857Z"
    }
   },
   "outputs": [],
   "source": [
    "rg = Generator(PCG64(42069)) # set your own unique seed number\n",
    "n_items = 20\n",
    "item_weights = rg.integers(10, 50, n_items)\n",
    "item_utilities = rg.integers(0, 100, n_items)\n",
    "item_costs = rg.random(n_items)\n",
    "P, D_all = main(item_weights, item_utilities, item_costs, iterations=1000, W=300) # weight limit=W"
   ]
  },
  {
   "cell_type": "markdown",
   "metadata": {},
   "source": [
    "### View the Pareto frontier"
   ]
  },
  {
   "cell_type": "code",
   "execution_count": 53,
   "outputs": [],
   "source": [
    "import plotly.graph_objects as go\n",
    "\n",
    "def draw_pareto_frontier(P, D_all, item_costs, item_utilities):\n",
    "    costs_P = []\n",
    "    utilities_P = []\n",
    "    costs_D = []\n",
    "    utilities_D = []\n",
    "\n",
    "    # Extracting data from Pareto solutions\n",
    "    for sol in P:\n",
    "        costs_P.append(total_cost(sol, item_costs))\n",
    "        utilities_P.append(total_utility(sol, item_utilities))\n",
    "\n",
    "    # Extracting data from dominated solutions\n",
    "    for sol in D_all:\n",
    "        costs_D.append(total_cost(sol, item_costs))\n",
    "        utilities_D.append(total_utility(sol, item_utilities))\n",
    "\n",
    "    # Plotting data\n",
    "    trace_P = go.Scatter(\n",
    "        x=utilities_P, \n",
    "        y=costs_P, \n",
    "        mode='markers', \n",
    "        name='Non-dominated',\n",
    "        marker=dict(color='blue')\n",
    "    )\n",
    "    trace_D = go.Scatter(\n",
    "        x=utilities_D, \n",
    "        y=costs_D, \n",
    "        mode='markers', \n",
    "        name='Dominated',\n",
    "        marker=dict(color='red', symbol='x')\n",
    "    )\n",
    "\n",
    "    layout = go.Layout(\n",
    "        title=\"Pareto Frontier for Multi-objective Knapsack Problem\",\n",
    "        xaxis=dict(title='Utility'),\n",
    "        yaxis=dict(title='Cost', autorange='reversed'),\n",
    "        legend=dict(x=0, y=1),\n",
    "        width=800, \n",
    "        height=600\n",
    "    )\n",
    "\n",
    "    fig = go.Figure(data=[trace_P, trace_D], layout=layout)\n",
    "    fig.show()"
   ],
   "metadata": {
    "collapsed": false,
    "ExecuteTime": {
     "end_time": "2024-05-12T23:27:22.784220Z",
     "start_time": "2024-05-12T23:27:22.780645Z"
    }
   }
  },
  {
   "cell_type": "markdown",
   "metadata": {},
   "source": [
    "#### Run the function `draw_pareto_frontier()`"
   ]
  },
  {
   "cell_type": "code",
   "execution_count": 54,
   "metadata": {
    "ExecuteTime": {
     "end_time": "2024-05-12T23:27:24.354700Z",
     "start_time": "2024-05-12T23:27:24.343074Z"
    }
   },
   "outputs": [
    {
     "data": {
      "application/vnd.plotly.v1+json": {
       "data": [
        {
         "marker": {
          "color": "blue"
         },
         "mode": "markers",
         "name": "Non-dominated",
         "x": [
          0,
          152,
          99,
          215,
          179,
          249,
          115,
          331,
          116,
          79,
          186,
          213,
          288,
          62,
          150,
          191,
          113,
          44,
          142,
          225,
          27,
          252,
          78,
          149,
          254,
          189,
          155,
          329,
          218,
          248,
          345,
          365,
          388,
          311,
          459,
          333,
          328,
          424,
          17,
          390,
          408
         ],
         "y": [
          0.0,
          3.9973469824138705,
          2.703144931336264,
          4.881617872169643,
          4.295153248141264,
          5.29500355724022,
          3.14098441171846,
          6.2550006506023035,
          3.4108823583854924,
          2.554519787690082,
          4.4107326674844485,
          4.708538933211842,
          5.995320411340957,
          1.8467823606408533,
          3.8242680434560703,
          4.697663836514607,
          2.96790547276066,
          1.6970165180514825,
          3.4387906774458536,
          5.111049521585185,
          0.9892790910022541,
          5.408855787312579,
          2.1104022031220606,
          3.554370096789038,
          5.581934726270379,
          4.524584897556807,
          4.111199212486229,
          6.081921711644503,
          4.995470102242001,
          5.165600039260757,
          6.463256614087106,
          6.668386335672881,
          6.722936853348452,
          6.049870929016528,
          6.962671817927015,
          6.351406841470373,
          6.064475672440215,
          6.908764528638649,
          0.7077374270492284,
          6.819343044216524,
          6.851393826844498
         ],
         "type": "scatter"
        },
        {
         "marker": {
          "color": "red",
          "symbol": "x"
         },
         "mode": "markers",
         "name": "Dominated",
         "x": [],
         "y": [],
         "type": "scatter"
        }
       ],
       "layout": {
        "height": 600,
        "legend": {
         "x": 0,
         "y": 1
        },
        "title": {
         "text": "Pareto Frontier for Multi-objective Knapsack Problem"
        },
        "width": 800,
        "xaxis": {
         "title": {
          "text": "Utility"
         }
        },
        "yaxis": {
         "autorange": "reversed",
         "title": {
          "text": "Cost"
         }
        },
        "template": {
         "data": {
          "histogram2dcontour": [
           {
            "type": "histogram2dcontour",
            "colorbar": {
             "outlinewidth": 0,
             "ticks": ""
            },
            "colorscale": [
             [
              0.0,
              "#0d0887"
             ],
             [
              0.1111111111111111,
              "#46039f"
             ],
             [
              0.2222222222222222,
              "#7201a8"
             ],
             [
              0.3333333333333333,
              "#9c179e"
             ],
             [
              0.4444444444444444,
              "#bd3786"
             ],
             [
              0.5555555555555556,
              "#d8576b"
             ],
             [
              0.6666666666666666,
              "#ed7953"
             ],
             [
              0.7777777777777778,
              "#fb9f3a"
             ],
             [
              0.8888888888888888,
              "#fdca26"
             ],
             [
              1.0,
              "#f0f921"
             ]
            ]
           }
          ],
          "choropleth": [
           {
            "type": "choropleth",
            "colorbar": {
             "outlinewidth": 0,
             "ticks": ""
            }
           }
          ],
          "histogram2d": [
           {
            "type": "histogram2d",
            "colorbar": {
             "outlinewidth": 0,
             "ticks": ""
            },
            "colorscale": [
             [
              0.0,
              "#0d0887"
             ],
             [
              0.1111111111111111,
              "#46039f"
             ],
             [
              0.2222222222222222,
              "#7201a8"
             ],
             [
              0.3333333333333333,
              "#9c179e"
             ],
             [
              0.4444444444444444,
              "#bd3786"
             ],
             [
              0.5555555555555556,
              "#d8576b"
             ],
             [
              0.6666666666666666,
              "#ed7953"
             ],
             [
              0.7777777777777778,
              "#fb9f3a"
             ],
             [
              0.8888888888888888,
              "#fdca26"
             ],
             [
              1.0,
              "#f0f921"
             ]
            ]
           }
          ],
          "heatmap": [
           {
            "type": "heatmap",
            "colorbar": {
             "outlinewidth": 0,
             "ticks": ""
            },
            "colorscale": [
             [
              0.0,
              "#0d0887"
             ],
             [
              0.1111111111111111,
              "#46039f"
             ],
             [
              0.2222222222222222,
              "#7201a8"
             ],
             [
              0.3333333333333333,
              "#9c179e"
             ],
             [
              0.4444444444444444,
              "#bd3786"
             ],
             [
              0.5555555555555556,
              "#d8576b"
             ],
             [
              0.6666666666666666,
              "#ed7953"
             ],
             [
              0.7777777777777778,
              "#fb9f3a"
             ],
             [
              0.8888888888888888,
              "#fdca26"
             ],
             [
              1.0,
              "#f0f921"
             ]
            ]
           }
          ],
          "heatmapgl": [
           {
            "type": "heatmapgl",
            "colorbar": {
             "outlinewidth": 0,
             "ticks": ""
            },
            "colorscale": [
             [
              0.0,
              "#0d0887"
             ],
             [
              0.1111111111111111,
              "#46039f"
             ],
             [
              0.2222222222222222,
              "#7201a8"
             ],
             [
              0.3333333333333333,
              "#9c179e"
             ],
             [
              0.4444444444444444,
              "#bd3786"
             ],
             [
              0.5555555555555556,
              "#d8576b"
             ],
             [
              0.6666666666666666,
              "#ed7953"
             ],
             [
              0.7777777777777778,
              "#fb9f3a"
             ],
             [
              0.8888888888888888,
              "#fdca26"
             ],
             [
              1.0,
              "#f0f921"
             ]
            ]
           }
          ],
          "contourcarpet": [
           {
            "type": "contourcarpet",
            "colorbar": {
             "outlinewidth": 0,
             "ticks": ""
            }
           }
          ],
          "contour": [
           {
            "type": "contour",
            "colorbar": {
             "outlinewidth": 0,
             "ticks": ""
            },
            "colorscale": [
             [
              0.0,
              "#0d0887"
             ],
             [
              0.1111111111111111,
              "#46039f"
             ],
             [
              0.2222222222222222,
              "#7201a8"
             ],
             [
              0.3333333333333333,
              "#9c179e"
             ],
             [
              0.4444444444444444,
              "#bd3786"
             ],
             [
              0.5555555555555556,
              "#d8576b"
             ],
             [
              0.6666666666666666,
              "#ed7953"
             ],
             [
              0.7777777777777778,
              "#fb9f3a"
             ],
             [
              0.8888888888888888,
              "#fdca26"
             ],
             [
              1.0,
              "#f0f921"
             ]
            ]
           }
          ],
          "surface": [
           {
            "type": "surface",
            "colorbar": {
             "outlinewidth": 0,
             "ticks": ""
            },
            "colorscale": [
             [
              0.0,
              "#0d0887"
             ],
             [
              0.1111111111111111,
              "#46039f"
             ],
             [
              0.2222222222222222,
              "#7201a8"
             ],
             [
              0.3333333333333333,
              "#9c179e"
             ],
             [
              0.4444444444444444,
              "#bd3786"
             ],
             [
              0.5555555555555556,
              "#d8576b"
             ],
             [
              0.6666666666666666,
              "#ed7953"
             ],
             [
              0.7777777777777778,
              "#fb9f3a"
             ],
             [
              0.8888888888888888,
              "#fdca26"
             ],
             [
              1.0,
              "#f0f921"
             ]
            ]
           }
          ],
          "mesh3d": [
           {
            "type": "mesh3d",
            "colorbar": {
             "outlinewidth": 0,
             "ticks": ""
            }
           }
          ],
          "scatter": [
           {
            "marker": {
             "line": {
              "color": "#283442"
             }
            },
            "type": "scatter"
           }
          ],
          "parcoords": [
           {
            "type": "parcoords",
            "line": {
             "colorbar": {
              "outlinewidth": 0,
              "ticks": ""
             }
            }
           }
          ],
          "scatterpolargl": [
           {
            "type": "scatterpolargl",
            "marker": {
             "colorbar": {
              "outlinewidth": 0,
              "ticks": ""
             }
            }
           }
          ],
          "bar": [
           {
            "error_x": {
             "color": "#f2f5fa"
            },
            "error_y": {
             "color": "#f2f5fa"
            },
            "marker": {
             "line": {
              "color": "rgb(17,17,17)",
              "width": 0.5
             },
             "pattern": {
              "fillmode": "overlay",
              "size": 10,
              "solidity": 0.2
             }
            },
            "type": "bar"
           }
          ],
          "scattergeo": [
           {
            "type": "scattergeo",
            "marker": {
             "colorbar": {
              "outlinewidth": 0,
              "ticks": ""
             }
            }
           }
          ],
          "scatterpolar": [
           {
            "type": "scatterpolar",
            "marker": {
             "colorbar": {
              "outlinewidth": 0,
              "ticks": ""
             }
            }
           }
          ],
          "histogram": [
           {
            "marker": {
             "pattern": {
              "fillmode": "overlay",
              "size": 10,
              "solidity": 0.2
             }
            },
            "type": "histogram"
           }
          ],
          "scattergl": [
           {
            "marker": {
             "line": {
              "color": "#283442"
             }
            },
            "type": "scattergl"
           }
          ],
          "scatter3d": [
           {
            "type": "scatter3d",
            "line": {
             "colorbar": {
              "outlinewidth": 0,
              "ticks": ""
             }
            },
            "marker": {
             "colorbar": {
              "outlinewidth": 0,
              "ticks": ""
             }
            }
           }
          ],
          "scattermapbox": [
           {
            "type": "scattermapbox",
            "marker": {
             "colorbar": {
              "outlinewidth": 0,
              "ticks": ""
             }
            }
           }
          ],
          "scatterternary": [
           {
            "type": "scatterternary",
            "marker": {
             "colorbar": {
              "outlinewidth": 0,
              "ticks": ""
             }
            }
           }
          ],
          "scattercarpet": [
           {
            "type": "scattercarpet",
            "marker": {
             "colorbar": {
              "outlinewidth": 0,
              "ticks": ""
             }
            }
           }
          ],
          "carpet": [
           {
            "aaxis": {
             "endlinecolor": "#A2B1C6",
             "gridcolor": "#506784",
             "linecolor": "#506784",
             "minorgridcolor": "#506784",
             "startlinecolor": "#A2B1C6"
            },
            "baxis": {
             "endlinecolor": "#A2B1C6",
             "gridcolor": "#506784",
             "linecolor": "#506784",
             "minorgridcolor": "#506784",
             "startlinecolor": "#A2B1C6"
            },
            "type": "carpet"
           }
          ],
          "table": [
           {
            "cells": {
             "fill": {
              "color": "#506784"
             },
             "line": {
              "color": "rgb(17,17,17)"
             }
            },
            "header": {
             "fill": {
              "color": "#2a3f5f"
             },
             "line": {
              "color": "rgb(17,17,17)"
             }
            },
            "type": "table"
           }
          ],
          "barpolar": [
           {
            "marker": {
             "line": {
              "color": "rgb(17,17,17)",
              "width": 0.5
             },
             "pattern": {
              "fillmode": "overlay",
              "size": 10,
              "solidity": 0.2
             }
            },
            "type": "barpolar"
           }
          ],
          "pie": [
           {
            "automargin": true,
            "type": "pie"
           }
          ]
         },
         "layout": {
          "autotypenumbers": "strict",
          "colorway": [
           "#636efa",
           "#EF553B",
           "#00cc96",
           "#ab63fa",
           "#FFA15A",
           "#19d3f3",
           "#FF6692",
           "#B6E880",
           "#FF97FF",
           "#FECB52"
          ],
          "font": {
           "color": "#f2f5fa"
          },
          "hovermode": "closest",
          "hoverlabel": {
           "align": "left"
          },
          "paper_bgcolor": "rgb(17,17,17)",
          "plot_bgcolor": "rgb(17,17,17)",
          "polar": {
           "bgcolor": "rgb(17,17,17)",
           "angularaxis": {
            "gridcolor": "#506784",
            "linecolor": "#506784",
            "ticks": ""
           },
           "radialaxis": {
            "gridcolor": "#506784",
            "linecolor": "#506784",
            "ticks": ""
           }
          },
          "ternary": {
           "bgcolor": "rgb(17,17,17)",
           "aaxis": {
            "gridcolor": "#506784",
            "linecolor": "#506784",
            "ticks": ""
           },
           "baxis": {
            "gridcolor": "#506784",
            "linecolor": "#506784",
            "ticks": ""
           },
           "caxis": {
            "gridcolor": "#506784",
            "linecolor": "#506784",
            "ticks": ""
           }
          },
          "coloraxis": {
           "colorbar": {
            "outlinewidth": 0,
            "ticks": ""
           }
          },
          "colorscale": {
           "sequential": [
            [
             0.0,
             "#0d0887"
            ],
            [
             0.1111111111111111,
             "#46039f"
            ],
            [
             0.2222222222222222,
             "#7201a8"
            ],
            [
             0.3333333333333333,
             "#9c179e"
            ],
            [
             0.4444444444444444,
             "#bd3786"
            ],
            [
             0.5555555555555556,
             "#d8576b"
            ],
            [
             0.6666666666666666,
             "#ed7953"
            ],
            [
             0.7777777777777778,
             "#fb9f3a"
            ],
            [
             0.8888888888888888,
             "#fdca26"
            ],
            [
             1.0,
             "#f0f921"
            ]
           ],
           "sequentialminus": [
            [
             0.0,
             "#0d0887"
            ],
            [
             0.1111111111111111,
             "#46039f"
            ],
            [
             0.2222222222222222,
             "#7201a8"
            ],
            [
             0.3333333333333333,
             "#9c179e"
            ],
            [
             0.4444444444444444,
             "#bd3786"
            ],
            [
             0.5555555555555556,
             "#d8576b"
            ],
            [
             0.6666666666666666,
             "#ed7953"
            ],
            [
             0.7777777777777778,
             "#fb9f3a"
            ],
            [
             0.8888888888888888,
             "#fdca26"
            ],
            [
             1.0,
             "#f0f921"
            ]
           ],
           "diverging": [
            [
             0,
             "#8e0152"
            ],
            [
             0.1,
             "#c51b7d"
            ],
            [
             0.2,
             "#de77ae"
            ],
            [
             0.3,
             "#f1b6da"
            ],
            [
             0.4,
             "#fde0ef"
            ],
            [
             0.5,
             "#f7f7f7"
            ],
            [
             0.6,
             "#e6f5d0"
            ],
            [
             0.7,
             "#b8e186"
            ],
            [
             0.8,
             "#7fbc41"
            ],
            [
             0.9,
             "#4d9221"
            ],
            [
             1,
             "#276419"
            ]
           ]
          },
          "xaxis": {
           "gridcolor": "#283442",
           "linecolor": "#506784",
           "ticks": "",
           "title": {
            "standoff": 15
           },
           "zerolinecolor": "#283442",
           "automargin": true,
           "zerolinewidth": 2
          },
          "yaxis": {
           "gridcolor": "#283442",
           "linecolor": "#506784",
           "ticks": "",
           "title": {
            "standoff": 15
           },
           "zerolinecolor": "#283442",
           "automargin": true,
           "zerolinewidth": 2
          },
          "scene": {
           "xaxis": {
            "backgroundcolor": "rgb(17,17,17)",
            "gridcolor": "#506784",
            "linecolor": "#506784",
            "showbackground": true,
            "ticks": "",
            "zerolinecolor": "#C8D4E3",
            "gridwidth": 2
           },
           "yaxis": {
            "backgroundcolor": "rgb(17,17,17)",
            "gridcolor": "#506784",
            "linecolor": "#506784",
            "showbackground": true,
            "ticks": "",
            "zerolinecolor": "#C8D4E3",
            "gridwidth": 2
           },
           "zaxis": {
            "backgroundcolor": "rgb(17,17,17)",
            "gridcolor": "#506784",
            "linecolor": "#506784",
            "showbackground": true,
            "ticks": "",
            "zerolinecolor": "#C8D4E3",
            "gridwidth": 2
           }
          },
          "shapedefaults": {
           "line": {
            "color": "#f2f5fa"
           }
          },
          "annotationdefaults": {
           "arrowcolor": "#f2f5fa",
           "arrowhead": 0,
           "arrowwidth": 1
          },
          "geo": {
           "bgcolor": "rgb(17,17,17)",
           "landcolor": "rgb(17,17,17)",
           "subunitcolor": "#506784",
           "showland": true,
           "showlakes": true,
           "lakecolor": "rgb(17,17,17)"
          },
          "title": {
           "x": 0.05
          },
          "updatemenudefaults": {
           "bgcolor": "#506784",
           "borderwidth": 0
          },
          "sliderdefaults": {
           "bgcolor": "#C8D4E3",
           "borderwidth": 1,
           "bordercolor": "rgb(17,17,17)",
           "tickwidth": 0
          },
          "mapbox": {
           "style": "dark"
          }
         }
        }
       },
       "config": {
        "plotlyServerURL": "https://plot.ly"
       }
      },
      "text/html": "<div>                            <div id=\"43d36bad-34c7-4b00-9e96-3d805bb40c2c\" class=\"plotly-graph-div\" style=\"height:600px; width:800px;\"></div>            <script type=\"text/javascript\">                require([\"plotly\"], function(Plotly) {                    window.PLOTLYENV=window.PLOTLYENV || {};                                    if (document.getElementById(\"43d36bad-34c7-4b00-9e96-3d805bb40c2c\")) {                    Plotly.newPlot(                        \"43d36bad-34c7-4b00-9e96-3d805bb40c2c\",                        [{\"marker\":{\"color\":\"blue\"},\"mode\":\"markers\",\"name\":\"Non-dominated\",\"x\":[0,152,99,215,179,249,115,331,116,79,186,213,288,62,150,191,113,44,142,225,27,252,78,149,254,189,155,329,218,248,345,365,388,311,459,333,328,424,17,390,408],\"y\":[0.0,3.9973469824138705,2.703144931336264,4.881617872169643,4.295153248141264,5.29500355724022,3.14098441171846,6.2550006506023035,3.4108823583854924,2.554519787690082,4.4107326674844485,4.708538933211842,5.995320411340957,1.8467823606408533,3.8242680434560703,4.697663836514607,2.96790547276066,1.6970165180514825,3.4387906774458536,5.111049521585185,0.9892790910022541,5.408855787312579,2.1104022031220606,3.554370096789038,5.581934726270379,4.524584897556807,4.111199212486229,6.081921711644503,4.995470102242001,5.165600039260757,6.463256614087106,6.668386335672881,6.722936853348452,6.049870929016528,6.962671817927015,6.351406841470373,6.064475672440215,6.908764528638649,0.7077374270492284,6.819343044216524,6.851393826844498],\"type\":\"scatter\"},{\"marker\":{\"color\":\"red\",\"symbol\":\"x\"},\"mode\":\"markers\",\"name\":\"Dominated\",\"x\":[],\"y\":[],\"type\":\"scatter\"}],                        {\"height\":600,\"legend\":{\"x\":0,\"y\":1},\"title\":{\"text\":\"Pareto Frontier for Multi-objective Knapsack Problem\"},\"width\":800,\"xaxis\":{\"title\":{\"text\":\"Utility\"}},\"yaxis\":{\"autorange\":\"reversed\",\"title\":{\"text\":\"Cost\"}},\"template\":{\"data\":{\"histogram2dcontour\":[{\"type\":\"histogram2dcontour\",\"colorbar\":{\"outlinewidth\":0,\"ticks\":\"\"},\"colorscale\":[[0.0,\"#0d0887\"],[0.1111111111111111,\"#46039f\"],[0.2222222222222222,\"#7201a8\"],[0.3333333333333333,\"#9c179e\"],[0.4444444444444444,\"#bd3786\"],[0.5555555555555556,\"#d8576b\"],[0.6666666666666666,\"#ed7953\"],[0.7777777777777778,\"#fb9f3a\"],[0.8888888888888888,\"#fdca26\"],[1.0,\"#f0f921\"]]}],\"choropleth\":[{\"type\":\"choropleth\",\"colorbar\":{\"outlinewidth\":0,\"ticks\":\"\"}}],\"histogram2d\":[{\"type\":\"histogram2d\",\"colorbar\":{\"outlinewidth\":0,\"ticks\":\"\"},\"colorscale\":[[0.0,\"#0d0887\"],[0.1111111111111111,\"#46039f\"],[0.2222222222222222,\"#7201a8\"],[0.3333333333333333,\"#9c179e\"],[0.4444444444444444,\"#bd3786\"],[0.5555555555555556,\"#d8576b\"],[0.6666666666666666,\"#ed7953\"],[0.7777777777777778,\"#fb9f3a\"],[0.8888888888888888,\"#fdca26\"],[1.0,\"#f0f921\"]]}],\"heatmap\":[{\"type\":\"heatmap\",\"colorbar\":{\"outlinewidth\":0,\"ticks\":\"\"},\"colorscale\":[[0.0,\"#0d0887\"],[0.1111111111111111,\"#46039f\"],[0.2222222222222222,\"#7201a8\"],[0.3333333333333333,\"#9c179e\"],[0.4444444444444444,\"#bd3786\"],[0.5555555555555556,\"#d8576b\"],[0.6666666666666666,\"#ed7953\"],[0.7777777777777778,\"#fb9f3a\"],[0.8888888888888888,\"#fdca26\"],[1.0,\"#f0f921\"]]}],\"heatmapgl\":[{\"type\":\"heatmapgl\",\"colorbar\":{\"outlinewidth\":0,\"ticks\":\"\"},\"colorscale\":[[0.0,\"#0d0887\"],[0.1111111111111111,\"#46039f\"],[0.2222222222222222,\"#7201a8\"],[0.3333333333333333,\"#9c179e\"],[0.4444444444444444,\"#bd3786\"],[0.5555555555555556,\"#d8576b\"],[0.6666666666666666,\"#ed7953\"],[0.7777777777777778,\"#fb9f3a\"],[0.8888888888888888,\"#fdca26\"],[1.0,\"#f0f921\"]]}],\"contourcarpet\":[{\"type\":\"contourcarpet\",\"colorbar\":{\"outlinewidth\":0,\"ticks\":\"\"}}],\"contour\":[{\"type\":\"contour\",\"colorbar\":{\"outlinewidth\":0,\"ticks\":\"\"},\"colorscale\":[[0.0,\"#0d0887\"],[0.1111111111111111,\"#46039f\"],[0.2222222222222222,\"#7201a8\"],[0.3333333333333333,\"#9c179e\"],[0.4444444444444444,\"#bd3786\"],[0.5555555555555556,\"#d8576b\"],[0.6666666666666666,\"#ed7953\"],[0.7777777777777778,\"#fb9f3a\"],[0.8888888888888888,\"#fdca26\"],[1.0,\"#f0f921\"]]}],\"surface\":[{\"type\":\"surface\",\"colorbar\":{\"outlinewidth\":0,\"ticks\":\"\"},\"colorscale\":[[0.0,\"#0d0887\"],[0.1111111111111111,\"#46039f\"],[0.2222222222222222,\"#7201a8\"],[0.3333333333333333,\"#9c179e\"],[0.4444444444444444,\"#bd3786\"],[0.5555555555555556,\"#d8576b\"],[0.6666666666666666,\"#ed7953\"],[0.7777777777777778,\"#fb9f3a\"],[0.8888888888888888,\"#fdca26\"],[1.0,\"#f0f921\"]]}],\"mesh3d\":[{\"type\":\"mesh3d\",\"colorbar\":{\"outlinewidth\":0,\"ticks\":\"\"}}],\"scatter\":[{\"marker\":{\"line\":{\"color\":\"#283442\"}},\"type\":\"scatter\"}],\"parcoords\":[{\"type\":\"parcoords\",\"line\":{\"colorbar\":{\"outlinewidth\":0,\"ticks\":\"\"}}}],\"scatterpolargl\":[{\"type\":\"scatterpolargl\",\"marker\":{\"colorbar\":{\"outlinewidth\":0,\"ticks\":\"\"}}}],\"bar\":[{\"error_x\":{\"color\":\"#f2f5fa\"},\"error_y\":{\"color\":\"#f2f5fa\"},\"marker\":{\"line\":{\"color\":\"rgb(17,17,17)\",\"width\":0.5},\"pattern\":{\"fillmode\":\"overlay\",\"size\":10,\"solidity\":0.2}},\"type\":\"bar\"}],\"scattergeo\":[{\"type\":\"scattergeo\",\"marker\":{\"colorbar\":{\"outlinewidth\":0,\"ticks\":\"\"}}}],\"scatterpolar\":[{\"type\":\"scatterpolar\",\"marker\":{\"colorbar\":{\"outlinewidth\":0,\"ticks\":\"\"}}}],\"histogram\":[{\"marker\":{\"pattern\":{\"fillmode\":\"overlay\",\"size\":10,\"solidity\":0.2}},\"type\":\"histogram\"}],\"scattergl\":[{\"marker\":{\"line\":{\"color\":\"#283442\"}},\"type\":\"scattergl\"}],\"scatter3d\":[{\"type\":\"scatter3d\",\"line\":{\"colorbar\":{\"outlinewidth\":0,\"ticks\":\"\"}},\"marker\":{\"colorbar\":{\"outlinewidth\":0,\"ticks\":\"\"}}}],\"scattermapbox\":[{\"type\":\"scattermapbox\",\"marker\":{\"colorbar\":{\"outlinewidth\":0,\"ticks\":\"\"}}}],\"scatterternary\":[{\"type\":\"scatterternary\",\"marker\":{\"colorbar\":{\"outlinewidth\":0,\"ticks\":\"\"}}}],\"scattercarpet\":[{\"type\":\"scattercarpet\",\"marker\":{\"colorbar\":{\"outlinewidth\":0,\"ticks\":\"\"}}}],\"carpet\":[{\"aaxis\":{\"endlinecolor\":\"#A2B1C6\",\"gridcolor\":\"#506784\",\"linecolor\":\"#506784\",\"minorgridcolor\":\"#506784\",\"startlinecolor\":\"#A2B1C6\"},\"baxis\":{\"endlinecolor\":\"#A2B1C6\",\"gridcolor\":\"#506784\",\"linecolor\":\"#506784\",\"minorgridcolor\":\"#506784\",\"startlinecolor\":\"#A2B1C6\"},\"type\":\"carpet\"}],\"table\":[{\"cells\":{\"fill\":{\"color\":\"#506784\"},\"line\":{\"color\":\"rgb(17,17,17)\"}},\"header\":{\"fill\":{\"color\":\"#2a3f5f\"},\"line\":{\"color\":\"rgb(17,17,17)\"}},\"type\":\"table\"}],\"barpolar\":[{\"marker\":{\"line\":{\"color\":\"rgb(17,17,17)\",\"width\":0.5},\"pattern\":{\"fillmode\":\"overlay\",\"size\":10,\"solidity\":0.2}},\"type\":\"barpolar\"}],\"pie\":[{\"automargin\":true,\"type\":\"pie\"}]},\"layout\":{\"autotypenumbers\":\"strict\",\"colorway\":[\"#636efa\",\"#EF553B\",\"#00cc96\",\"#ab63fa\",\"#FFA15A\",\"#19d3f3\",\"#FF6692\",\"#B6E880\",\"#FF97FF\",\"#FECB52\"],\"font\":{\"color\":\"#f2f5fa\"},\"hovermode\":\"closest\",\"hoverlabel\":{\"align\":\"left\"},\"paper_bgcolor\":\"rgb(17,17,17)\",\"plot_bgcolor\":\"rgb(17,17,17)\",\"polar\":{\"bgcolor\":\"rgb(17,17,17)\",\"angularaxis\":{\"gridcolor\":\"#506784\",\"linecolor\":\"#506784\",\"ticks\":\"\"},\"radialaxis\":{\"gridcolor\":\"#506784\",\"linecolor\":\"#506784\",\"ticks\":\"\"}},\"ternary\":{\"bgcolor\":\"rgb(17,17,17)\",\"aaxis\":{\"gridcolor\":\"#506784\",\"linecolor\":\"#506784\",\"ticks\":\"\"},\"baxis\":{\"gridcolor\":\"#506784\",\"linecolor\":\"#506784\",\"ticks\":\"\"},\"caxis\":{\"gridcolor\":\"#506784\",\"linecolor\":\"#506784\",\"ticks\":\"\"}},\"coloraxis\":{\"colorbar\":{\"outlinewidth\":0,\"ticks\":\"\"}},\"colorscale\":{\"sequential\":[[0.0,\"#0d0887\"],[0.1111111111111111,\"#46039f\"],[0.2222222222222222,\"#7201a8\"],[0.3333333333333333,\"#9c179e\"],[0.4444444444444444,\"#bd3786\"],[0.5555555555555556,\"#d8576b\"],[0.6666666666666666,\"#ed7953\"],[0.7777777777777778,\"#fb9f3a\"],[0.8888888888888888,\"#fdca26\"],[1.0,\"#f0f921\"]],\"sequentialminus\":[[0.0,\"#0d0887\"],[0.1111111111111111,\"#46039f\"],[0.2222222222222222,\"#7201a8\"],[0.3333333333333333,\"#9c179e\"],[0.4444444444444444,\"#bd3786\"],[0.5555555555555556,\"#d8576b\"],[0.6666666666666666,\"#ed7953\"],[0.7777777777777778,\"#fb9f3a\"],[0.8888888888888888,\"#fdca26\"],[1.0,\"#f0f921\"]],\"diverging\":[[0,\"#8e0152\"],[0.1,\"#c51b7d\"],[0.2,\"#de77ae\"],[0.3,\"#f1b6da\"],[0.4,\"#fde0ef\"],[0.5,\"#f7f7f7\"],[0.6,\"#e6f5d0\"],[0.7,\"#b8e186\"],[0.8,\"#7fbc41\"],[0.9,\"#4d9221\"],[1,\"#276419\"]]},\"xaxis\":{\"gridcolor\":\"#283442\",\"linecolor\":\"#506784\",\"ticks\":\"\",\"title\":{\"standoff\":15},\"zerolinecolor\":\"#283442\",\"automargin\":true,\"zerolinewidth\":2},\"yaxis\":{\"gridcolor\":\"#283442\",\"linecolor\":\"#506784\",\"ticks\":\"\",\"title\":{\"standoff\":15},\"zerolinecolor\":\"#283442\",\"automargin\":true,\"zerolinewidth\":2},\"scene\":{\"xaxis\":{\"backgroundcolor\":\"rgb(17,17,17)\",\"gridcolor\":\"#506784\",\"linecolor\":\"#506784\",\"showbackground\":true,\"ticks\":\"\",\"zerolinecolor\":\"#C8D4E3\",\"gridwidth\":2},\"yaxis\":{\"backgroundcolor\":\"rgb(17,17,17)\",\"gridcolor\":\"#506784\",\"linecolor\":\"#506784\",\"showbackground\":true,\"ticks\":\"\",\"zerolinecolor\":\"#C8D4E3\",\"gridwidth\":2},\"zaxis\":{\"backgroundcolor\":\"rgb(17,17,17)\",\"gridcolor\":\"#506784\",\"linecolor\":\"#506784\",\"showbackground\":true,\"ticks\":\"\",\"zerolinecolor\":\"#C8D4E3\",\"gridwidth\":2}},\"shapedefaults\":{\"line\":{\"color\":\"#f2f5fa\"}},\"annotationdefaults\":{\"arrowcolor\":\"#f2f5fa\",\"arrowhead\":0,\"arrowwidth\":1},\"geo\":{\"bgcolor\":\"rgb(17,17,17)\",\"landcolor\":\"rgb(17,17,17)\",\"subunitcolor\":\"#506784\",\"showland\":true,\"showlakes\":true,\"lakecolor\":\"rgb(17,17,17)\"},\"title\":{\"x\":0.05},\"updatemenudefaults\":{\"bgcolor\":\"#506784\",\"borderwidth\":0},\"sliderdefaults\":{\"bgcolor\":\"#C8D4E3\",\"borderwidth\":1,\"bordercolor\":\"rgb(17,17,17)\",\"tickwidth\":0},\"mapbox\":{\"style\":\"dark\"}}}},                        {\"responsive\": true}                    ).then(function(){\n                            \nvar gd = document.getElementById('43d36bad-34c7-4b00-9e96-3d805bb40c2c');\nvar x = new MutationObserver(function (mutations, observer) {{\n        var display = window.getComputedStyle(gd).display;\n        if (!display || display === 'none') {{\n            console.log([gd, 'removed!']);\n            Plotly.purge(gd);\n            observer.disconnect();\n        }}\n}});\n\n// Listen for the removal of the full notebook cells\nvar notebookContainer = gd.closest('#notebook-container');\nif (notebookContainer) {{\n    x.observe(notebookContainer, {childList: true});\n}}\n\n// Listen for the clearing of the current output cell\nvar outputEl = gd.closest('.output');\nif (outputEl) {{\n    x.observe(outputEl, {childList: true});\n}}\n\n                        })                };                });            </script>        </div>"
     },
     "metadata": {},
     "output_type": "display_data"
    }
   ],
   "source": [
    "draw_pareto_frontier(P, D_all, item_costs, item_utilities)"
   ]
  },
  {
   "cell_type": "markdown",
   "metadata": {},
   "source": [
    "## Further exercises\n",
    "\n",
    "Try to implement a full enumaration algorithm. Use the `itertools.product()` function to generate all possible solutions. Apply dominance conditions. \n",
    "\n",
    "Calculate the computational time and limitations of the full enumeration.\n",
    "\n",
    "What is the maximum problem size (number of items) that you could solve with this approach?"
   ]
  },
  {
   "cell_type": "code",
   "execution_count": 56,
   "metadata": {
    "ExecuteTime": {
     "end_time": "2024-05-12T23:29:11.293788Z",
     "start_time": "2024-05-12T23:29:11.278611Z"
    }
   },
   "outputs": [],
   "source": [
    "import itertools"
   ]
  },
  {
   "cell_type": "code",
   "execution_count": 57,
   "metadata": {
    "ExecuteTime": {
     "end_time": "2024-05-12T23:29:11.815196Z",
     "start_time": "2024-05-12T23:29:11.808417Z"
    }
   },
   "outputs": [],
   "source": [
    "def knapsack_fe(item_weights, item_utilities, item_costs, W=400):\n",
    "    \"\"\"Function to implement\n",
    "\n",
    "    Args:\n",
    "        item_weights (list): a list of the weight w_1, ..., w_n of the items\n",
    "        item_utilities (list): a list of the utility u_1, ..., u_n of the items.\n",
    "        item_costs (list): a list of the cost c_1, ..., c_n of the items.\n",
    "        W (int): maximum weight of the knapsack.\n",
    "\n",
    "    Returns:\n",
    "        P (dict): a dictionary containing solutions in a Pareto set.\n",
    "        D_all (dict): a dictionary containing all dominated solutions.\n",
    "        \n",
    "    \"\"\" \n",
    "    \n",
    "    start_time = time.time()  # Start timing the function\n",
    "\n",
    "    # Create all combinations of items (0 or 1 for each item)\n",
    "    combinations = itertools.product([0, 1], repeat=len(item_weights))\n",
    "    \n",
    "    P = {}  # Pareto set: solutions that are not dominated by any other\n",
    "    D_all = {}  # All evaluated solutions (optional to store)\n",
    "    \n",
    "    for comb in combinations:\n",
    "        comb = np.array(comb)\n",
    "        current_weight = np.dot(comb, item_weights)\n",
    "        if current_weight <= W:  # Check if the combination is feasible (within weight limit)\n",
    "            current_utility = np.dot(comb, item_utilities)\n",
    "            current_cost = np.dot(comb, item_costs)\n",
    "            current_solution = (current_utility, current_cost)\n",
    "\n",
    "            # Apply Pareto dominance checks\n",
    "            dominated = []\n",
    "            is_dominated = False\n",
    "            for key, value in P.items():\n",
    "                if (value[0] >= current_utility and value[1] <= current_cost):\n",
    "                    is_dominated = True\n",
    "                    break\n",
    "                if (current_utility >= value[0] and current_cost <= value[1]):\n",
    "                    dominated.append(key)\n",
    "\n",
    "            if not is_dominated:\n",
    "                P[tuple(comb)] = current_solution\n",
    "                for key in dominated:\n",
    "                    D_all[key] = P.pop(key)  # Move dominated solutions to D_all\n",
    "\n",
    "    end_time = time.time()  # End timing the function\n",
    "    print(f\"Execution time: {end_time - start_time} seconds\")\n",
    "    return P, D_all\n",
    "    "
   ]
  },
  {
   "cell_type": "code",
   "execution_count": 59,
   "metadata": {
    "ExecuteTime": {
     "end_time": "2024-05-12T23:29:36.149653Z",
     "start_time": "2024-05-12T23:29:34.216897Z"
    }
   },
   "outputs": [
    {
     "name": "stdout",
     "output_type": "stream",
     "text": [
      "Execution time: 1.9248857498168945 seconds\n"
     ]
    },
    {
     "data": {
      "application/vnd.plotly.v1+json": {
       "data": [
        {
         "marker": {
          "color": "blue"
         },
         "mode": "markers",
         "name": "Non-dominated",
         "x": [
          0,
          73,
          121,
          192,
          167,
          238,
          195,
          266,
          241,
          312,
          142,
          190,
          261,
          236,
          307,
          264,
          335,
          392,
          310,
          381,
          438,
          415,
          476,
          387,
          390,
          461,
          518,
          495,
          538,
          595,
          572,
          556,
          613,
          707,
          633,
          690,
          469,
          526,
          564,
          715,
          704,
          698,
          737,
          739,
          549,
          606,
          583,
          628,
          626,
          683,
          722,
          644
         ],
         "y": [
          0.0,
          0.012500914270159869,
          0.0728592846343592,
          0.31259424921292156,
          0.17130663891988618,
          0.41104160349844854,
          0.3185302121254371,
          0.5582651767039994,
          0.41697756641096406,
          0.6567125309895264,
          0.16661635171917466,
          0.226974722083374,
          0.46670968666193635,
          0.32542207636890097,
          0.5651570409474633,
          0.4726456495744519,
          0.7123806141530142,
          1.1803168168991642,
          0.5710930038599789,
          0.8108279684385412,
          1.278764171184691,
          1.2242136535091193,
          1.6376707854326868,
          1.1393400622191243,
          1.1452760251316398,
          1.3850109897102023,
          1.8529471924563523,
          1.7983966747807805,
          2.0580769140421262,
          2.5260131167882762,
          2.471462599112704,
          2.2118538067043483,
          2.679790009450498,
          4.138679469252667,
          2.884919731036272,
          3.352855933782422,
          1.5035555432608216,
          1.9714917460069716,
          2.3303983602549674,
          4.257224022803287,
          3.887735174342663,
          3.4714004873330415,
          4.558759935257132,
          5.910731492773097,
          2.077738564532483,
          2.5456747672786326,
          2.491124249603061,
          2.847210679732478,
          2.7508044888644068,
          3.2187406916105568,
          4.306100139534647,
          2.9045813815266284
         ],
         "type": "scatter"
        },
        {
         "marker": {
          "color": "red",
          "symbol": "x"
         },
         "mode": "markers",
         "name": "Dominated",
         "x": [
          63,
          57,
          120,
          111,
          105,
          168,
          134,
          182,
          191,
          290,
          71,
          128,
          153,
          151,
          216,
          215,
          210,
          273,
          278,
          249,
          239,
          228,
          312,
          329,
          336,
          375,
          369,
          285,
          262,
          295,
          289,
          358,
          352,
          328,
          319,
          324,
          307,
          391,
          408,
          415,
          176,
          179,
          244,
          261,
          278,
          341,
          340,
          222,
          199,
          227,
          225,
          301,
          256,
          284,
          335,
          347,
          313,
          302,
          364,
          374,
          403,
          398,
          410,
          449,
          443,
          359,
          336,
          369,
          363,
          437,
          432,
          426,
          402,
          393,
          398,
          381,
          465,
          482,
          489,
          335,
          352,
          415,
          379,
          487,
          520,
          448,
          438,
          414,
          436,
          446,
          440,
          477,
          511,
          514,
          509,
          503,
          479,
          472,
          470,
          475,
          458,
          542,
          48,
          119,
          94,
          122,
          165,
          168,
          178,
          144,
          193,
          224,
          250,
          273,
          318,
          316,
          301,
          332,
          373,
          350,
          358,
          335,
          412,
          407,
          395,
          380,
          411,
          239,
          249,
          252,
          296,
          317,
          330,
          334,
          351,
          414,
          413,
          295,
          272,
          300,
          298,
          375,
          374,
          329,
          357,
          409,
          429,
          408,
          420,
          386,
          375,
          452,
          437,
          471,
          492,
          491,
          488,
          527,
          432,
          409,
          442,
          436,
          486,
          505,
          499,
          475,
          466,
          471,
          454,
          515,
          525,
          522,
          538,
          549,
          551,
          408,
          425,
          488,
          452,
          554,
          553,
          521,
          511,
          487,
          509,
          519,
          513,
          550,
          582,
          576,
          552,
          545,
          543,
          548,
          531,
          403,
          405,
          485,
          484,
          482,
          527,
          594,
          599,
          565,
          564,
          561,
          480,
          615,
          610,
          609,
          559,
          614,
          613,
          588,
          606,
          582,
          604,
          608,
          213,
          346,
          323,
          318,
          321,
          391,
          389,
          423,
          369,
          364,
          341,
          367,
          407,
          398,
          426,
          498,
          486,
          448,
          446,
          468,
          464,
          444,
          502,
          484,
          501,
          478,
          511,
          505,
          577,
          575,
          580,
          579,
          525,
          543,
          541,
          535,
          523,
          477,
          494,
          563,
          557,
          521,
          597,
          637,
          590,
          580,
          556,
          578,
          588,
          582,
          626,
          645,
          650,
          621,
          620,
          614,
          612,
          600,
          472,
          474,
          554,
          553,
          667,
          551,
          596,
          663,
          668,
          549,
          634,
          633,
          630,
          678,
          628,
          683,
          682,
          657,
          675,
          673,
          677,
          460,
          458,
          517,
          515,
          492,
          537,
          594,
          571,
          533,
          574,
          649,
          567,
          612,
          646,
          660,
          658,
          555,
          553,
          552,
          610,
          632,
          631,
          706,
          629,
          695,
          689,
          721,
          560,
          617,
          715,
          712,
          639,
          637,
          696,
          730,
          718,
          722,
          540,
          546,
          597,
          603,
          621,
          674,
          717,
          644,
          635,
          643,
          641
         ],
         "y": [
          0.8842708897557718,
          0.46793620274615,
          1.3522070925019218,
          0.9446292601199712,
          0.5282945731103493,
          1.4125654628661213,
          1.1240058543343343,
          1.1843642246985335,
          1.5919420570804843,
          2.77342353956449,
          0.23973496457856236,
          0.7076711673247124,
          0.7134790200133397,
          0.6267419273958763,
          1.5977499097691117,
          1.468346391789648,
          1.1814152227594898,
          2.0656861125152615,
          2.3526172815454203,
          1.881732076860226,
          1.6523004274446835,
          1.2828115789840604,
          2.766002966615998,
          3.4737403936652265,
          2.871870893850017,
          3.5721877479507533,
          3.5428956547644854,
          1.7507477817302104,
          1.6961972640546388,
          1.980179431145753,
          1.9508873379594849,
          2.864450320901525,
          2.835158227715257,
          2.651204192060221,
          2.1641334668007888,
          2.451064635830947,
          2.0522836941840557,
          3.535475081815993,
          4.243212508865222,
          3.6413430090500123,
          0.7680295376889117,
          0.7739655006014272,
          1.1680128044282838,
          1.566793746075175,
          1.581398489498862,
          2.4656693792546336,
          2.33626586127517,
          0.8664768919744387,
          0.8119263742988667,
          0.9591499475044176,
          0.8724128548869542,
          1.635949007174434,
          1.2798625770450167,
          1.4270861502505676,
          2.049334692245012,
          2.3113570400063397,
          1.8979713549357613,
          1.5284825064751384,
          2.520219896930206,
          2.7496515463457483,
          3.220536751030942,
          2.933605582000784,
          3.117541821341095,
          3.817858675441831,
          3.788566582255563,
          1.9964187092212884,
          1.9418681915457165,
          2.225850358636831,
          2.196558265450563,
          3.63392243610152,
          3.110121248392603,
          3.080829155206335,
          2.896875119551299,
          2.4098043942918665,
          2.696735563322025,
          2.2979546216751334,
          3.781146009307071,
          4.488883436356299,
          3.88701393654109,
          1.8124646735662528,
          1.8270694169899397,
          2.7113403067457114,
          2.2015484308070623,
          3.7906077456730185,
          4.461632506587487,
          2.995322473836826,
          2.765890824421284,
          2.5819367887662477,
          2.6694846335532123,
          2.898916282968755,
          2.869624189782487,
          3.4662076785220197,
          3.8795933635925977,
          4.306988360433444,
          3.783187172724527,
          3.753895079538259,
          3.569941043883223,
          3.179276509491862,
          3.0828703186237902,
          3.3698014876539486,
          2.9710205460070576,
          4.4542119336389945,
          0.06035837036419933,
          0.3000933349427617,
          0.1588057246497263,
          0.3060292978552772,
          0.39854068922828867,
          0.4044766521408042,
          0.5407954873805092,
          0.25223587884872223,
          0.5457642624338396,
          0.6392428416660362,
          1.0137004651799897,
          1.0575973017899445,
          1.4136837319193618,
          1.3172775410512907,
          1.2953124932542204,
          1.6986124434938947,
          1.7852137437974407,
          1.7306632261218686,
          1.7632486960003706,
          1.7086981783247985,
          2.485530597898177,
          2.1985994288680186,
          2.0867496562512855,
          2.0647846084542154,
          2.46808455869389,
          0.6442116167193666,
          0.7805304519590716,
          0.7864664148715871,
          1.1121478194655166,
          1.1805137186984438,
          1.5255335045360945,
          1.5792946603453348,
          1.5938994037690217,
          2.478170293524794,
          2.34876677554533,
          0.8789778062445985,
          0.8244272885690266,
          0.9716508617745775,
          0.8849137691571141,
          1.8816199346655118,
          1.6484499214445938,
          1.2923634913151765,
          1.4395870645207274,
          2.2950056197360897,
          2.500135341321864,
          2.0618356065151717,
          2.3238579542764994,
          1.9104722692059215,
          1.5409834207452984,
          2.554685858997436,
          2.5327208112003654,
          2.9461064962709433,
          3.3844062310776355,
          3.255002713098172,
          3.1411504830258137,
          3.84146733712655,
          2.0089196234914484,
          1.9543691058158763,
          2.2383512729069905,
          2.2090591797207226,
          2.968071544068014,
          3.122622162662762,
          3.0933300694764942,
          2.909376033821459,
          2.4223053085620263,
          2.7092364775921842,
          2.3104555359452936,
          3.4389567487532076,
          3.6683883981687497,
          3.554536168096392,
          3.793646923577231,
          3.852342433823786,
          4.025421372781586,
          1.8249655878364126,
          1.8395703312600995,
          2.7238412210158716,
          2.214049345077222,
          4.139273602853944,
          3.9061035896330263,
          3.007823388106986,
          2.778391738691443,
          2.594437703036408,
          2.6819855478233725,
          2.9114171972389147,
          2.8821251040526468,
          3.47870859279218,
          3.7956880869946863,
          3.7663959938084184,
          3.582441958153383,
          3.191777423762021,
          3.0953712328939504,
          3.3823024019241084,
          2.9835214602772178,
          1.5380344188062545,
          1.7111133577640545,
          2.4980315121683367,
          2.4805854729640497,
          2.3075065340062495,
          2.835762440485594,
          3.92017288647064,
          4.207104055500799,
          3.3969071453477957,
          3.267503627368332,
          3.153651397295974,
          2.2111003431381784,
          4.466712847909155,
          4.265799565747353,
          4.032629552526435,
          2.9805724583381736,
          4.125302608056415,
          3.995899090076951,
          3.4514576630233673,
          3.605234555685589,
          3.4212805200305536,
          3.5088283648175183,
          3.7089679210467925,
          0.406351316297737,
          1.0700982160601045,
          1.0262013794501494,
          0.9346458894080863,
          0.9405818523206019,
          1.4261846461895216,
          1.3297784553214504,
          1.7431641403920284,
          1.1246487337356763,
          1.0330932436936133,
          0.9785427260180414,
          1.0390292066061289,
          1.483555347983672,
          1.4464789287641913,
          1.5937025019697422,
          2.3648772358004004,
          2.2530274631836673,
          1.8941208489356716,
          1.7977146580676004,
          2.0992505705214457,
          1.951491550729822,
          1.6950988581943132,
          2.5126362555920236,
          2.156621272315596,
          2.163035060940463,
          2.108484543264891,
          2.3924667103560053,
          2.3631746171697374,
          3.1343493510003952,
          3.037943160132324,
          3.3248743291624825,
          3.3074282899581955,
          2.5671867732675957,
          2.7209636659298173,
          2.624557475061746,
          2.576420746011041,
          2.4645709733943084,
          1.9790810252854274,
          1.9936857687091143,
          2.9260933875155914,
          2.8779566584648864,
          2.368164782526237,
          3.3394790725861694,
          4.179853125731986,
          3.1619388255560006,
          2.932507176140458,
          2.7485531404854227,
          2.8361009852723873,
          3.0655326346879295,
          3.0362405415016616,
          3.8103642772713635,
          3.920511431257433,
          4.2074426002875915,
          3.736557395602398,
          3.3940295902617414,
          3.345892861211036,
          3.2494866703429652,
          3.1376368977262326,
          1.6921498562552693,
          1.8652287952130693,
          2.6521469496173515,
          2.6347009104130645,
          4.73485333398142,
          2.4616219714552643,
          2.989877877934609,
          4.074288323919655,
          4.361219492949814,
          2.365215780587193,
          3.5510225827968105,
          3.421619064817347,
          3.3077668347449887,
          4.18674498997545,
          3.1346878957871884,
          4.279418045505429,
          4.150014527525966,
          3.605573100472382,
          3.7593499931346037,
          3.662943802266533,
          3.8630833584958073,
          1.5803000836385364,
          1.4838938927704652,
          2.0482362863846864,
          1.9518300955166152,
          1.8972795778410432,
          2.2533660079704605,
          2.7213022107166105,
          2.6667516930410384,
          2.105606988178837,
          2.5678687899807753,
          3.4789897666114973,
          2.5189926732494152,
          2.875079103378832,
          3.365137536539139,
          3.5066901974121194,
          3.410284006544048,
          2.407142900632682,
          2.310736709764611,
          2.2663328775269305,
          2.778672912510761,
          3.0802088249646062,
          3.0358049927269253,
          4.333968563181001,
          2.939398801858854,
          3.9644797147203783,
          3.5481450277107562,
          5.579898200768861,
          2.38487743107755,
          2.8275490292421215,
          5.1635635137592395,
          4.8198848950281015,
          3.154349546277545,
          3.0579433554094737,
          3.769190620792044,
          5.987476033150813,
          5.236219582037723,
          5.384609106840527,
          2.1544831049101973,
          2.1766214675927458,
          2.6224193076563473,
          2.6445576703388958,
          2.7983345630011174,
          3.2954852319882715,
          4.353630213671357,
          3.192058597581339,
          2.981325921904343,
          3.0998704754549626,
          3.0034642845868915
         ],
         "type": "scatter"
        }
       ],
       "layout": {
        "height": 600,
        "legend": {
         "x": 0,
         "y": 1
        },
        "title": {
         "text": "Pareto Frontier for Multi-objective Knapsack Problem"
        },
        "width": 800,
        "xaxis": {
         "title": {
          "text": "Utility"
         }
        },
        "yaxis": {
         "autorange": "reversed",
         "title": {
          "text": "Cost"
         }
        },
        "template": {
         "data": {
          "histogram2dcontour": [
           {
            "type": "histogram2dcontour",
            "colorbar": {
             "outlinewidth": 0,
             "ticks": ""
            },
            "colorscale": [
             [
              0.0,
              "#0d0887"
             ],
             [
              0.1111111111111111,
              "#46039f"
             ],
             [
              0.2222222222222222,
              "#7201a8"
             ],
             [
              0.3333333333333333,
              "#9c179e"
             ],
             [
              0.4444444444444444,
              "#bd3786"
             ],
             [
              0.5555555555555556,
              "#d8576b"
             ],
             [
              0.6666666666666666,
              "#ed7953"
             ],
             [
              0.7777777777777778,
              "#fb9f3a"
             ],
             [
              0.8888888888888888,
              "#fdca26"
             ],
             [
              1.0,
              "#f0f921"
             ]
            ]
           }
          ],
          "choropleth": [
           {
            "type": "choropleth",
            "colorbar": {
             "outlinewidth": 0,
             "ticks": ""
            }
           }
          ],
          "histogram2d": [
           {
            "type": "histogram2d",
            "colorbar": {
             "outlinewidth": 0,
             "ticks": ""
            },
            "colorscale": [
             [
              0.0,
              "#0d0887"
             ],
             [
              0.1111111111111111,
              "#46039f"
             ],
             [
              0.2222222222222222,
              "#7201a8"
             ],
             [
              0.3333333333333333,
              "#9c179e"
             ],
             [
              0.4444444444444444,
              "#bd3786"
             ],
             [
              0.5555555555555556,
              "#d8576b"
             ],
             [
              0.6666666666666666,
              "#ed7953"
             ],
             [
              0.7777777777777778,
              "#fb9f3a"
             ],
             [
              0.8888888888888888,
              "#fdca26"
             ],
             [
              1.0,
              "#f0f921"
             ]
            ]
           }
          ],
          "heatmap": [
           {
            "type": "heatmap",
            "colorbar": {
             "outlinewidth": 0,
             "ticks": ""
            },
            "colorscale": [
             [
              0.0,
              "#0d0887"
             ],
             [
              0.1111111111111111,
              "#46039f"
             ],
             [
              0.2222222222222222,
              "#7201a8"
             ],
             [
              0.3333333333333333,
              "#9c179e"
             ],
             [
              0.4444444444444444,
              "#bd3786"
             ],
             [
              0.5555555555555556,
              "#d8576b"
             ],
             [
              0.6666666666666666,
              "#ed7953"
             ],
             [
              0.7777777777777778,
              "#fb9f3a"
             ],
             [
              0.8888888888888888,
              "#fdca26"
             ],
             [
              1.0,
              "#f0f921"
             ]
            ]
           }
          ],
          "heatmapgl": [
           {
            "type": "heatmapgl",
            "colorbar": {
             "outlinewidth": 0,
             "ticks": ""
            },
            "colorscale": [
             [
              0.0,
              "#0d0887"
             ],
             [
              0.1111111111111111,
              "#46039f"
             ],
             [
              0.2222222222222222,
              "#7201a8"
             ],
             [
              0.3333333333333333,
              "#9c179e"
             ],
             [
              0.4444444444444444,
              "#bd3786"
             ],
             [
              0.5555555555555556,
              "#d8576b"
             ],
             [
              0.6666666666666666,
              "#ed7953"
             ],
             [
              0.7777777777777778,
              "#fb9f3a"
             ],
             [
              0.8888888888888888,
              "#fdca26"
             ],
             [
              1.0,
              "#f0f921"
             ]
            ]
           }
          ],
          "contourcarpet": [
           {
            "type": "contourcarpet",
            "colorbar": {
             "outlinewidth": 0,
             "ticks": ""
            }
           }
          ],
          "contour": [
           {
            "type": "contour",
            "colorbar": {
             "outlinewidth": 0,
             "ticks": ""
            },
            "colorscale": [
             [
              0.0,
              "#0d0887"
             ],
             [
              0.1111111111111111,
              "#46039f"
             ],
             [
              0.2222222222222222,
              "#7201a8"
             ],
             [
              0.3333333333333333,
              "#9c179e"
             ],
             [
              0.4444444444444444,
              "#bd3786"
             ],
             [
              0.5555555555555556,
              "#d8576b"
             ],
             [
              0.6666666666666666,
              "#ed7953"
             ],
             [
              0.7777777777777778,
              "#fb9f3a"
             ],
             [
              0.8888888888888888,
              "#fdca26"
             ],
             [
              1.0,
              "#f0f921"
             ]
            ]
           }
          ],
          "surface": [
           {
            "type": "surface",
            "colorbar": {
             "outlinewidth": 0,
             "ticks": ""
            },
            "colorscale": [
             [
              0.0,
              "#0d0887"
             ],
             [
              0.1111111111111111,
              "#46039f"
             ],
             [
              0.2222222222222222,
              "#7201a8"
             ],
             [
              0.3333333333333333,
              "#9c179e"
             ],
             [
              0.4444444444444444,
              "#bd3786"
             ],
             [
              0.5555555555555556,
              "#d8576b"
             ],
             [
              0.6666666666666666,
              "#ed7953"
             ],
             [
              0.7777777777777778,
              "#fb9f3a"
             ],
             [
              0.8888888888888888,
              "#fdca26"
             ],
             [
              1.0,
              "#f0f921"
             ]
            ]
           }
          ],
          "mesh3d": [
           {
            "type": "mesh3d",
            "colorbar": {
             "outlinewidth": 0,
             "ticks": ""
            }
           }
          ],
          "scatter": [
           {
            "marker": {
             "line": {
              "color": "#283442"
             }
            },
            "type": "scatter"
           }
          ],
          "parcoords": [
           {
            "type": "parcoords",
            "line": {
             "colorbar": {
              "outlinewidth": 0,
              "ticks": ""
             }
            }
           }
          ],
          "scatterpolargl": [
           {
            "type": "scatterpolargl",
            "marker": {
             "colorbar": {
              "outlinewidth": 0,
              "ticks": ""
             }
            }
           }
          ],
          "bar": [
           {
            "error_x": {
             "color": "#f2f5fa"
            },
            "error_y": {
             "color": "#f2f5fa"
            },
            "marker": {
             "line": {
              "color": "rgb(17,17,17)",
              "width": 0.5
             },
             "pattern": {
              "fillmode": "overlay",
              "size": 10,
              "solidity": 0.2
             }
            },
            "type": "bar"
           }
          ],
          "scattergeo": [
           {
            "type": "scattergeo",
            "marker": {
             "colorbar": {
              "outlinewidth": 0,
              "ticks": ""
             }
            }
           }
          ],
          "scatterpolar": [
           {
            "type": "scatterpolar",
            "marker": {
             "colorbar": {
              "outlinewidth": 0,
              "ticks": ""
             }
            }
           }
          ],
          "histogram": [
           {
            "marker": {
             "pattern": {
              "fillmode": "overlay",
              "size": 10,
              "solidity": 0.2
             }
            },
            "type": "histogram"
           }
          ],
          "scattergl": [
           {
            "marker": {
             "line": {
              "color": "#283442"
             }
            },
            "type": "scattergl"
           }
          ],
          "scatter3d": [
           {
            "type": "scatter3d",
            "line": {
             "colorbar": {
              "outlinewidth": 0,
              "ticks": ""
             }
            },
            "marker": {
             "colorbar": {
              "outlinewidth": 0,
              "ticks": ""
             }
            }
           }
          ],
          "scattermapbox": [
           {
            "type": "scattermapbox",
            "marker": {
             "colorbar": {
              "outlinewidth": 0,
              "ticks": ""
             }
            }
           }
          ],
          "scatterternary": [
           {
            "type": "scatterternary",
            "marker": {
             "colorbar": {
              "outlinewidth": 0,
              "ticks": ""
             }
            }
           }
          ],
          "scattercarpet": [
           {
            "type": "scattercarpet",
            "marker": {
             "colorbar": {
              "outlinewidth": 0,
              "ticks": ""
             }
            }
           }
          ],
          "carpet": [
           {
            "aaxis": {
             "endlinecolor": "#A2B1C6",
             "gridcolor": "#506784",
             "linecolor": "#506784",
             "minorgridcolor": "#506784",
             "startlinecolor": "#A2B1C6"
            },
            "baxis": {
             "endlinecolor": "#A2B1C6",
             "gridcolor": "#506784",
             "linecolor": "#506784",
             "minorgridcolor": "#506784",
             "startlinecolor": "#A2B1C6"
            },
            "type": "carpet"
           }
          ],
          "table": [
           {
            "cells": {
             "fill": {
              "color": "#506784"
             },
             "line": {
              "color": "rgb(17,17,17)"
             }
            },
            "header": {
             "fill": {
              "color": "#2a3f5f"
             },
             "line": {
              "color": "rgb(17,17,17)"
             }
            },
            "type": "table"
           }
          ],
          "barpolar": [
           {
            "marker": {
             "line": {
              "color": "rgb(17,17,17)",
              "width": 0.5
             },
             "pattern": {
              "fillmode": "overlay",
              "size": 10,
              "solidity": 0.2
             }
            },
            "type": "barpolar"
           }
          ],
          "pie": [
           {
            "automargin": true,
            "type": "pie"
           }
          ]
         },
         "layout": {
          "autotypenumbers": "strict",
          "colorway": [
           "#636efa",
           "#EF553B",
           "#00cc96",
           "#ab63fa",
           "#FFA15A",
           "#19d3f3",
           "#FF6692",
           "#B6E880",
           "#FF97FF",
           "#FECB52"
          ],
          "font": {
           "color": "#f2f5fa"
          },
          "hovermode": "closest",
          "hoverlabel": {
           "align": "left"
          },
          "paper_bgcolor": "rgb(17,17,17)",
          "plot_bgcolor": "rgb(17,17,17)",
          "polar": {
           "bgcolor": "rgb(17,17,17)",
           "angularaxis": {
            "gridcolor": "#506784",
            "linecolor": "#506784",
            "ticks": ""
           },
           "radialaxis": {
            "gridcolor": "#506784",
            "linecolor": "#506784",
            "ticks": ""
           }
          },
          "ternary": {
           "bgcolor": "rgb(17,17,17)",
           "aaxis": {
            "gridcolor": "#506784",
            "linecolor": "#506784",
            "ticks": ""
           },
           "baxis": {
            "gridcolor": "#506784",
            "linecolor": "#506784",
            "ticks": ""
           },
           "caxis": {
            "gridcolor": "#506784",
            "linecolor": "#506784",
            "ticks": ""
           }
          },
          "coloraxis": {
           "colorbar": {
            "outlinewidth": 0,
            "ticks": ""
           }
          },
          "colorscale": {
           "sequential": [
            [
             0.0,
             "#0d0887"
            ],
            [
             0.1111111111111111,
             "#46039f"
            ],
            [
             0.2222222222222222,
             "#7201a8"
            ],
            [
             0.3333333333333333,
             "#9c179e"
            ],
            [
             0.4444444444444444,
             "#bd3786"
            ],
            [
             0.5555555555555556,
             "#d8576b"
            ],
            [
             0.6666666666666666,
             "#ed7953"
            ],
            [
             0.7777777777777778,
             "#fb9f3a"
            ],
            [
             0.8888888888888888,
             "#fdca26"
            ],
            [
             1.0,
             "#f0f921"
            ]
           ],
           "sequentialminus": [
            [
             0.0,
             "#0d0887"
            ],
            [
             0.1111111111111111,
             "#46039f"
            ],
            [
             0.2222222222222222,
             "#7201a8"
            ],
            [
             0.3333333333333333,
             "#9c179e"
            ],
            [
             0.4444444444444444,
             "#bd3786"
            ],
            [
             0.5555555555555556,
             "#d8576b"
            ],
            [
             0.6666666666666666,
             "#ed7953"
            ],
            [
             0.7777777777777778,
             "#fb9f3a"
            ],
            [
             0.8888888888888888,
             "#fdca26"
            ],
            [
             1.0,
             "#f0f921"
            ]
           ],
           "diverging": [
            [
             0,
             "#8e0152"
            ],
            [
             0.1,
             "#c51b7d"
            ],
            [
             0.2,
             "#de77ae"
            ],
            [
             0.3,
             "#f1b6da"
            ],
            [
             0.4,
             "#fde0ef"
            ],
            [
             0.5,
             "#f7f7f7"
            ],
            [
             0.6,
             "#e6f5d0"
            ],
            [
             0.7,
             "#b8e186"
            ],
            [
             0.8,
             "#7fbc41"
            ],
            [
             0.9,
             "#4d9221"
            ],
            [
             1,
             "#276419"
            ]
           ]
          },
          "xaxis": {
           "gridcolor": "#283442",
           "linecolor": "#506784",
           "ticks": "",
           "title": {
            "standoff": 15
           },
           "zerolinecolor": "#283442",
           "automargin": true,
           "zerolinewidth": 2
          },
          "yaxis": {
           "gridcolor": "#283442",
           "linecolor": "#506784",
           "ticks": "",
           "title": {
            "standoff": 15
           },
           "zerolinecolor": "#283442",
           "automargin": true,
           "zerolinewidth": 2
          },
          "scene": {
           "xaxis": {
            "backgroundcolor": "rgb(17,17,17)",
            "gridcolor": "#506784",
            "linecolor": "#506784",
            "showbackground": true,
            "ticks": "",
            "zerolinecolor": "#C8D4E3",
            "gridwidth": 2
           },
           "yaxis": {
            "backgroundcolor": "rgb(17,17,17)",
            "gridcolor": "#506784",
            "linecolor": "#506784",
            "showbackground": true,
            "ticks": "",
            "zerolinecolor": "#C8D4E3",
            "gridwidth": 2
           },
           "zaxis": {
            "backgroundcolor": "rgb(17,17,17)",
            "gridcolor": "#506784",
            "linecolor": "#506784",
            "showbackground": true,
            "ticks": "",
            "zerolinecolor": "#C8D4E3",
            "gridwidth": 2
           }
          },
          "shapedefaults": {
           "line": {
            "color": "#f2f5fa"
           }
          },
          "annotationdefaults": {
           "arrowcolor": "#f2f5fa",
           "arrowhead": 0,
           "arrowwidth": 1
          },
          "geo": {
           "bgcolor": "rgb(17,17,17)",
           "landcolor": "rgb(17,17,17)",
           "subunitcolor": "#506784",
           "showland": true,
           "showlakes": true,
           "lakecolor": "rgb(17,17,17)"
          },
          "title": {
           "x": 0.05
          },
          "updatemenudefaults": {
           "bgcolor": "#506784",
           "borderwidth": 0
          },
          "sliderdefaults": {
           "bgcolor": "#C8D4E3",
           "borderwidth": 1,
           "bordercolor": "rgb(17,17,17)",
           "tickwidth": 0
          },
          "mapbox": {
           "style": "dark"
          }
         }
        }
       },
       "config": {
        "plotlyServerURL": "https://plot.ly"
       }
      },
      "text/html": "<div>                            <div id=\"e96bbe62-38d5-482e-823e-9e0936f5253d\" class=\"plotly-graph-div\" style=\"height:600px; width:800px;\"></div>            <script type=\"text/javascript\">                require([\"plotly\"], function(Plotly) {                    window.PLOTLYENV=window.PLOTLYENV || {};                                    if (document.getElementById(\"e96bbe62-38d5-482e-823e-9e0936f5253d\")) {                    Plotly.newPlot(                        \"e96bbe62-38d5-482e-823e-9e0936f5253d\",                        [{\"marker\":{\"color\":\"blue\"},\"mode\":\"markers\",\"name\":\"Non-dominated\",\"x\":[0,73,121,192,167,238,195,266,241,312,142,190,261,236,307,264,335,392,310,381,438,415,476,387,390,461,518,495,538,595,572,556,613,707,633,690,469,526,564,715,704,698,737,739,549,606,583,628,626,683,722,644],\"y\":[0.0,0.012500914270159869,0.0728592846343592,0.31259424921292156,0.17130663891988618,0.41104160349844854,0.3185302121254371,0.5582651767039994,0.41697756641096406,0.6567125309895264,0.16661635171917466,0.226974722083374,0.46670968666193635,0.32542207636890097,0.5651570409474633,0.4726456495744519,0.7123806141530142,1.1803168168991642,0.5710930038599789,0.8108279684385412,1.278764171184691,1.2242136535091193,1.6376707854326868,1.1393400622191243,1.1452760251316398,1.3850109897102023,1.8529471924563523,1.7983966747807805,2.0580769140421262,2.5260131167882762,2.471462599112704,2.2118538067043483,2.679790009450498,4.138679469252667,2.884919731036272,3.352855933782422,1.5035555432608216,1.9714917460069716,2.3303983602549674,4.257224022803287,3.887735174342663,3.4714004873330415,4.558759935257132,5.910731492773097,2.077738564532483,2.5456747672786326,2.491124249603061,2.847210679732478,2.7508044888644068,3.2187406916105568,4.306100139534647,2.9045813815266284],\"type\":\"scatter\"},{\"marker\":{\"color\":\"red\",\"symbol\":\"x\"},\"mode\":\"markers\",\"name\":\"Dominated\",\"x\":[63,57,120,111,105,168,134,182,191,290,71,128,153,151,216,215,210,273,278,249,239,228,312,329,336,375,369,285,262,295,289,358,352,328,319,324,307,391,408,415,176,179,244,261,278,341,340,222,199,227,225,301,256,284,335,347,313,302,364,374,403,398,410,449,443,359,336,369,363,437,432,426,402,393,398,381,465,482,489,335,352,415,379,487,520,448,438,414,436,446,440,477,511,514,509,503,479,472,470,475,458,542,48,119,94,122,165,168,178,144,193,224,250,273,318,316,301,332,373,350,358,335,412,407,395,380,411,239,249,252,296,317,330,334,351,414,413,295,272,300,298,375,374,329,357,409,429,408,420,386,375,452,437,471,492,491,488,527,432,409,442,436,486,505,499,475,466,471,454,515,525,522,538,549,551,408,425,488,452,554,553,521,511,487,509,519,513,550,582,576,552,545,543,548,531,403,405,485,484,482,527,594,599,565,564,561,480,615,610,609,559,614,613,588,606,582,604,608,213,346,323,318,321,391,389,423,369,364,341,367,407,398,426,498,486,448,446,468,464,444,502,484,501,478,511,505,577,575,580,579,525,543,541,535,523,477,494,563,557,521,597,637,590,580,556,578,588,582,626,645,650,621,620,614,612,600,472,474,554,553,667,551,596,663,668,549,634,633,630,678,628,683,682,657,675,673,677,460,458,517,515,492,537,594,571,533,574,649,567,612,646,660,658,555,553,552,610,632,631,706,629,695,689,721,560,617,715,712,639,637,696,730,718,722,540,546,597,603,621,674,717,644,635,643,641],\"y\":[0.8842708897557718,0.46793620274615,1.3522070925019218,0.9446292601199712,0.5282945731103493,1.4125654628661213,1.1240058543343343,1.1843642246985335,1.5919420570804843,2.77342353956449,0.23973496457856236,0.7076711673247124,0.7134790200133397,0.6267419273958763,1.5977499097691117,1.468346391789648,1.1814152227594898,2.0656861125152615,2.3526172815454203,1.881732076860226,1.6523004274446835,1.2828115789840604,2.766002966615998,3.4737403936652265,2.871870893850017,3.5721877479507533,3.5428956547644854,1.7507477817302104,1.6961972640546388,1.980179431145753,1.9508873379594849,2.864450320901525,2.835158227715257,2.651204192060221,2.1641334668007888,2.451064635830947,2.0522836941840557,3.535475081815993,4.243212508865222,3.6413430090500123,0.7680295376889117,0.7739655006014272,1.1680128044282838,1.566793746075175,1.581398489498862,2.4656693792546336,2.33626586127517,0.8664768919744387,0.8119263742988667,0.9591499475044176,0.8724128548869542,1.635949007174434,1.2798625770450167,1.4270861502505676,2.049334692245012,2.3113570400063397,1.8979713549357613,1.5284825064751384,2.520219896930206,2.7496515463457483,3.220536751030942,2.933605582000784,3.117541821341095,3.817858675441831,3.788566582255563,1.9964187092212884,1.9418681915457165,2.225850358636831,2.196558265450563,3.63392243610152,3.110121248392603,3.080829155206335,2.896875119551299,2.4098043942918665,2.696735563322025,2.2979546216751334,3.781146009307071,4.488883436356299,3.88701393654109,1.8124646735662528,1.8270694169899397,2.7113403067457114,2.2015484308070623,3.7906077456730185,4.461632506587487,2.995322473836826,2.765890824421284,2.5819367887662477,2.6694846335532123,2.898916282968755,2.869624189782487,3.4662076785220197,3.8795933635925977,4.306988360433444,3.783187172724527,3.753895079538259,3.569941043883223,3.179276509491862,3.0828703186237902,3.3698014876539486,2.9710205460070576,4.4542119336389945,0.06035837036419933,0.3000933349427617,0.1588057246497263,0.3060292978552772,0.39854068922828867,0.4044766521408042,0.5407954873805092,0.25223587884872223,0.5457642624338396,0.6392428416660362,1.0137004651799897,1.0575973017899445,1.4136837319193618,1.3172775410512907,1.2953124932542204,1.6986124434938947,1.7852137437974407,1.7306632261218686,1.7632486960003706,1.7086981783247985,2.485530597898177,2.1985994288680186,2.0867496562512855,2.0647846084542154,2.46808455869389,0.6442116167193666,0.7805304519590716,0.7864664148715871,1.1121478194655166,1.1805137186984438,1.5255335045360945,1.5792946603453348,1.5938994037690217,2.478170293524794,2.34876677554533,0.8789778062445985,0.8244272885690266,0.9716508617745775,0.8849137691571141,1.8816199346655118,1.6484499214445938,1.2923634913151765,1.4395870645207274,2.2950056197360897,2.500135341321864,2.0618356065151717,2.3238579542764994,1.9104722692059215,1.5409834207452984,2.554685858997436,2.5327208112003654,2.9461064962709433,3.3844062310776355,3.255002713098172,3.1411504830258137,3.84146733712655,2.0089196234914484,1.9543691058158763,2.2383512729069905,2.2090591797207226,2.968071544068014,3.122622162662762,3.0933300694764942,2.909376033821459,2.4223053085620263,2.7092364775921842,2.3104555359452936,3.4389567487532076,3.6683883981687497,3.554536168096392,3.793646923577231,3.852342433823786,4.025421372781586,1.8249655878364126,1.8395703312600995,2.7238412210158716,2.214049345077222,4.139273602853944,3.9061035896330263,3.007823388106986,2.778391738691443,2.594437703036408,2.6819855478233725,2.9114171972389147,2.8821251040526468,3.47870859279218,3.7956880869946863,3.7663959938084184,3.582441958153383,3.191777423762021,3.0953712328939504,3.3823024019241084,2.9835214602772178,1.5380344188062545,1.7111133577640545,2.4980315121683367,2.4805854729640497,2.3075065340062495,2.835762440485594,3.92017288647064,4.207104055500799,3.3969071453477957,3.267503627368332,3.153651397295974,2.2111003431381784,4.466712847909155,4.265799565747353,4.032629552526435,2.9805724583381736,4.125302608056415,3.995899090076951,3.4514576630233673,3.605234555685589,3.4212805200305536,3.5088283648175183,3.7089679210467925,0.406351316297737,1.0700982160601045,1.0262013794501494,0.9346458894080863,0.9405818523206019,1.4261846461895216,1.3297784553214504,1.7431641403920284,1.1246487337356763,1.0330932436936133,0.9785427260180414,1.0390292066061289,1.483555347983672,1.4464789287641913,1.5937025019697422,2.3648772358004004,2.2530274631836673,1.8941208489356716,1.7977146580676004,2.0992505705214457,1.951491550729822,1.6950988581943132,2.5126362555920236,2.156621272315596,2.163035060940463,2.108484543264891,2.3924667103560053,2.3631746171697374,3.1343493510003952,3.037943160132324,3.3248743291624825,3.3074282899581955,2.5671867732675957,2.7209636659298173,2.624557475061746,2.576420746011041,2.4645709733943084,1.9790810252854274,1.9936857687091143,2.9260933875155914,2.8779566584648864,2.368164782526237,3.3394790725861694,4.179853125731986,3.1619388255560006,2.932507176140458,2.7485531404854227,2.8361009852723873,3.0655326346879295,3.0362405415016616,3.8103642772713635,3.920511431257433,4.2074426002875915,3.736557395602398,3.3940295902617414,3.345892861211036,3.2494866703429652,3.1376368977262326,1.6921498562552693,1.8652287952130693,2.6521469496173515,2.6347009104130645,4.73485333398142,2.4616219714552643,2.989877877934609,4.074288323919655,4.361219492949814,2.365215780587193,3.5510225827968105,3.421619064817347,3.3077668347449887,4.18674498997545,3.1346878957871884,4.279418045505429,4.150014527525966,3.605573100472382,3.7593499931346037,3.662943802266533,3.8630833584958073,1.5803000836385364,1.4838938927704652,2.0482362863846864,1.9518300955166152,1.8972795778410432,2.2533660079704605,2.7213022107166105,2.6667516930410384,2.105606988178837,2.5678687899807753,3.4789897666114973,2.5189926732494152,2.875079103378832,3.365137536539139,3.5066901974121194,3.410284006544048,2.407142900632682,2.310736709764611,2.2663328775269305,2.778672912510761,3.0802088249646062,3.0358049927269253,4.333968563181001,2.939398801858854,3.9644797147203783,3.5481450277107562,5.579898200768861,2.38487743107755,2.8275490292421215,5.1635635137592395,4.8198848950281015,3.154349546277545,3.0579433554094737,3.769190620792044,5.987476033150813,5.236219582037723,5.384609106840527,2.1544831049101973,2.1766214675927458,2.6224193076563473,2.6445576703388958,2.7983345630011174,3.2954852319882715,4.353630213671357,3.192058597581339,2.981325921904343,3.0998704754549626,3.0034642845868915],\"type\":\"scatter\"}],                        {\"height\":600,\"legend\":{\"x\":0,\"y\":1},\"title\":{\"text\":\"Pareto Frontier for Multi-objective Knapsack Problem\"},\"width\":800,\"xaxis\":{\"title\":{\"text\":\"Utility\"}},\"yaxis\":{\"autorange\":\"reversed\",\"title\":{\"text\":\"Cost\"}},\"template\":{\"data\":{\"histogram2dcontour\":[{\"type\":\"histogram2dcontour\",\"colorbar\":{\"outlinewidth\":0,\"ticks\":\"\"},\"colorscale\":[[0.0,\"#0d0887\"],[0.1111111111111111,\"#46039f\"],[0.2222222222222222,\"#7201a8\"],[0.3333333333333333,\"#9c179e\"],[0.4444444444444444,\"#bd3786\"],[0.5555555555555556,\"#d8576b\"],[0.6666666666666666,\"#ed7953\"],[0.7777777777777778,\"#fb9f3a\"],[0.8888888888888888,\"#fdca26\"],[1.0,\"#f0f921\"]]}],\"choropleth\":[{\"type\":\"choropleth\",\"colorbar\":{\"outlinewidth\":0,\"ticks\":\"\"}}],\"histogram2d\":[{\"type\":\"histogram2d\",\"colorbar\":{\"outlinewidth\":0,\"ticks\":\"\"},\"colorscale\":[[0.0,\"#0d0887\"],[0.1111111111111111,\"#46039f\"],[0.2222222222222222,\"#7201a8\"],[0.3333333333333333,\"#9c179e\"],[0.4444444444444444,\"#bd3786\"],[0.5555555555555556,\"#d8576b\"],[0.6666666666666666,\"#ed7953\"],[0.7777777777777778,\"#fb9f3a\"],[0.8888888888888888,\"#fdca26\"],[1.0,\"#f0f921\"]]}],\"heatmap\":[{\"type\":\"heatmap\",\"colorbar\":{\"outlinewidth\":0,\"ticks\":\"\"},\"colorscale\":[[0.0,\"#0d0887\"],[0.1111111111111111,\"#46039f\"],[0.2222222222222222,\"#7201a8\"],[0.3333333333333333,\"#9c179e\"],[0.4444444444444444,\"#bd3786\"],[0.5555555555555556,\"#d8576b\"],[0.6666666666666666,\"#ed7953\"],[0.7777777777777778,\"#fb9f3a\"],[0.8888888888888888,\"#fdca26\"],[1.0,\"#f0f921\"]]}],\"heatmapgl\":[{\"type\":\"heatmapgl\",\"colorbar\":{\"outlinewidth\":0,\"ticks\":\"\"},\"colorscale\":[[0.0,\"#0d0887\"],[0.1111111111111111,\"#46039f\"],[0.2222222222222222,\"#7201a8\"],[0.3333333333333333,\"#9c179e\"],[0.4444444444444444,\"#bd3786\"],[0.5555555555555556,\"#d8576b\"],[0.6666666666666666,\"#ed7953\"],[0.7777777777777778,\"#fb9f3a\"],[0.8888888888888888,\"#fdca26\"],[1.0,\"#f0f921\"]]}],\"contourcarpet\":[{\"type\":\"contourcarpet\",\"colorbar\":{\"outlinewidth\":0,\"ticks\":\"\"}}],\"contour\":[{\"type\":\"contour\",\"colorbar\":{\"outlinewidth\":0,\"ticks\":\"\"},\"colorscale\":[[0.0,\"#0d0887\"],[0.1111111111111111,\"#46039f\"],[0.2222222222222222,\"#7201a8\"],[0.3333333333333333,\"#9c179e\"],[0.4444444444444444,\"#bd3786\"],[0.5555555555555556,\"#d8576b\"],[0.6666666666666666,\"#ed7953\"],[0.7777777777777778,\"#fb9f3a\"],[0.8888888888888888,\"#fdca26\"],[1.0,\"#f0f921\"]]}],\"surface\":[{\"type\":\"surface\",\"colorbar\":{\"outlinewidth\":0,\"ticks\":\"\"},\"colorscale\":[[0.0,\"#0d0887\"],[0.1111111111111111,\"#46039f\"],[0.2222222222222222,\"#7201a8\"],[0.3333333333333333,\"#9c179e\"],[0.4444444444444444,\"#bd3786\"],[0.5555555555555556,\"#d8576b\"],[0.6666666666666666,\"#ed7953\"],[0.7777777777777778,\"#fb9f3a\"],[0.8888888888888888,\"#fdca26\"],[1.0,\"#f0f921\"]]}],\"mesh3d\":[{\"type\":\"mesh3d\",\"colorbar\":{\"outlinewidth\":0,\"ticks\":\"\"}}],\"scatter\":[{\"marker\":{\"line\":{\"color\":\"#283442\"}},\"type\":\"scatter\"}],\"parcoords\":[{\"type\":\"parcoords\",\"line\":{\"colorbar\":{\"outlinewidth\":0,\"ticks\":\"\"}}}],\"scatterpolargl\":[{\"type\":\"scatterpolargl\",\"marker\":{\"colorbar\":{\"outlinewidth\":0,\"ticks\":\"\"}}}],\"bar\":[{\"error_x\":{\"color\":\"#f2f5fa\"},\"error_y\":{\"color\":\"#f2f5fa\"},\"marker\":{\"line\":{\"color\":\"rgb(17,17,17)\",\"width\":0.5},\"pattern\":{\"fillmode\":\"overlay\",\"size\":10,\"solidity\":0.2}},\"type\":\"bar\"}],\"scattergeo\":[{\"type\":\"scattergeo\",\"marker\":{\"colorbar\":{\"outlinewidth\":0,\"ticks\":\"\"}}}],\"scatterpolar\":[{\"type\":\"scatterpolar\",\"marker\":{\"colorbar\":{\"outlinewidth\":0,\"ticks\":\"\"}}}],\"histogram\":[{\"marker\":{\"pattern\":{\"fillmode\":\"overlay\",\"size\":10,\"solidity\":0.2}},\"type\":\"histogram\"}],\"scattergl\":[{\"marker\":{\"line\":{\"color\":\"#283442\"}},\"type\":\"scattergl\"}],\"scatter3d\":[{\"type\":\"scatter3d\",\"line\":{\"colorbar\":{\"outlinewidth\":0,\"ticks\":\"\"}},\"marker\":{\"colorbar\":{\"outlinewidth\":0,\"ticks\":\"\"}}}],\"scattermapbox\":[{\"type\":\"scattermapbox\",\"marker\":{\"colorbar\":{\"outlinewidth\":0,\"ticks\":\"\"}}}],\"scatterternary\":[{\"type\":\"scatterternary\",\"marker\":{\"colorbar\":{\"outlinewidth\":0,\"ticks\":\"\"}}}],\"scattercarpet\":[{\"type\":\"scattercarpet\",\"marker\":{\"colorbar\":{\"outlinewidth\":0,\"ticks\":\"\"}}}],\"carpet\":[{\"aaxis\":{\"endlinecolor\":\"#A2B1C6\",\"gridcolor\":\"#506784\",\"linecolor\":\"#506784\",\"minorgridcolor\":\"#506784\",\"startlinecolor\":\"#A2B1C6\"},\"baxis\":{\"endlinecolor\":\"#A2B1C6\",\"gridcolor\":\"#506784\",\"linecolor\":\"#506784\",\"minorgridcolor\":\"#506784\",\"startlinecolor\":\"#A2B1C6\"},\"type\":\"carpet\"}],\"table\":[{\"cells\":{\"fill\":{\"color\":\"#506784\"},\"line\":{\"color\":\"rgb(17,17,17)\"}},\"header\":{\"fill\":{\"color\":\"#2a3f5f\"},\"line\":{\"color\":\"rgb(17,17,17)\"}},\"type\":\"table\"}],\"barpolar\":[{\"marker\":{\"line\":{\"color\":\"rgb(17,17,17)\",\"width\":0.5},\"pattern\":{\"fillmode\":\"overlay\",\"size\":10,\"solidity\":0.2}},\"type\":\"barpolar\"}],\"pie\":[{\"automargin\":true,\"type\":\"pie\"}]},\"layout\":{\"autotypenumbers\":\"strict\",\"colorway\":[\"#636efa\",\"#EF553B\",\"#00cc96\",\"#ab63fa\",\"#FFA15A\",\"#19d3f3\",\"#FF6692\",\"#B6E880\",\"#FF97FF\",\"#FECB52\"],\"font\":{\"color\":\"#f2f5fa\"},\"hovermode\":\"closest\",\"hoverlabel\":{\"align\":\"left\"},\"paper_bgcolor\":\"rgb(17,17,17)\",\"plot_bgcolor\":\"rgb(17,17,17)\",\"polar\":{\"bgcolor\":\"rgb(17,17,17)\",\"angularaxis\":{\"gridcolor\":\"#506784\",\"linecolor\":\"#506784\",\"ticks\":\"\"},\"radialaxis\":{\"gridcolor\":\"#506784\",\"linecolor\":\"#506784\",\"ticks\":\"\"}},\"ternary\":{\"bgcolor\":\"rgb(17,17,17)\",\"aaxis\":{\"gridcolor\":\"#506784\",\"linecolor\":\"#506784\",\"ticks\":\"\"},\"baxis\":{\"gridcolor\":\"#506784\",\"linecolor\":\"#506784\",\"ticks\":\"\"},\"caxis\":{\"gridcolor\":\"#506784\",\"linecolor\":\"#506784\",\"ticks\":\"\"}},\"coloraxis\":{\"colorbar\":{\"outlinewidth\":0,\"ticks\":\"\"}},\"colorscale\":{\"sequential\":[[0.0,\"#0d0887\"],[0.1111111111111111,\"#46039f\"],[0.2222222222222222,\"#7201a8\"],[0.3333333333333333,\"#9c179e\"],[0.4444444444444444,\"#bd3786\"],[0.5555555555555556,\"#d8576b\"],[0.6666666666666666,\"#ed7953\"],[0.7777777777777778,\"#fb9f3a\"],[0.8888888888888888,\"#fdca26\"],[1.0,\"#f0f921\"]],\"sequentialminus\":[[0.0,\"#0d0887\"],[0.1111111111111111,\"#46039f\"],[0.2222222222222222,\"#7201a8\"],[0.3333333333333333,\"#9c179e\"],[0.4444444444444444,\"#bd3786\"],[0.5555555555555556,\"#d8576b\"],[0.6666666666666666,\"#ed7953\"],[0.7777777777777778,\"#fb9f3a\"],[0.8888888888888888,\"#fdca26\"],[1.0,\"#f0f921\"]],\"diverging\":[[0,\"#8e0152\"],[0.1,\"#c51b7d\"],[0.2,\"#de77ae\"],[0.3,\"#f1b6da\"],[0.4,\"#fde0ef\"],[0.5,\"#f7f7f7\"],[0.6,\"#e6f5d0\"],[0.7,\"#b8e186\"],[0.8,\"#7fbc41\"],[0.9,\"#4d9221\"],[1,\"#276419\"]]},\"xaxis\":{\"gridcolor\":\"#283442\",\"linecolor\":\"#506784\",\"ticks\":\"\",\"title\":{\"standoff\":15},\"zerolinecolor\":\"#283442\",\"automargin\":true,\"zerolinewidth\":2},\"yaxis\":{\"gridcolor\":\"#283442\",\"linecolor\":\"#506784\",\"ticks\":\"\",\"title\":{\"standoff\":15},\"zerolinecolor\":\"#283442\",\"automargin\":true,\"zerolinewidth\":2},\"scene\":{\"xaxis\":{\"backgroundcolor\":\"rgb(17,17,17)\",\"gridcolor\":\"#506784\",\"linecolor\":\"#506784\",\"showbackground\":true,\"ticks\":\"\",\"zerolinecolor\":\"#C8D4E3\",\"gridwidth\":2},\"yaxis\":{\"backgroundcolor\":\"rgb(17,17,17)\",\"gridcolor\":\"#506784\",\"linecolor\":\"#506784\",\"showbackground\":true,\"ticks\":\"\",\"zerolinecolor\":\"#C8D4E3\",\"gridwidth\":2},\"zaxis\":{\"backgroundcolor\":\"rgb(17,17,17)\",\"gridcolor\":\"#506784\",\"linecolor\":\"#506784\",\"showbackground\":true,\"ticks\":\"\",\"zerolinecolor\":\"#C8D4E3\",\"gridwidth\":2}},\"shapedefaults\":{\"line\":{\"color\":\"#f2f5fa\"}},\"annotationdefaults\":{\"arrowcolor\":\"#f2f5fa\",\"arrowhead\":0,\"arrowwidth\":1},\"geo\":{\"bgcolor\":\"rgb(17,17,17)\",\"landcolor\":\"rgb(17,17,17)\",\"subunitcolor\":\"#506784\",\"showland\":true,\"showlakes\":true,\"lakecolor\":\"rgb(17,17,17)\"},\"title\":{\"x\":0.05},\"updatemenudefaults\":{\"bgcolor\":\"#506784\",\"borderwidth\":0},\"sliderdefaults\":{\"bgcolor\":\"#C8D4E3\",\"borderwidth\":1,\"bordercolor\":\"rgb(17,17,17)\",\"tickwidth\":0},\"mapbox\":{\"style\":\"dark\"}}}},                        {\"responsive\": true}                    ).then(function(){\n                            \nvar gd = document.getElementById('e96bbe62-38d5-482e-823e-9e0936f5253d');\nvar x = new MutationObserver(function (mutations, observer) {{\n        var display = window.getComputedStyle(gd).display;\n        if (!display || display === 'none') {{\n            console.log([gd, 'removed!']);\n            Plotly.purge(gd);\n            observer.disconnect();\n        }}\n}});\n\n// Listen for the removal of the full notebook cells\nvar notebookContainer = gd.closest('#notebook-container');\nif (notebookContainer) {{\n    x.observe(notebookContainer, {childList: true});\n}}\n\n// Listen for the clearing of the current output cell\nvar outputEl = gd.closest('.output');\nif (outputEl) {{\n    x.observe(outputEl, {childList: true});\n}}\n\n                        })                };                });            </script>        </div>"
     },
     "metadata": {},
     "output_type": "display_data"
    }
   ],
   "source": [
    "P_fe, D_all_fe = knapsack_fe(item_weights, item_utilities, item_costs, W=300) # weight limit=W\n",
    "draw_pareto_frontier(P_fe, D_all_fe,item_costs=item_costs,item_utilities=item_utilities)"
   ]
  },
  {
   "cell_type": "code",
   "execution_count": null,
   "outputs": [],
   "source": [],
   "metadata": {
    "collapsed": false
   }
  }
 ],
 "metadata": {
  "kernelspec": {
   "display_name": "Python 3 (ipykernel)",
   "language": "python",
   "name": "python3"
  },
  "language_info": {
   "codemirror_mode": {
    "name": "ipython",
    "version": 3
   },
   "file_extension": ".py",
   "mimetype": "text/x-python",
   "name": "python",
   "nbconvert_exporter": "python",
   "pygments_lexer": "ipython3",
   "version": "3.11.5"
  },
  "varInspector": {
   "cols": {
    "lenName": 16,
    "lenType": 16,
    "lenVar": 40
   },
   "kernels_config": {
    "python": {
     "delete_cmd_postfix": "",
     "delete_cmd_prefix": "del ",
     "library": "var_list.py",
     "varRefreshCmd": "print(var_dic_list())"
    },
    "r": {
     "delete_cmd_postfix": ") ",
     "delete_cmd_prefix": "rm(",
     "library": "var_list.r",
     "varRefreshCmd": "cat(var_dic_list()) "
    }
   },
   "types_to_exclude": [
    "module",
    "function",
    "builtin_function_or_method",
    "instance",
    "_Feature"
   ],
   "window_display": false
  }
 },
 "nbformat": 4,
 "nbformat_minor": 4
}
